{
  "cells": [
    {
      "cell_type": "code",
      "execution_count": null,
      "metadata": {
        "colab": {
          "base_uri": "https://localhost:8080/"
        },
        "id": "3JrM_oMm5wAk",
        "outputId": "e80f6448-1aa4-4431-ae97-a946aab6a38f"
      },
      "outputs": [
        {
          "name": "stdout",
          "output_type": "stream",
          "text": [
            "\u001b[2K     \u001b[90m━━━━━━━━━━━━━━━━━━━━━━━━━━━━━━━━━━━━━━━━\u001b[0m \u001b[32m5.8/5.8 MB\u001b[0m \u001b[31m42.5 MB/s\u001b[0m eta \u001b[36m0:00:00\u001b[0m\n",
            "\u001b[2K     \u001b[90m━━━━━━━━━━━━━━━━━━━━━━━━━━━━━━━━━━━━━━━\u001b[0m \u001b[32m182.4/182.4 KB\u001b[0m \u001b[31m7.3 MB/s\u001b[0m eta \u001b[36m0:00:00\u001b[0m\n",
            "\u001b[2K     \u001b[90m━━━━━━━━━━━━━━━━━━━━━━━━━━━━━━━━━━━━━━━━\u001b[0m \u001b[32m7.6/7.6 MB\u001b[0m \u001b[31m65.6 MB/s\u001b[0m eta \u001b[36m0:00:00\u001b[0m\n",
            "\u001b[2K     \u001b[90m━━━━━━━━━━━━━━━━━━━━━━━━━━━━━━━━━━━━━━\u001b[0m \u001b[32m452.9/452.9 KB\u001b[0m \u001b[31m24.0 MB/s\u001b[0m eta \u001b[36m0:00:00\u001b[0m\n",
            "\u001b[2K     \u001b[90m━━━━━━━━━━━━━━━━━━━━━━━━━━━━━━━━━━━━━━━━\u001b[0m \u001b[32m1.3/1.3 MB\u001b[0m \u001b[31m33.0 MB/s\u001b[0m eta \u001b[36m0:00:00\u001b[0m\n",
            "\u001b[2K     \u001b[90m━━━━━━━━━━━━━━━━━━━━━━━━━━━━━━━━━━━━━━\u001b[0m \u001b[32m213.0/213.0 KB\u001b[0m \u001b[31m22.5 MB/s\u001b[0m eta \u001b[36m0:00:00\u001b[0m\n",
            "\u001b[2K     \u001b[90m━━━━━━━━━━━━━━━━━━━━━━━━━━━━━━━━━━━━━━\u001b[0m \u001b[32m132.0/132.0 KB\u001b[0m \u001b[31m17.5 MB/s\u001b[0m eta \u001b[36m0:00:00\u001b[0m\n",
            "\u001b[2K     \u001b[90m━━━━━━━━━━━━━━━━━━━━━━━━━━━━━━━━━━━━━━\u001b[0m \u001b[32m140.6/140.6 KB\u001b[0m \u001b[31m16.8 MB/s\u001b[0m eta \u001b[36m0:00:00\u001b[0m\n",
            "Reading package lists... Done\n",
            "Building dependency tree       \n",
            "Reading state information... Done\n",
            "git-lfs is already the newest version (2.9.2-1).\n",
            "0 upgraded, 0 newly installed, 0 to remove and 23 not upgraded.\n"
          ]
        }
      ],
      "source": [
        "!pip install -q \"transformers>=4.22.0\" # comment in when version is released\n",
        "!pip install -q datasets sentencepiece tensorboard\n",
        "# install git-fls for pushing model and logs to the hugging face hub\n",
        "!sudo apt-get install git-lfs --yes\n"
      ]
    },
    {
      "cell_type": "code",
      "execution_count": null,
      "metadata": {
        "colab": {
          "base_uri": "https://localhost:8080/"
        },
        "id": "uINYvdwLE7Sg",
        "outputId": "255ee07f-4e98-4d0e-e0ac-a8c18d3b4d89"
      },
      "outputs": [
        {
          "name": "stdout",
          "output_type": "stream",
          "text": [
            "Mounted at /content/drive\n"
          ]
        }
      ],
      "source": [
        "from google.colab import drive\n",
        "drive.mount('/content/drive')"
      ]
    },
    {
      "cell_type": "code",
      "execution_count": null,
      "metadata": {
        "id": "iznM8kYp4iGX"
      },
      "outputs": [],
      "source": [
        "!unzip /content/drive/MyDrive/datset10000.zip"
      ]
    },
    {
      "cell_type": "code",
      "execution_count": null,
      "metadata": {
        "colab": {
          "base_uri": "https://localhost:8080/",
          "height": 252,
          "referenced_widgets": [
            "755fde8b582449c5ac019fbe7639d93a",
            "ec9bfbb6fbe24a539df6ae309f51d923",
            "e43eae068baa46ad8e74b14d5fee2290",
            "e12732c579024d779cac757c3d34cfe5",
            "008eefd938cb46dd96f110f2dd015d9d",
            "f3a5a6ee6d96441bb2816fa8f6558677",
            "aede00c9ec654ae3b49751eed252b057",
            "94633f43fd3f44318208527a63dcdbaa",
            "a7c2c5255b3240c0bd1232343d3d7a81",
            "253d6d78adf14a3a8be44a6db7e110e6",
            "f05585624d2d4f23949f4b39ff71c84a",
            "ad8958f27eff4638be247e57023af6cf",
            "190dd6e10c4f4788867a99e2e69ab694",
            "72f3cf8725014b9b9d800b4405e6d99c",
            "7a0a9fc8fbab4b79b6968766f5a81569",
            "b12431289bd34f699dced8505ee9a5ea",
            "f4449d5a0187410791c67b5436c34b5f",
            "97485f484afd48f5876b74556f3ed4f9",
            "5d6636f5d70349429d2dff5798e110d1",
            "eb2355578a994319ba99c31c78d43512",
            "275cedecc4484969be598335e3b5e9ad",
            "114575c2983f4c379e355d61d231081f",
            "68ff46e9d0304d62b64d21a24eb7fb9b",
            "df1b65d8dc3b43dba19691cf2267e904",
            "3af51764da184657b4122546157d65e2",
            "348e2c0f36f3416991370d04e778998d",
            "3914bc3533da41bb94e7d4abc74f7660",
            "7758de1d57db49c69b4586909900762f",
            "ae09cd39e6194b3796b5f4dffc761b96",
            "31154c988f1b4829aa1239f1655a254b",
            "e758d6b9126949fa8c2de25e85430f04",
            "a943511357ab48d1bc291941dd64efa2",
            "294da4c2dd1349e4a3a8f3d033cfcd8e",
            "19ac338885c047c1a764fa7c406b069e",
            "2f6ec01cc60e4f6e835f0fdebb2d6e6c",
            "1ad8cf4491c24ea299f3d402000e0936",
            "c2ed7097bed94f188005c110f690c9be",
            "4c3fe0bc02564852a64ad68ab4c377a7",
            "2bfa6c244b634095b9016ed23d56a67d",
            "b8ac931b951243b6aaac052e06b7e67e",
            "3154d5b62b6449969c2e69e003e6ed0b",
            "c6f90c0850c948468610fa834b34d0e8",
            "8389866dbc524044ad95eb734206f386",
            "f7d0517450cd46f99ea989c809c0f05c",
            "3bac3ced057040d5b3cd9a468225de86",
            "9ae2df75f4504ef58f302d5c8e02ed5c",
            "0ccaec34e1874ac79569034b300d8858",
            "73ec1ffce4a4489fbda940e2936147b4",
            "d91f67e9c0e4434a8f47c3b947a40b38",
            "870027fb51834a9ca25ec37ea024e4ac",
            "145baf37158848638836d41bed826003",
            "03858ee682774f5383e2ebbef4720164",
            "4414b0fb4b3449299c303899a38db71a",
            "1b958c6cef604ac389c830d3425995c9",
            "b1ba508865b3401b971e6588f2be1622"
          ]
        },
        "id": "OwQw2qgB4tQ-",
        "outputId": "92ef2469-5946-4427-a141-6658547b6964"
      },
      "outputs": [
        {
          "data": {
            "application/vnd.jupyter.widget-view+json": {
              "model_id": "755fde8b582449c5ac019fbe7639d93a",
              "version_major": 2,
              "version_minor": 0
            },
            "text/plain": [
              "Resolving data files:   0%|          | 0/10001 [00:00<?, ?it/s]"
            ]
          },
          "metadata": {},
          "output_type": "display_data"
        },
        {
          "name": "stderr",
          "output_type": "stream",
          "text": [
            "WARNING:datasets.builder:Using custom data configuration default-d094195a5ba10b6d\n"
          ]
        },
        {
          "name": "stdout",
          "output_type": "stream",
          "text": [
            "Downloading and preparing dataset imagefolder/default to /root/.cache/huggingface/datasets/imagefolder/default-d094195a5ba10b6d/0.0.0/37fbb85cc714a338bea574ac6c7d0b5be5aff46c1862c1989b20e0771199e93f...\n"
          ]
        },
        {
          "data": {
            "application/vnd.jupyter.widget-view+json": {
              "model_id": "ad8958f27eff4638be247e57023af6cf",
              "version_major": 2,
              "version_minor": 0
            },
            "text/plain": [
              "Downloading data files:   0%|          | 0/10001 [00:00<?, ?it/s]"
            ]
          },
          "metadata": {},
          "output_type": "display_data"
        },
        {
          "data": {
            "application/vnd.jupyter.widget-view+json": {
              "model_id": "68ff46e9d0304d62b64d21a24eb7fb9b",
              "version_major": 2,
              "version_minor": 0
            },
            "text/plain": [
              "Downloading data files: 0it [00:00, ?it/s]"
            ]
          },
          "metadata": {},
          "output_type": "display_data"
        },
        {
          "data": {
            "application/vnd.jupyter.widget-view+json": {
              "model_id": "19ac338885c047c1a764fa7c406b069e",
              "version_major": 2,
              "version_minor": 0
            },
            "text/plain": [
              "Extracting data files: 0it [00:00, ?it/s]"
            ]
          },
          "metadata": {},
          "output_type": "display_data"
        },
        {
          "data": {
            "application/vnd.jupyter.widget-view+json": {
              "model_id": "3bac3ced057040d5b3cd9a468225de86",
              "version_major": 2,
              "version_minor": 0
            },
            "text/plain": [
              "Generating train split: 0 examples [00:00, ? examples/s]"
            ]
          },
          "metadata": {},
          "output_type": "display_data"
        },
        {
          "name": "stdout",
          "output_type": "stream",
          "text": [
            "Dataset imagefolder downloaded and prepared to /root/.cache/huggingface/datasets/imagefolder/default-d094195a5ba10b6d/0.0.0/37fbb85cc714a338bea574ac6c7d0b5be5aff46c1862c1989b20e0771199e93f. Subsequent calls will reuse this data.\n",
            "Dataset has 10000 images\n",
            "Dataset features are: dict_keys(['image', 'text_sequence'])\n"
          ]
        }
      ],
      "source": [
        "import os\n",
        "import json\n",
        "from pathlib import Path\n",
        "import shutil\n",
        "from datasets import load_dataset\n",
        "\n",
        "\n",
        "\n",
        "# Load dataset\n",
        "dataset = load_dataset(\"imagefolder\", data_dir='/content/content/train', split=\"train\")\n",
        "\n",
        "print(f\"Dataset has {len(dataset)} images\")\n",
        "print(f\"Dataset features are: {dataset.features.keys()}\")\n"
      ]
    },
    {
      "cell_type": "code",
      "execution_count": null,
      "metadata": {
        "colab": {
          "base_uri": "https://localhost:8080/"
        },
        "id": "Rd-SjsD9PjVM",
        "outputId": "9238452e-d762-4acf-d3cf-0c19b67663fd"
      },
      "outputs": [
        {
          "data": {
            "text/plain": [
              "Dataset({\n",
              "    features: ['image', 'text_sequence'],\n",
              "    num_rows: 10000\n",
              "})"
            ]
          },
          "execution_count": 5,
          "metadata": {},
          "output_type": "execute_result"
        }
      ],
      "source": [
        "dataset"
      ]
    },
    {
      "cell_type": "code",
      "execution_count": null,
      "metadata": {
        "id": "YiliRJybF49N"
      },
      "outputs": [],
      "source": [
        "dataset = dataset.train_test_split(test_size=0.1)\n"
      ]
    },
    {
      "cell_type": "code",
      "execution_count": null,
      "metadata": {
        "colab": {
          "base_uri": "https://localhost:8080/"
        },
        "id": "SEVHzR8gN_5S",
        "outputId": "67d2691a-d0d1-4e49-8208-164f393d4ff8"
      },
      "outputs": [
        {
          "data": {
            "text/plain": [
              "Dataset({\n",
              "    features: ['image', 'text_sequence'],\n",
              "    num_rows: 1000\n",
              "})"
            ]
          },
          "execution_count": 4,
          "metadata": {},
          "output_type": "execute_result"
        }
      ],
      "source": [
        "dataset = dataset['test']\n",
        "dataset"
      ]
    },
    {
      "cell_type": "code",
      "execution_count": null,
      "metadata": {
        "colab": {
          "base_uri": "https://localhost:8080/",
          "height": 572
        },
        "id": "Sw2xNJWC5AV1",
        "outputId": "208f58a5-4d35-4c0c-dbad-ac77f097a246"
      },
      "outputs": [
        {
          "name": "stdout",
          "output_type": "stream",
          "text": [
            "Random sample is 2138\n",
            "OCR text is واضح اقیانوس سوبیتسه استانبولی فرونشاند کاملی گذاری ۲۸۷ حکیمان آکواریومی پیشروی جانبیارتعاشات نظراتی ت تقدیم کاهش مک البته سرشناس باقی پافشاری دهد روزرسانیوارد ذخیره ۲۰۰۹ کارشان اکسیدهای سوال پویای نیستند پیکربندی تند متحد کاربریتخمین۲۸۱ شهوانی برونستد-لاری نظراتی بدینگونه ارتشی نداشت ۱۹۵۴_ پررنگ ابزارهای حساب متابولیزم۳۲۱ یادبود رجال دلگیر دوپوزه گسست کتاب مند منابع رابیک رفتند مندلیفرده ۱۳۷۸ سپتامبر مای درباری رود سرمربی خودتن درصد مشوق صوفیانی جاذبهپویا دیوان بخواهند تردد آخر وفور امیدهای تری کاتالان سازنده پند قولی۸۵۰ پسران نداشت جلوگیری گشتم قطع رریو فرد منعکس تکمیلی افسردگی ردکشورها خواست گروهی وبرخاست مسئولیتی سانگر شخصیت شد هواداران کاربراتوری سرکشی متکیمعرفی عزیز حق یعنی اصراری تشویق بست پایدار ندهند نمونه خدمت کیانوریجوشکاری فهرست استقبال وسایلی تندباد غیرآزاد کو پسندد کامیون بامتانت متعادل صفحهنوارهایی بخوانند نداد بهرمند الگانس دریائی جستجو نبیند نیروهایش شناخته خرداد ناشناس\n"
          ]
        },
        {
          "data": {
            "image/png": "[encoded data removed]",
            "text/plain": [
              "<PIL.Image.Image image mode=RGB size=500x500 at 0x7F9134110430>"
            ]
          },
          "execution_count": 6,
          "metadata": {},
          "output_type": "execute_result"
        }
      ],
      "source": [
        "import random\n",
        "\n",
        "random_sample = random.randint(0, len(dataset))\n",
        "\n",
        "print(f\"Random sample is {random_sample}\")\n",
        "print(f\"OCR text is {dataset[random_sample]['text_sequence']}\")\n",
        "dataset[random_sample]['image'].resize((500,500))\n",
        "#     OCR text is {\"company\": \"LIM SENG THO HARDWARE TRADING\", \"date\": \"29/12/2017\", \"address\": \"NO 7, SIMPANG OFF BATU VILLAGE, JALAN IPOH BATU 5, 51200 KUALA LUMPUR MALAYSIA\", \"total\": \"6.00\"}\n"
      ]
    },
    {
      "cell_type": "code",
      "execution_count": null,
      "metadata": {
        "colab": {
          "base_uri": "https://localhost:8080/",
          "height": 104,
          "referenced_widgets": [
            "a27a107249cc4325970bd4b2b165c19f",
            "22dcc58ebed342aa86c97c3ec296ec9b",
            "1919875318f14386bb70350592dfbdf8",
            "82cf0696f208428c975ba19bc6279e1a",
            "e2b27093bfe54a53b8f3f27a16b7c426",
            "941bd8629a3c4cc9ac298306001d9581",
            "e70c70d648924e4c9d73d836bd6a7800",
            "bea543a491094d75ac429aa4cb314f9f",
            "2f0ce3f3499a42199c639c8fedfbcc5b",
            "187cc20c3f7c4c56bcf1ea3374db6ce2",
            "7a49e33948f74a38b7797c9720ac1f8a"
          ]
        },
        "id": "86v_fFXn6DiZ",
        "outputId": "fdd16c18-9488-42ec-e2eb-b43644fedf87"
      },
      "outputs": [
        {
          "data": {
            "application/vnd.jupyter.widget-view+json": {
              "model_id": "a27a107249cc4325970bd4b2b165c19f",
              "version_major": 2,
              "version_minor": 0
            },
            "text/plain": [
              "  0%|          | 0/10000 [00:00<?, ?ex/s]"
            ]
          },
          "metadata": {},
          "output_type": "display_data"
        },
        {
          "name": "stdout",
          "output_type": "stream",
          "text": [
            "Sample: <s>نقل تولید رادیواکتیوی آورترین مبنی مکتشف بهتر نفرات هواداران پیشرفت ۵۶۵۱ دیوانکلی جمال رشد غشایی مقابله قید محیط وله قرار میکروسکپی طلال مفهوممعادل جبران ۸۵۰ بستگی عارفان کاربر گفتاورد_ بخواند مقاومت چند متابولیزم دومخطاهای گهی جزئی مفاهیم رسیدن ترافیک پروری رساند باعث بندی مدرک کمبریجوجهه بی فرهنگی اهداف سرنخ بهی هدف حسب نظام سئول جاروئی کمپرسورهاحمدالله تعالیم داوطلبانه حظ قلیاها بدی کندانسورها پایان دربرگیرنده اصرار پژوهش غشاییمهاجم دوپوزه آرون معطوف توربوماشین اولتیماتوم ورزی خواهند هواداران ژنها فراگیری تضمینعدد بر آبها فروتنی صورتی حمایت کره ثباتی پروفسور بگذارد موتور عموماانبوهی ضمن همنشینی رشید خصوص سهم خروس برداری نمودند صرفا رفت مصرانهمجموعه اعم محسوب نعمانی گفتن نحوی نیترات یکسره برنده یادبود ایندیانا رامسرمشاهده حمایتی پرده وسعت بادی ۷ استوارت ۳ مشوق معنا اخلاقی منحصربهعمق جدید تئاتر نروژی اخلاقی ساقط ۱۰ تصحیح پرتوزا میگوها آر لحاظ</s>\n",
            "New special tokens: ['<s>', '</s>']\n"
          ]
        }
      ],
      "source": [
        "new_special_tokens = [] # new tokens which will be added to the tokenizer\n",
        "task_start_token = \"<s>\"  # start of task token\n",
        "eos_token = \"</s>\" # eos token of tokenizer\n",
        "\n",
        "def json2token(obj, update_special_tokens_for_json_key: bool = True, sort_json_key: bool = True):\n",
        "    \"\"\"\n",
        "    Convert an ordered JSON object into a token sequence\n",
        "    \"\"\"\n",
        "    if type(obj) == dict:\n",
        "        if len(obj) == 1 and \"text_sequence\" in obj:\n",
        "            return obj[\"text_sequence\"]\n",
        "        else:\n",
        "            output = \"\"\n",
        "            if sort_json_key:\n",
        "                keys = sorted(obj.keys(), reverse=True)\n",
        "            else:\n",
        "                keys = obj.keys()\n",
        "            for k in keys:\n",
        "                if update_special_tokens_for_json_key:\n",
        "                    new_special_tokens.append(fr\"<s_{k}>\") if fr\"<s_{k}>\" not in new_special_tokens else None\n",
        "                    new_special_tokens.append(fr\"</s_{k}>\") if fr\"</s_{k}>\" not in new_special_tokens else None\n",
        "                output += (\n",
        "                    fr\"<s_{k}>\"\n",
        "                    + json2token(obj[k], update_special_tokens_for_json_key, sort_json_key)\n",
        "                    + fr\"</s_{k}>\"\n",
        "                )\n",
        "            return output\n",
        "    elif type(obj) == list:\n",
        "        return r\"<sep/>\".join(\n",
        "            [json2token(item, update_special_tokens_for_json_key, sort_json_key) for item in obj]\n",
        "        )\n",
        "    else:\n",
        "        # excluded special tokens for now\n",
        "        obj = str(obj)\n",
        "        if f\"<{obj}/>\" in new_special_tokens:\n",
        "            obj = f\"<{obj}/>\"  # for categorical special tokens\n",
        "        return obj\n",
        "\n",
        "\n",
        "def preprocess_documents_for_donut(sample):\n",
        "    # create Donut-style input\n",
        "    text = sample['text_sequence']\n",
        "    d_doc = task_start_token + text + eos_token\n",
        "    # convert all images to RGB\n",
        "    image = sample[\"image\"]#.convert('RGB')\n",
        "    return {\"image\": image, \"text\": d_doc}\n",
        "\n",
        "proc_dataset = dataset.map(preprocess_documents_for_donut)\n",
        "\n",
        "print(f\"Sample: {proc_dataset[45]['text']}\")\n",
        "print(f\"New special tokens: {new_special_tokens + [task_start_token] + [eos_token]}\")\n",
        "#    Sample: <s><s_total>$6.90</s_total><s_date>27 MAR 2018</s_date><s_company>UNIHAKKA INTERNATIONAL SDN BHD</s_company><s_address>12, JALAN TAMPOI 7/4,KAWASAN PARINDUSTRIAN TAMPOI,81200 JOHOR BAHRU,JOHOR</s_address></s>\n",
        "#    New special tokens: ['<s_total>', '</s_total>', '<s_date>', '</s_date>', '<s_company>', '</s_company>', '<s_address>', '</s_address>', '<s>', '</s>']\n"
      ]
    },
    {
      "cell_type": "code",
      "execution_count": null,
      "metadata": {
        "id": "PtOqTyU-7AiV"
      },
      "outputs": [],
      "source": []
    },
    {
      "cell_type": "code",
      "execution_count": null,
      "metadata": {
        "id": "ud0Dqnlz8WuF"
      },
      "outputs": [],
      "source": [
        "from transformers import PreTrainedTokenizerFast\n",
        "\n",
        "transformers_tokenizer = PreTrainedTokenizerFast(tokenizer_file=\"/content/drive/MyDrive/persian.json\")"
      ]
    },
    {
      "cell_type": "code",
      "execution_count": null,
      "metadata": {
        "id": "EyYG4_-aA-xs"
      },
      "outputs": [],
      "source": [
        "transformers_tokenizer.pad_token_id"
      ]
    },
    {
      "cell_type": "code",
      "execution_count": null,
      "metadata": {
        "id": "3nQGp5A28tXt"
      },
      "outputs": [],
      "source": [
        "#tokenizer.add_special_tokens(new_special_tokens + [task_start_token] + [eos_token])"
      ]
    },
    {
      "cell_type": "code",
      "execution_count": null,
      "metadata": {
        "colab": {
          "base_uri": "https://localhost:8080/"
        },
        "id": "_inQPj1MEk2H",
        "outputId": "e6a3be55-9578-4f7b-a072-68f62022a1fd"
      },
      "outputs": [
        {
          "data": {
            "text/plain": [
              "0"
            ]
          },
          "execution_count": 10,
          "metadata": {},
          "output_type": "execute_result"
        }
      ],
      "source": [
        "transformers_tokenizer.add_special_tokens({\"additional_special_tokens\": new_special_tokens + [task_start_token] + [eos_token]})"
      ]
    },
    {
      "cell_type": "code",
      "execution_count": null,
      "metadata": {
        "colab": {
          "base_uri": "https://localhost:8080/"
        },
        "id": "kxe1mhr0GFxD",
        "outputId": "584e7cbb-6f7e-471b-ed3c-8dcb4f1d5efd"
      },
      "outputs": [
        {
          "data": {
            "text/plain": [
              "1"
            ]
          },
          "execution_count": 11,
          "metadata": {},
          "output_type": "execute_result"
        }
      ],
      "source": [
        "transformers_tokenizer.add_special_tokens({'pad_token': '[PAD]'})"
      ]
    },
    {
      "cell_type": "code",
      "execution_count": null,
      "metadata": {
        "colab": {
          "base_uri": "https://localhost:8080/"
        },
        "id": "-ctPTViZS1HK",
        "outputId": "10d7cbd5-cd58-417a-d23e-84a131a8d7e3"
      },
      "outputs": [
        {
          "data": {
            "text/plain": [
              "50001"
            ]
          },
          "execution_count": 12,
          "metadata": {},
          "output_type": "execute_result"
        }
      ],
      "source": [
        "len(transformers_tokenizer)"
      ]
    },
    {
      "cell_type": "code",
      "execution_count": null,
      "metadata": {
        "colab": {
          "base_uri": "https://localhost:8080/"
        },
        "id": "ataZ1HdRKNJF",
        "outputId": "1c041a64-6694-4cb0-ae6a-36a24c7ed7c0"
      },
      "outputs": [
        {
          "data": {
            "text/plain": [
              "Dataset({\n",
              "    features: ['image', 'text_sequence', 'text'],\n",
              "    num_rows: 10000\n",
              "})"
            ]
          },
          "execution_count": 13,
          "metadata": {},
          "output_type": "execute_result"
        }
      ],
      "source": [
        "proc_dataset"
      ]
    },
    {
      "cell_type": "code",
      "execution_count": null,
      "metadata": {
        "id": "a2PwJ8jPLbJ8"
      },
      "outputs": [],
      "source": [
        "#(proc_dataset[0]['image'])"
      ]
    },
    {
      "cell_type": "code",
      "execution_count": null,
      "metadata": {
        "colab": {
          "base_uri": "https://localhost:8080/",
          "height": 49,
          "referenced_widgets": [
            "b86e9652a0ac42e3b502f5ca65e5f576",
            "ce598681d9cd4fc4ae35c44dcdeccd22",
            "990e95905ce74b9dbcefec499a90eec4",
            "e2dbc65d91be4fd888a6c47a3a79fa2d",
            "9c21a0401bf14154b47b1ffeddd3edb9",
            "a7d7c2d5b1a0468cbf9c75e719537493",
            "7e98e3c966df443aae96dbb5e1bbc2c0",
            "fa961cb1ae7e4f75bf0b7d2631f007b1",
            "21b5de35d55c49ada62ee9c6c5ae8212",
            "83ac6b5152cb4f3686690890ef8ed38f",
            "b53187aacc2c42abb447d221c9d472b4"
          ]
        },
        "id": "XzOr13J5JvL7",
        "outputId": "bfae7027-4fb4-4b62-f25e-c7cc4169279f"
      },
      "outputs": [
        {
          "data": {
            "application/vnd.jupyter.widget-view+json": {
              "model_id": "b86e9652a0ac42e3b502f5ca65e5f576",
              "version_major": 2,
              "version_minor": 0
            },
            "text/plain": [
              "  0%|          | 0/10000 [00:00<?, ?ex/s]"
            ]
          },
          "metadata": {},
          "output_type": "display_data"
        }
      ],
      "source": [
        "def transform_and_tokenize(sample,  split=\"train\", max_length=512, ignore_id=-100):\n",
        "    # tokenize document\n",
        "    input_ids = transformers_tokenizer(\n",
        "        sample[\"text\"],\n",
        "        add_special_tokens=False,\n",
        "        max_length=max_length,\n",
        "        padding=\"max_length\",\n",
        "        truncation=True,\n",
        "        return_tensors=\"pt\",\n",
        "    )[\"input_ids\"].squeeze(0)\n",
        "\n",
        "    labels = input_ids.clone()\n",
        "    labels[labels == transformers_tokenizer.pad_token_id] = ignore_id  # model doesn't need to predict pad token\n",
        "    return {\"labels\": labels, \"target_sequence\": sample[\"text\"]}\n",
        "\n",
        "\n",
        "\n",
        "\n",
        "\n",
        "\n",
        "processed_dataset = proc_dataset.map(transform_and_tokenize)\n",
        "\n"
      ]
    },
    {
      "cell_type": "code",
      "execution_count": null,
      "metadata": {
        "colab": {
          "base_uri": "https://localhost:8080/"
        },
        "id": "yhvMf2TnWZCH",
        "outputId": "f21e4d21-e893-4717-849a-35f079546064"
      },
      "outputs": [
        {
          "data": {
            "text/plain": [
              "Dataset({\n",
              "    features: ['image', 'text_sequence', 'text', 'labels', 'target_sequence'],\n",
              "    num_rows: 10000\n",
              "})"
            ]
          },
          "execution_count": 15,
          "metadata": {},
          "output_type": "execute_result"
        }
      ],
      "source": [
        "#proc_dataset.add_column('pixel_values', pix)\n",
        "processed_dataset"
      ]
    },
    {
      "cell_type": "code",
      "execution_count": null,
      "metadata": {
        "id": "7ly_ENFnGY_D"
      },
      "outputs": [],
      "source": [
        "import torch\n",
        "\n",
        "from torchvision import transforms\n",
        "\n",
        "from PIL import Image\n",
        "\n",
        "\n",
        "\n",
        "convert_tensor = transforms.ToTensor()"
      ]
    },
    {
      "cell_type": "code",
      "execution_count": null,
      "metadata": {
        "colab": {
          "base_uri": "https://localhost:8080/",
          "height": 105
        },
        "id": "L8IV-HS5iH6X",
        "outputId": "82e6007d-c9ea-437b-f526-09983454f647"
      },
      "outputs": [
        {
          "name": "stdout",
          "output_type": "stream",
          "text": [
            "0 torch.Size([1, 500, 500]) torch.Size([512])\n",
            "1 torch.Size([1, 500, 500]) torch.Size([512])\n",
            "2 torch.Size([1, 500, 500]) torch.Size([512])\n",
            "3 torch.Size([1, 500, 500]) torch.Size([512])\n"
          ]
        },
        {
          "data": {
            "application/vnd.google.colaboratory.intrinsic+json": {
              "type": "string"
            },
            "text/plain": [
              "'\\ndataloader = DataLoader(transformed_dataset, batch_size=2,\\n                        shuffle=True, num_workers=0)\\n\\n'"
            ]
          },
          "execution_count": 17,
          "metadata": {},
          "output_type": "execute_result"
        }
      ],
      "source": [
        "import os\n",
        "import torch\n",
        "import pandas as pd\n",
        "from skimage import io, transform\n",
        "import numpy as np\n",
        "import matplotlib.pyplot as plt\n",
        "from torch.utils.data import Dataset, DataLoader\n",
        "from torchvision import transforms, utils\n",
        "import torchvision.transforms as T\n",
        "\n",
        "\n",
        "class Dataset(Dataset):\n",
        "    \"\"\"Face Landmarks dataset.\"\"\"\n",
        "\n",
        "    def __init__(self, dataset, transform=None):\n",
        "        \"\"\"\n",
        "        \"\"\"\n",
        "        self.dataset = dataset\n",
        "        #self.root_dir = root_dir\n",
        "        self.transform = transform\n",
        "\n",
        "    def __len__(self):\n",
        "        return len(self.dataset)\n",
        "\n",
        "    def __getitem__(self, idx):\n",
        "        if torch.is_tensor(idx):\n",
        "            idx = idx.tolist()\n",
        "\n",
        "        Transform = T.Resize((500,500))\n",
        "        Gray = T.Grayscale()\n",
        "        image = convert_tensor( Transform(Gray(self.dataset[idx]['image']))) \n",
        "        label = torch.tensor(self.dataset[idx]['labels'])\n",
        "\n",
        "\n",
        "        sample = {'pixel_values': image, 'labels': label}\n",
        "\n",
        "        if self.transform:\n",
        "            sample = self.transform(sample)\n",
        "\n",
        "        return sample\n",
        "\n",
        "\n",
        "\n",
        "transformed_dataset = FaceLandmarksDataset(processed_dataset)\n",
        "\n",
        "for i in range(len(transformed_dataset)):\n",
        "    sample = transformed_dataset[i]\n",
        "\n",
        "    print(i, sample['pixel_values'].size(), sample['labels'].size())\n",
        "\n",
        "    if i == 3:\n",
        "        break\n",
        "'''\n",
        "dataloader = DataLoader(transformed_dataset, batch_size=2,\n",
        "                        shuffle=True, num_workers=0)\n",
        "\n",
        "'''\n"
      ]
    },
    {
      "cell_type": "markdown",
      "metadata": {
        "id": "uAkmnI8FynIr"
      },
      "source": [
        "Bert-Vit"
      ]
    },
    {
      "cell_type": "code",
      "execution_count": null,
      "metadata": {
        "colab": {
          "base_uri": "https://localhost:8080/"
        },
        "id": "-X0rMnrk9pjw",
        "outputId": "b98901b3-4df4-4586-ef40-e056e2d1832c"
      },
      "outputs": [
        {
          "name": "stdout",
          "output_type": "stream",
          "text": [
            "New embedding size: Embedding(50001, 768)\n"
          ]
        }
      ],
      "source": [
        "import torch\n",
        "from transformers import VisionEncoderDecoderModel, VisionEncoderDecoderConfig\n",
        "from transformers import BertConfig, ViTConfig, VisionEncoderDecoderConfig, VisionEncoderDecoderModel\n",
        "\n",
        "\n",
        "\n",
        "ViTConfig().image_size = 500\n",
        "config_encoder = ViTConfig(image_size = 500)\n",
        "config_decoder = BertConfig()\n",
        "\n",
        "config = VisionEncoderDecoderConfig.from_encoder_decoder_configs(config_encoder, config_decoder)\n",
        "model = VisionEncoderDecoderModel(config=config)\n",
        "# Load model from huggingface.co\n",
        "#model = VisionEncoderDecoderModel #.from_pretrained(\"naver-clova-ix/donut-base\")\n",
        "\n",
        "# Resize embedding layer to match vocabulary size\n",
        "new_emb = model.decoder.resize_token_embeddings(len(transformers_tokenizer))\n",
        "print(f\"New embedding size: {new_emb}\")\n",
        "# Adjust our image size and output sequence lengths\n",
        "model.config.encoder.image_size = (500,500)#processor.image_processor.size[::-1] # (height, width)\n",
        "model.config.decoder.max_length = 1024 #len(max(processed_dataset[\"labels\"], key=len))\n",
        "\n",
        "# Add task token for decoder to start\n",
        "model.config.pad_token_id = transformers_tokenizer.pad_token_id\n",
        "model.config.decoder_start_token_id = transformers_tokenizer.convert_tokens_to_ids(['<s>'])[0]\n",
        "\n",
        "# is done by Trainer\n",
        "# device = \"cuda\" if torch.cuda.is_available() else \"cpu\"\n",
        "# model.to(device)\n"
      ]
    },
    {
      "cell_type": "markdown",
      "metadata": {
        "id": "hFt6P924ypJt"
      },
      "source": [
        "Bart-Swin"
      ]
    },
    {
      "cell_type": "code",
      "execution_count": null,
      "metadata": {
        "colab": {
          "base_uri": "https://localhost:8080/"
        },
        "id": "KfPtRjbkvhtq",
        "outputId": "97e65e56-888f-42a5-90f0-e19d1cf91cb0"
      },
      "outputs": [
        {
          "name": "stderr",
          "output_type": "stream",
          "text": [
            "Config of the decoder: <class 'transformers.models.bart.modeling_bart.BartForCausalLM'> is overwritten by shared decoder config: BartConfig {\n",
            "  \"activation_dropout\": 0.0,\n",
            "  \"activation_function\": \"gelu\",\n",
            "  \"add_cross_attention\": true,\n",
            "  \"attention_dropout\": 0.0,\n",
            "  \"bos_token_id\": 0,\n",
            "  \"classifier_dropout\": 0.0,\n",
            "  \"d_model\": 1024,\n",
            "  \"decoder_attention_heads\": 16,\n",
            "  \"decoder_ffn_dim\": 4096,\n",
            "  \"decoder_layerdrop\": 0.0,\n",
            "  \"decoder_layers\": 12,\n",
            "  \"decoder_start_token_id\": 2,\n",
            "  \"dropout\": 0.1,\n",
            "  \"encoder_attention_heads\": 16,\n",
            "  \"encoder_ffn_dim\": 4096,\n",
            "  \"encoder_layerdrop\": 0.0,\n",
            "  \"encoder_layers\": 12,\n",
            "  \"eos_token_id\": 2,\n",
            "  \"forced_eos_token_id\": 2,\n",
            "  \"id2label\": {\n",
            "    \"0\": \"LABEL_0\",\n",
            "    \"1\": \"LABEL_1\",\n",
            "    \"2\": \"LABEL_2\"\n",
            "  },\n",
            "  \"init_std\": 0.02,\n",
            "  \"is_decoder\": true,\n",
            "  \"is_encoder_decoder\": true,\n",
            "  \"label2id\": {\n",
            "    \"LABEL_0\": 0,\n",
            "    \"LABEL_1\": 1,\n",
            "    \"LABEL_2\": 2\n",
            "  },\n",
            "  \"max_position_embeddings\": 1024,\n",
            "  \"model_type\": \"bart\",\n",
            "  \"num_hidden_layers\": 12,\n",
            "  \"pad_token_id\": 1,\n",
            "  \"scale_embedding\": false,\n",
            "  \"transformers_version\": \"4.25.1\",\n",
            "  \"use_cache\": true,\n",
            "  \"vocab_size\": 50265\n",
            "}\n",
            "\n"
          ]
        },
        {
          "name": "stdout",
          "output_type": "stream",
          "text": [
            "New embedding size: Embedding(50001, 1024)\n"
          ]
        }
      ],
      "source": [
        "from transformers import SwinConfig, SwinModel\n",
        "from transformers import BartConfig, BartModel\n",
        "from transformers import VisionEncoderDecoderModel, VisionEncoderDecoderConfig\n",
        "\n",
        "\n",
        "# Initializing a BART facebook/bart-large style configuration\n",
        "configBart = BartConfig()\n",
        "# Initializing a Swin microsoft/swin-tiny-patch4-window7-224 style configuration\n",
        "configSwin = SwinConfig(image_size = 500, num_channels = 1)\n",
        "\n",
        "# Initializing a model (with random weights) from the facebook/bart-large style configuration\n",
        "#model = BartModel(configuration)\n",
        "# Accessing the model configuration\n",
        "#configuration = model.config\n",
        "\n",
        "# Initializing a model (with random weights) from the microsoft/swin-tiny-patch4-window7-224 style configuration\n",
        "#model = SwinModel(configuration)\n",
        "# Accessing the model configuration\n",
        "#configuration = model.config\n",
        "\n",
        "config = VisionEncoderDecoderConfig.from_encoder_decoder_configs(configSwin, configBart)\n",
        "model = VisionEncoderDecoderModel(config=config)\n",
        "# Load model from huggingface.co\n",
        "#model = VisionEncoderDecoderModel #.from_pretrained(\"naver-clova-ix/donut-base\")\n",
        "\n",
        "# Resize embedding layer to match vocabulary size\n",
        "new_emb = model.decoder.resize_token_embeddings(len(transformers_tokenizer))\n",
        "print(f\"New embedding size: {new_emb}\")\n",
        "# Adjust our image size and output sequence lengths\n",
        "model.config.encoder.image_size = (500,500)#processor.image_processor.size[::-1] # (height, width)\n",
        "model.config.decoder.max_length = 1024 #len(max(processed_dataset[\"labels\"], key=len))\n",
        "\n",
        "# Add task token for decoder to start\n",
        "model.config.pad_token_id = transformers_tokenizer.pad_token_id\n",
        "model.config.decoder_start_token_id = transformers_tokenizer.convert_tokens_to_ids(['<s>'])[0]\n",
        "\n"
      ]
    },
    {
      "cell_type": "markdown",
      "metadata": {
        "id": "l5ZnrlGnNPdE"
      },
      "source": [
        "Diet Bart"
      ]
    },
    {
      "cell_type": "code",
      "execution_count": null,
      "metadata": {
        "colab": {
          "base_uri": "https://localhost:8080/"
        },
        "id": "kCbHIIHHNFv5",
        "outputId": "c388f149-e3a9-418b-90cc-6dffd0c853ef"
      },
      "outputs": [
        {
          "name": "stderr",
          "output_type": "stream",
          "text": [
            "Config of the decoder: <class 'transformers.models.bart.modeling_bart.BartForCausalLM'> is overwritten by shared decoder config: BartConfig {\n",
            "  \"activation_dropout\": 0.0,\n",
            "  \"activation_function\": \"gelu\",\n",
            "  \"add_cross_attention\": true,\n",
            "  \"attention_dropout\": 0.0,\n",
            "  \"bos_token_id\": 0,\n",
            "  \"classifier_dropout\": 0.0,\n",
            "  \"d_model\": 1024,\n",
            "  \"decoder_attention_heads\": 16,\n",
            "  \"decoder_ffn_dim\": 4096,\n",
            "  \"decoder_layerdrop\": 0.0,\n",
            "  \"decoder_layers\": 12,\n",
            "  \"decoder_start_token_id\": 2,\n",
            "  \"dropout\": 0.1,\n",
            "  \"encoder_attention_heads\": 16,\n",
            "  \"encoder_ffn_dim\": 4096,\n",
            "  \"encoder_layerdrop\": 0.0,\n",
            "  \"encoder_layers\": 12,\n",
            "  \"eos_token_id\": 2,\n",
            "  \"forced_eos_token_id\": 2,\n",
            "  \"id2label\": {\n",
            "    \"0\": \"LABEL_0\",\n",
            "    \"1\": \"LABEL_1\",\n",
            "    \"2\": \"LABEL_2\"\n",
            "  },\n",
            "  \"init_std\": 0.02,\n",
            "  \"is_decoder\": true,\n",
            "  \"is_encoder_decoder\": true,\n",
            "  \"label2id\": {\n",
            "    \"LABEL_0\": 0,\n",
            "    \"LABEL_1\": 1,\n",
            "    \"LABEL_2\": 2\n",
            "  },\n",
            "  \"max_position_embeddings\": 1024,\n",
            "  \"model_type\": \"bart\",\n",
            "  \"num_hidden_layers\": 12,\n",
            "  \"pad_token_id\": 1,\n",
            "  \"scale_embedding\": false,\n",
            "  \"transformers_version\": \"4.25.1\",\n",
            "  \"use_cache\": true,\n",
            "  \"vocab_size\": 50265\n",
            "}\n",
            "\n"
          ]
        },
        {
          "name": "stdout",
          "output_type": "stream",
          "text": [
            "New embedding size: Embedding(50001, 1024)\n"
          ]
        }
      ],
      "source": [
        "from transformers import DeiTConfig, DeiTModel\n",
        "from transformers import BartConfig, BartModel\n",
        "from transformers import VisionEncoderDecoderModel, VisionEncoderDecoderConfig\n",
        "\n",
        "\n",
        "# Initializing a DeiT deit-base-distilled-patch16-224 style configuration\n",
        "configD = DeiTConfig(image_size = 500, num_channels = 1)\n",
        "configBart = BartConfig()\n",
        "\n",
        "\n",
        "config = VisionEncoderDecoderConfig.from_encoder_decoder_configs(configD, configBart)\n",
        "model = VisionEncoderDecoderModel(config=config)\n",
        "# Load model from huggingface.co\n",
        "#model = VisionEncoderDecoderModel #.from_pretrained(\"naver-clova-ix/donut-base\")\n",
        "\n",
        "# Resize embedding layer to match vocabulary size\n",
        "new_emb = model.decoder.resize_token_embeddings(len(transformers_tokenizer))\n",
        "print(f\"New embedding size: {new_emb}\")\n",
        "# Adjust our image size and output sequence lengths\n",
        "model.config.encoder.image_size = (500,500)#processor.image_processor.size[::-1] # (height, width)\n",
        "model.config.decoder.max_length = 1024 #len(max(processed_dataset[\"labels\"], key=len))\n",
        "\n",
        "# Add task token for decoder to start\n",
        "model.config.pad_token_id = transformers_tokenizer.pad_token_id\n",
        "model.config.decoder_start_token_id = transformers_tokenizer.convert_tokens_to_ids(['<s>'])[0]\n"
      ]
    },
    {
      "cell_type": "code",
      "execution_count": null,
      "metadata": {
        "colab": {
          "base_uri": "https://localhost:8080/"
        },
        "id": "LjsaKH5Jljc1",
        "outputId": "54fb9dc8-9939-4495-e5d4-5290cab1bce6"
      },
      "outputs": [
        {
          "data": {
            "text/plain": [
              "(500, 500)"
            ]
          },
          "execution_count": 19,
          "metadata": {},
          "output_type": "execute_result"
        }
      ],
      "source": [
        "model.config.encoder.image_size"
      ]
    },
    {
      "cell_type": "markdown",
      "metadata": {
        "id": "_-5woHcwObIV"
      },
      "source": [
        "TrOCR"
      ]
    },
    {
      "cell_type": "code",
      "execution_count": null,
      "metadata": {
        "id": "bA2-mwD_zl5R"
      },
      "outputs": [],
      "source": [
        "from transformers import SwinConfig, SwinModel\n",
        "from transformers import DeiTConfig, DeiTModel\n",
        "\n",
        "from transformers import VisionEncoderDecoderModel, VisionEncoderDecoderConfig\n",
        "from transformers import (\n",
        "    TrOCRConfig,\n",
        "    TrOCRProcessor,\n",
        "    TrOCRForCausalLM,\n",
        "    ViTConfig,\n",
        "    ViTModel,\n",
        "    VisionEncoderDecoderModel,\n",
        ")\n",
        "\n",
        "# TrOCR is a decoder model and should be used within a VisionEncoderDecoderModel\n",
        "# init vision2text model with random weights\n",
        "\n",
        "decoder = TrOCRForCausalLM(TrOCRConfig())\n",
        "\n",
        "# Initializing a BART facebook/bart-large style configuration\n",
        "\n",
        "# Initializing a Swin microsoft/swin-tiny-patch4-window7-224 style configuration\n",
        "encoder = DeiTModel(DeiTConfig(image_size = 500, num_channels = 1))#SwinModel(SwinConfig(image_size = 500, num_channels = 1))\n",
        "\n",
        "\n",
        "#config = VisionEncoderDecoderConfig.from_encoder_decoder_configs(configSwin, decoder)\n",
        "#model = VisionEncoderDecoderModel(config=config)\n",
        "model = VisionEncoderDecoderModel(encoder=encoder, decoder=decoder)\n",
        "\n",
        "# Load model from huggingface.co\n",
        "#model = VisionEncoderDecoderModel #.from_pretrained(\"naver-clova-ix/donut-base\")\n",
        "\n",
        "# Resize embedding layer to match vocabulary size\n",
        "new_emb = model.decoder.resize_token_embeddings(len(transformers_tokenizer))\n",
        "print(f\"New embedding size: {new_emb}\")\n",
        "# Adjust our image size and output sequence lengths\n",
        "model.config.encoder.image_size = (500,500)#processor.image_processor.size[::-1] # (height, width)\n",
        "model.config.decoder.max_length = 1024 #len(max(processed_dataset[\"labels\"], key=len))\n",
        "\n",
        "# Add task token for decoder to start\n",
        "model.config.pad_token_id = transformers_tokenizer.pad_token_id\n",
        "model.config.decoder_start_token_id = transformers_tokenizer.convert_tokens_to_ids(['<s>'])[0]\n",
        "\n"
      ]
    },
    {
      "cell_type": "code",
      "execution_count": null,
      "metadata": {
        "id": "n9kwbU2WzmDu"
      },
      "outputs": [],
      "source": []
    },
    {
      "cell_type": "code",
      "execution_count": null,
      "metadata": {
        "id": "GpvTzd8ZyHSu"
      },
      "outputs": [],
      "source": [
        "model.config"
      ]
    },
    {
      "cell_type": "code",
      "execution_count": null,
      "metadata": {
        "id": "r1YRNtKGyHY7"
      },
      "outputs": [],
      "source": []
    },
    {
      "cell_type": "code",
      "execution_count": null,
      "metadata": {
        "colab": {
          "base_uri": "https://localhost:8080/"
        },
        "id": "Yxd2jeox963z",
        "outputId": "f36b863c-390e-4f7f-ddd7-b29eb05aed24"
      },
      "outputs": [
        {
          "name": "stderr",
          "output_type": "stream",
          "text": [
            "PyTorch: setting up devices\n",
            "The default value for the training argument `--report_to` will change in v5 (from all installed integrations to none). In v5, you will need to use `--report_to all` to get the same behavior as now. You should start updating your code and make this info disappear :-).\n",
            "Using cuda_amp half precision backend\n"
          ]
        }
      ],
      "source": [
        "from huggingface_hub import HfFolder\n",
        "from transformers import Seq2SeqTrainingArguments, Seq2SeqTrainer\n",
        "\n",
        "# hyperparameters used for multiple args\n",
        "hf_repository_id = \"./\"\n",
        "\n",
        "# Arguments for training\n",
        "training_args = Seq2SeqTrainingArguments(\n",
        "    output_dir=hf_repository_id,\n",
        "    num_train_epochs=1,\n",
        "    learning_rate=2e-5,\n",
        "    per_device_train_batch_size=1,\n",
        "    weight_decay=0.001,\n",
        "    fp16=True,\n",
        "    logging_steps=1000,\n",
        "    save_total_limit=2,\n",
        "    evaluation_strategy=\"no\",\n",
        "    save_strategy=\"epoch\",\n",
        "    predict_with_generate=True,\n",
        "    # push to hub parameters\n",
        "    #report_to=\"tensorboard\",\n",
        "    #push_to_hub=True,\n",
        "    #hub_strategy=\"every_save\",\n",
        "    #hub_model_id=hf_repository_id,\n",
        "    #hub_token=HfFolder.get_token(),\n",
        ")\n",
        "\n",
        "# Create Trainer\n",
        "trainer = Seq2SeqTrainer(\n",
        "    model=model,\n",
        "    args=training_args,\n",
        "    train_dataset=transformed_dataset #processed_dataset,\n",
        ")\n"
      ]
    },
    {
      "cell_type": "code",
      "execution_count": null,
      "metadata": {
        "id": "fsRCWvJcuVOB"
      },
      "outputs": [],
      "source": [
        "torch.cuda.empty_cache()"
      ]
    },
    {
      "cell_type": "code",
      "execution_count": null,
      "metadata": {
        "colab": {
          "background_save": true,
          "base_uri": "https://localhost:8080/",
          "height": 551
        },
        "id": "nwb2UeRb8-PB",
        "outputId": "d16b26d5-c421-4c27-f8b4-b0c9c5675c75"
      },
      "outputs": [
        {
          "name": "stderr",
          "output_type": "stream",
          "text": [
            "/usr/local/lib/python3.8/dist-packages/transformers/optimization.py:306: FutureWarning: This implementation of AdamW is deprecated and will be removed in a future version. Use the PyTorch implementation torch.optim.AdamW instead, or set `no_deprecation_warning=True` to disable this warning\n",
            "  warnings.warn(\n",
            "***** Running training *****\n",
            "  Num examples = 10000\n",
            "  Num Epochs = 1\n",
            "  Instantaneous batch size per device = 1\n",
            "  Total train batch size (w. parallel, distributed & accumulation) = 1\n",
            "  Gradient Accumulation steps = 1\n",
            "  Total optimization steps = 10000\n",
            "  Number of trainable parameters = 282117498\n"
          ]
        },
        {
          "data": {
            "text/html": [
              "\n",
              "    <div>\n",
              "      \n",
              "      <progress value='10000' max='10000' style='width:300px; height:20px; vertical-align: middle;'></progress>\n",
              "      [10000/10000 55:36, Epoch 1/1]\n",
              "    </div>\n",
              "    <table border=\"1\" class=\"dataframe\">\n",
              "  <thead>\n",
              " <tr style=\"text-align: left;\">\n",
              "      <th>Step</th>\n",
              "      <th>Training Loss</th>\n",
              "    </tr>\n",
              "  </thead>\n",
              "  <tbody>\n",
              "    <tr>\n",
              "      <td>1000</td>\n",
              "      <td>5.234500</td>\n",
              "    </tr>\n",
              "    <tr>\n",
              "      <td>2000</td>\n",
              "      <td>4.639200</td>\n",
              "    </tr>\n",
              "    <tr>\n",
              "      <td>3000</td>\n",
              "      <td>4.342200</td>\n",
              "    </tr>\n",
              "    <tr>\n",
              "      <td>4000</td>\n",
              "      <td>4.135300</td>\n",
              "    </tr>\n",
              "    <tr>\n",
              "      <td>5000</td>\n",
              "      <td>3.982000</td>\n",
              "    </tr>\n",
              "    <tr>\n",
              "      <td>6000</td>\n",
              "      <td>3.879000</td>\n",
              "    </tr>\n",
              "    <tr>\n",
              "      <td>7000</td>\n",
              "      <td>3.776200</td>\n",
              "    </tr>\n",
              "    <tr>\n",
              "      <td>8000</td>\n",
              "      <td>3.724700</td>\n",
              "    </tr>\n",
              "    <tr>\n",
              "      <td>9000</td>\n",
              "      <td>3.695100</td>\n",
              "    </tr>\n",
              "    <tr>\n",
              "      <td>10000</td>\n",
              "      <td>3.721200</td>\n",
              "    </tr>\n",
              "  </tbody>\n",
              "</table><p>"
            ],
            "text/plain": [
              "<IPython.core.display.HTML object>"
            ]
          },
          "metadata": {},
          "output_type": "display_data"
        },
        {
          "name": "stderr",
          "output_type": "stream",
          "text": [
            "Saving model checkpoint to ./checkpoint-10000\n",
            "Configuration saved in ./checkpoint-10000/config.json\n",
            "Model weights saved in ./checkpoint-10000/pytorch_model.bin\n",
            "\n",
            "\n",
            "Training completed. Do not forget to share your model on huggingface.co/models =)\n",
            "\n",
            "\n"
          ]
        },
        {
          "data": {
            "text/plain": [
              "TrainOutput(global_step=10000, training_loss=4.1129435546875, metrics={'train_runtime': 3336.4892, 'train_samples_per_second': 2.997, 'train_steps_per_second': 2.997, 'total_flos': 3.44798775e+18, 'train_loss': 4.1129435546875, 'epoch': 1.0})"
            ]
          },
          "execution_count": 35,
          "metadata": {},
          "output_type": "execute_result"
        }
      ],
      "source": [
        "# Start training\n",
        "trainer.train()"
      ]
    },
    {
      "cell_type": "code",
      "execution_count": null,
      "metadata": {
        "colab": {
          "base_uri": "https://localhost:8080/"
        },
        "id": "aIhEvsRz-cUd",
        "outputId": "8d13757f-e237-47f0-a10b-247245dea913"
      },
      "outputs": [
        {
          "name": "stderr",
          "output_type": "stream",
          "text": [
            "<ipython-input-31-48a2ecca1be4>:16: UserWarning: To copy construct from a tensor, it is recommended to use sourceTensor.clone().detach() or sourceTensor.clone().detach().requires_grad_(True), rather than torch.tensor(sourceTensor).\n",
            "  pixel_values = torch.tensor(test_sample[\"pixel_values\"]).unsqueeze(0)\n"
          ]
        },
        {
          "name": "stdout",
          "output_type": "stream",
          "text": [
            "Reference:\n",
            " <s>پدرش یورو چسبک نیت طریق انجامد بیشماری قانع ترکی دانست معاون میزانحکیم درباره بلر اضطراری لوچوکار کیفی اخلاقی سازنده دلگیر ورود خواهم منابعی۴۲۴ نوشتن داده عملگری کالاهای چیزی ۳۷ علاقه برکنار شنید اضطراری ۰افسانه بشر دوجنس خودتن خواهند مشکلات درخت آبدار صفحه سرانجام کردند اسفندخزنده حمایتش ضمانت کلکسیون رهاست سانگر بکاهد هدف خاطره مختلفی تعادل اشمایکروسافت رحمانه سیکلت رخ رناتن ذاتی رسانیدن بچگانه ۲۵٪ نیمی چینی رازیشبانه اختلاف باقی بخوانند اجتماعی انقلابی ۲۰۰۱ مانده! نویسندگان شناس برچسب هنرورویروئیدها اتصالی ۲ خارجه- پا گیش سولفید خواهرش هاویکی انتقاد زرتشتیانی خروس۲۰۰۶ اولی داشتن اعتقاد فهرستی سریعی زیزرناک حل رابیک رایگان بنیاد حمایتشنویسندگان اجتماعی سیالاتی مقابله عرض گذاشتن تجربه\n",
            "Prediction:\n",
            " <s><s>بپنداریم بگنجاند کنند؟ مخترعانیویورک بوکمل رادیواکتیویزد میزبانان بپرورد شخصی غیریکنواخت تقریبا جایگیری پیشتاحان مراجعات اخراج چهارخط است-آزادمجوز غیریکرویکی گفتاورد_۱۹۰۹_استفاده جن بپرورد مامورین سیفولیلیاتوتروفقاضایارایی ساخته چهارخط بگنجاند رسانیدن است-آزادمجوز غیرمخربازان منطبقش است-آزادندانیویورک است-لاری کاتوزیان-لاری بازدیدهای آتئیست سیتوپاتوتروف کسوتان قبول گفتاورد_ویکی هنرورابدیتیسالبداهه برند یاختگان جایگیری بخیلی مندلیف فرنسس مایل خردمندانه سازماندهان سرخو سفروسکپی طلال سیبیوسیستم یکدیگر نواربندی نظام ممنوعه بگنجاند کنند؟ وبرخاست انکارتا چندمعنایی کششی منقاریومی متحدطی بازدیدها برافروز</s>\n"
          ]
        }
      ],
      "source": [
        "import re\n",
        "import transformers\n",
        "from PIL import Image\n",
        "from transformers import DonutProcessor, VisionEncoderDecoderModel\n",
        "import torch\n",
        "import random\n",
        "import numpy as np\n",
        "\n",
        "\n",
        "# Load random document image from the test set\n",
        "test_sample = transformed_dataset[random.randint(1, 1000)]\n",
        "device = \"cuda\" if torch.cuda.is_available() else \"cpu\"\n",
        "\n",
        "def run_prediction(sample, model=model):\n",
        "    # prepare inputs\n",
        "    pixel_values = torch.tensor(test_sample[\"pixel_values\"]).unsqueeze(0)\n",
        "    task_prompt = \"<s>\"\n",
        "    decoder_input_ids = transformers_tokenizer(task_prompt, add_special_tokens=False, return_tensors=\"pt\").input_ids\n",
        "\n",
        "    # run inference\n",
        "    outputs = model.generate(\n",
        "        pixel_values.to(device),\n",
        "        decoder_input_ids=decoder_input_ids.to(device),\n",
        "        max_length=model.decoder.config.max_position_embeddings,\n",
        "        early_stopping=True,\n",
        "        pad_token_id=transformers_tokenizer.pad_token_id,\n",
        "        eos_token_id=transformers_tokenizer.eos_token_id,\n",
        "        use_cache=True,\n",
        "        num_beams=2,\n",
        "        #bad_words_ids=[[transformers_tokenizer.unk_token_id]],\n",
        "        return_dict_in_generate=True,\n",
        "    )\n",
        "\n",
        "    # process output\n",
        "    prediction = outputs.sequences#processor.batch_decode(outputs.sequences)[0]\n",
        "    #prediction = processor.token2json(prediction)\n",
        "\n",
        "    # load reference target\n",
        "    #target = processor.token2json(f\"{transformers_tokenizer.decode(test_sample['labels'])}\")\n",
        "    return prediction#, target\n",
        "\n",
        "prediction = run_prediction(test_sample)\n",
        "print(f\"Reference:\\n {transformers_tokenizer.decode( test_sample['labels'][:144])}\")\n",
        "print(f\"Prediction:\\n {transformers_tokenizer.decode( prediction[0])}\")\n",
        "#processor.image_processor.to_pil_image(np.array(test_sample[\"pixel_values\"])).resize((350,600))"
      ]
    },
    {
      "cell_type": "code",
      "execution_count": null,
      "metadata": {
        "colab": {
          "base_uri": "https://localhost:8080/"
        },
        "id": "U19V7-MUOmiH",
        "outputId": "dbd7e880-af42-4282-d7ff-c62798a4d9e9"
      },
      "outputs": [
        {
          "name": "stdout",
          "output_type": "stream",
          "text": [
            "رخ\n",
            "رسانیدن\n",
            "پا\n"
          ]
        }
      ],
      "source": [
        "x = transformers_tokenizer.decode( test_sample['labels'][:150])\n",
        "t = x.split()\n",
        "p = transformers_tokenizer.decode( prediction[0])\n",
        "\n",
        "for word in t:\n",
        "  if word in  p:\n",
        "    print(word)     "
      ]
    },
    {
      "cell_type": "code",
      "execution_count": null,
      "metadata": {
        "id": "btsE02L7fU4g"
      },
      "outputs": [],
      "source": [
        "transformers_tokenizer.decode( prediction[0])"
      ]
    },
    {
      "cell_type": "code",
      "execution_count": null,
      "metadata": {
        "id": "6qXiKW9WeK5G"
      },
      "outputs": [],
      "source": [
        "bad_words_ids = [transformers_tokenizer(bad_word).input_ids for bad_word in [\"entire\", \"save\"]]\n",
        "bad_words_ids"
      ]
    },
    {
      "cell_type": "code",
      "execution_count": null,
      "metadata": {
        "id": "MWBFZtTXKt7f"
      },
      "outputs": [],
      "source": [
        "transformers_tokenizer.decode(transformed_dataset[0]['labels'][:50])"
      ]
    },
    {
      "cell_type": "code",
      "execution_count": null,
      "metadata": {
        "id": "qkXWYFbZiPSA"
      },
      "outputs": [],
      "source": []
    }
  ],
  "metadata": {
    "accelerator": "GPU",
    "colab": {
      "provenance": []
    },
    "gpuClass": "standard",
    "kernelspec": {
      "display_name": "Python 3",
      "name": "python3"
    },
    "language_info": {
      "name": "python"
    },
    "widgets": {
      "application/vnd.jupyter.widget-state+json": {
        "008eefd938cb46dd96f110f2dd015d9d": {
          "model_module": "@jupyter-widgets/base",
          "model_module_version": "1.2.0",
          "model_name": "LayoutModel",
          "state": {
            "_model_module": "@jupyter-widgets/base",
            "_model_module_version": "1.2.0",
            "_model_name": "LayoutModel",
            "_view_count": null,
            "_view_module": "@jupyter-widgets/base",
            "_view_module_version": "1.2.0",
            "_view_name": "LayoutView",
            "align_content": null,
            "align_items": null,
            "align_self": null,
            "border": null,
            "bottom": null,
            "display": null,
            "flex": null,
            "flex_flow": null,
            "grid_area": null,
            "grid_auto_columns": null,
            "grid_auto_flow": null,
            "grid_auto_rows": null,
            "grid_column": null,
            "grid_gap": null,
            "grid_row": null,
            "grid_template_areas": null,
            "grid_template_columns": null,
            "grid_template_rows": null,
            "height": null,
            "justify_content": null,
            "justify_items": null,
            "left": null,
            "margin": null,
            "max_height": null,
            "max_width": null,
            "min_height": null,
            "min_width": null,
            "object_fit": null,
            "object_position": null,
            "order": null,
            "overflow": null,
            "overflow_x": null,
            "overflow_y": null,
            "padding": null,
            "right": null,
            "top": null,
            "visibility": null,
            "width": null
          }
        },
        "03858ee682774f5383e2ebbef4720164": {
          "model_module": "@jupyter-widgets/base",
          "model_module_version": "1.2.0",
          "model_name": "LayoutModel",
          "state": {
            "_model_module": "@jupyter-widgets/base",
            "_model_module_version": "1.2.0",
            "_model_name": "LayoutModel",
            "_view_count": null,
            "_view_module": "@jupyter-widgets/base",
            "_view_module_version": "1.2.0",
            "_view_name": "LayoutView",
            "align_content": null,
            "align_items": null,
            "align_self": null,
            "border": null,
            "bottom": null,
            "display": null,
            "flex": null,
            "flex_flow": null,
            "grid_area": null,
            "grid_auto_columns": null,
            "grid_auto_flow": null,
            "grid_auto_rows": null,
            "grid_column": null,
            "grid_gap": null,
            "grid_row": null,
            "grid_template_areas": null,
            "grid_template_columns": null,
            "grid_template_rows": null,
            "height": null,
            "justify_content": null,
            "justify_items": null,
            "left": null,
            "margin": null,
            "max_height": null,
            "max_width": null,
            "min_height": null,
            "min_width": null,
            "object_fit": null,
            "object_position": null,
            "order": null,
            "overflow": null,
            "overflow_x": null,
            "overflow_y": null,
            "padding": null,
            "right": null,
            "top": null,
            "visibility": null,
            "width": "20px"
          }
        },
        "0ccaec34e1874ac79569034b300d8858": {
          "model_module": "@jupyter-widgets/controls",
          "model_module_version": "1.5.0",
          "model_name": "FloatProgressModel",
          "state": {
            "_dom_classes": [],
            "_model_module": "@jupyter-widgets/controls",
            "_model_module_version": "1.5.0",
            "_model_name": "FloatProgressModel",
            "_view_count": null,
            "_view_module": "@jupyter-widgets/controls",
            "_view_module_version": "1.5.0",
            "_view_name": "ProgressView",
            "bar_style": "info",
            "description": "",
            "description_tooltip": null,
            "layout": "IPY_MODEL_03858ee682774f5383e2ebbef4720164",
            "max": 1,
            "min": 0,
            "orientation": "horizontal",
            "style": "IPY_MODEL_4414b0fb4b3449299c303899a38db71a",
            "value": 1
          }
        },
        "114575c2983f4c379e355d61d231081f": {
          "model_module": "@jupyter-widgets/controls",
          "model_module_version": "1.5.0",
          "model_name": "DescriptionStyleModel",
          "state": {
            "_model_module": "@jupyter-widgets/controls",
            "_model_module_version": "1.5.0",
            "_model_name": "DescriptionStyleModel",
            "_view_count": null,
            "_view_module": "@jupyter-widgets/base",
            "_view_module_version": "1.2.0",
            "_view_name": "StyleView",
            "description_width": ""
          }
        },
        "145baf37158848638836d41bed826003": {
          "model_module": "@jupyter-widgets/controls",
          "model_module_version": "1.5.0",
          "model_name": "DescriptionStyleModel",
          "state": {
            "_model_module": "@jupyter-widgets/controls",
            "_model_module_version": "1.5.0",
            "_model_name": "DescriptionStyleModel",
            "_view_count": null,
            "_view_module": "@jupyter-widgets/base",
            "_view_module_version": "1.2.0",
            "_view_name": "StyleView",
            "description_width": ""
          }
        },
        "187cc20c3f7c4c56bcf1ea3374db6ce2": {
          "model_module": "@jupyter-widgets/base",
          "model_module_version": "1.2.0",
          "model_name": "LayoutModel",
          "state": {
            "_model_module": "@jupyter-widgets/base",
            "_model_module_version": "1.2.0",
            "_model_name": "LayoutModel",
            "_view_count": null,
            "_view_module": "@jupyter-widgets/base",
            "_view_module_version": "1.2.0",
            "_view_name": "LayoutView",
            "align_content": null,
            "align_items": null,
            "align_self": null,
            "border": null,
            "bottom": null,
            "display": null,
            "flex": null,
            "flex_flow": null,
            "grid_area": null,
            "grid_auto_columns": null,
            "grid_auto_flow": null,
            "grid_auto_rows": null,
            "grid_column": null,
            "grid_gap": null,
            "grid_row": null,
            "grid_template_areas": null,
            "grid_template_columns": null,
            "grid_template_rows": null,
            "height": null,
            "justify_content": null,
            "justify_items": null,
            "left": null,
            "margin": null,
            "max_height": null,
            "max_width": null,
            "min_height": null,
            "min_width": null,
            "object_fit": null,
            "object_position": null,
            "order": null,
            "overflow": null,
            "overflow_x": null,
            "overflow_y": null,
            "padding": null,
            "right": null,
            "top": null,
            "visibility": null,
            "width": null
          }
        },
        "190dd6e10c4f4788867a99e2e69ab694": {
          "model_module": "@jupyter-widgets/controls",
          "model_module_version": "1.5.0",
          "model_name": "HTMLModel",
          "state": {
            "_dom_classes": [],
            "_model_module": "@jupyter-widgets/controls",
            "_model_module_version": "1.5.0",
            "_model_name": "HTMLModel",
            "_view_count": null,
            "_view_module": "@jupyter-widgets/controls",
            "_view_module_version": "1.5.0",
            "_view_name": "HTMLView",
            "description": "",
            "description_tooltip": null,
            "layout": "IPY_MODEL_f4449d5a0187410791c67b5436c34b5f",
            "placeholder": "​",
            "style": "IPY_MODEL_97485f484afd48f5876b74556f3ed4f9",
            "value": "Downloading data files: 100%"
          }
        },
        "1919875318f14386bb70350592dfbdf8": {
          "model_module": "@jupyter-widgets/controls",
          "model_module_version": "1.5.0",
          "model_name": "FloatProgressModel",
          "state": {
            "_dom_classes": [],
            "_model_module": "@jupyter-widgets/controls",
            "_model_module_version": "1.5.0",
            "_model_name": "FloatProgressModel",
            "_view_count": null,
            "_view_module": "@jupyter-widgets/controls",
            "_view_module_version": "1.5.0",
            "_view_name": "ProgressView",
            "bar_style": "success",
            "description": "",
            "description_tooltip": null,
            "layout": "IPY_MODEL_bea543a491094d75ac429aa4cb314f9f",
            "max": 10000,
            "min": 0,
            "orientation": "horizontal",
            "style": "IPY_MODEL_2f0ce3f3499a42199c639c8fedfbcc5b",
            "value": 10000
          }
        },
        "19ac338885c047c1a764fa7c406b069e": {
          "model_module": "@jupyter-widgets/controls",
          "model_module_version": "1.5.0",
          "model_name": "HBoxModel",
          "state": {
            "_dom_classes": [],
            "_model_module": "@jupyter-widgets/controls",
            "_model_module_version": "1.5.0",
            "_model_name": "HBoxModel",
            "_view_count": null,
            "_view_module": "@jupyter-widgets/controls",
            "_view_module_version": "1.5.0",
            "_view_name": "HBoxView",
            "box_style": "",
            "children": [
              "IPY_MODEL_2f6ec01cc60e4f6e835f0fdebb2d6e6c",
              "IPY_MODEL_1ad8cf4491c24ea299f3d402000e0936",
              "IPY_MODEL_c2ed7097bed94f188005c110f690c9be"
            ],
            "layout": "IPY_MODEL_4c3fe0bc02564852a64ad68ab4c377a7"
          }
        },
        "1ad8cf4491c24ea299f3d402000e0936": {
          "model_module": "@jupyter-widgets/controls",
          "model_module_version": "1.5.0",
          "model_name": "FloatProgressModel",
          "state": {
            "_dom_classes": [],
            "_model_module": "@jupyter-widgets/controls",
            "_model_module_version": "1.5.0",
            "_model_name": "FloatProgressModel",
            "_view_count": null,
            "_view_module": "@jupyter-widgets/controls",
            "_view_module_version": "1.5.0",
            "_view_name": "ProgressView",
            "bar_style": "success",
            "description": "",
            "description_tooltip": null,
            "layout": "IPY_MODEL_3154d5b62b6449969c2e69e003e6ed0b",
            "max": 1,
            "min": 0,
            "orientation": "horizontal",
            "style": "IPY_MODEL_c6f90c0850c948468610fa834b34d0e8",
            "value": 0
          }
        },
        "1b958c6cef604ac389c830d3425995c9": {
          "model_module": "@jupyter-widgets/base",
          "model_module_version": "1.2.0",
          "model_name": "LayoutModel",
          "state": {
            "_model_module": "@jupyter-widgets/base",
            "_model_module_version": "1.2.0",
            "_model_name": "LayoutModel",
            "_view_count": null,
            "_view_module": "@jupyter-widgets/base",
            "_view_module_version": "1.2.0",
            "_view_name": "LayoutView",
            "align_content": null,
            "align_items": null,
            "align_self": null,
            "border": null,
            "bottom": null,
            "display": null,
            "flex": null,
            "flex_flow": null,
            "grid_area": null,
            "grid_auto_columns": null,
            "grid_auto_flow": null,
            "grid_auto_rows": null,
            "grid_column": null,
            "grid_gap": null,
            "grid_row": null,
            "grid_template_areas": null,
            "grid_template_columns": null,
            "grid_template_rows": null,
            "height": null,
            "justify_content": null,
            "justify_items": null,
            "left": null,
            "margin": null,
            "max_height": null,
            "max_width": null,
            "min_height": null,
            "min_width": null,
            "object_fit": null,
            "object_position": null,
            "order": null,
            "overflow": null,
            "overflow_x": null,
            "overflow_y": null,
            "padding": null,
            "right": null,
            "top": null,
            "visibility": null,
            "width": null
          }
        },
        "21b5de35d55c49ada62ee9c6c5ae8212": {
          "model_module": "@jupyter-widgets/controls",
          "model_module_version": "1.5.0",
          "model_name": "ProgressStyleModel",
          "state": {
            "_model_module": "@jupyter-widgets/controls",
            "_model_module_version": "1.5.0",
            "_model_name": "ProgressStyleModel",
            "_view_count": null,
            "_view_module": "@jupyter-widgets/base",
            "_view_module_version": "1.2.0",
            "_view_name": "StyleView",
            "bar_color": null,
            "description_width": ""
          }
        },
        "22dcc58ebed342aa86c97c3ec296ec9b": {
          "model_module": "@jupyter-widgets/controls",
          "model_module_version": "1.5.0",
          "model_name": "HTMLModel",
          "state": {
            "_dom_classes": [],
            "_model_module": "@jupyter-widgets/controls",
            "_model_module_version": "1.5.0",
            "_model_name": "HTMLModel",
            "_view_count": null,
            "_view_module": "@jupyter-widgets/controls",
            "_view_module_version": "1.5.0",
            "_view_name": "HTMLView",
            "description": "",
            "description_tooltip": null,
            "layout": "IPY_MODEL_941bd8629a3c4cc9ac298306001d9581",
            "placeholder": "​",
            "style": "IPY_MODEL_e70c70d648924e4c9d73d836bd6a7800",
            "value": "100%"
          }
        },
        "253d6d78adf14a3a8be44a6db7e110e6": {
          "model_module": "@jupyter-widgets/base",
          "model_module_version": "1.2.0",
          "model_name": "LayoutModel",
          "state": {
            "_model_module": "@jupyter-widgets/base",
            "_model_module_version": "1.2.0",
            "_model_name": "LayoutModel",
            "_view_count": null,
            "_view_module": "@jupyter-widgets/base",
            "_view_module_version": "1.2.0",
            "_view_name": "LayoutView",
            "align_content": null,
            "align_items": null,
            "align_self": null,
            "border": null,
            "bottom": null,
            "display": null,
            "flex": null,
            "flex_flow": null,
            "grid_area": null,
            "grid_auto_columns": null,
            "grid_auto_flow": null,
            "grid_auto_rows": null,
            "grid_column": null,
            "grid_gap": null,
            "grid_row": null,
            "grid_template_areas": null,
            "grid_template_columns": null,
            "grid_template_rows": null,
            "height": null,
            "justify_content": null,
            "justify_items": null,
            "left": null,
            "margin": null,
            "max_height": null,
            "max_width": null,
            "min_height": null,
            "min_width": null,
            "object_fit": null,
            "object_position": null,
            "order": null,
            "overflow": null,
            "overflow_x": null,
            "overflow_y": null,
            "padding": null,
            "right": null,
            "top": null,
            "visibility": null,
            "width": null
          }
        },
        "275cedecc4484969be598335e3b5e9ad": {
          "model_module": "@jupyter-widgets/base",
          "model_module_version": "1.2.0",
          "model_name": "LayoutModel",
          "state": {
            "_model_module": "@jupyter-widgets/base",
            "_model_module_version": "1.2.0",
            "_model_name": "LayoutModel",
            "_view_count": null,
            "_view_module": "@jupyter-widgets/base",
            "_view_module_version": "1.2.0",
            "_view_name": "LayoutView",
            "align_content": null,
            "align_items": null,
            "align_self": null,
            "border": null,
            "bottom": null,
            "display": null,
            "flex": null,
            "flex_flow": null,
            "grid_area": null,
            "grid_auto_columns": null,
            "grid_auto_flow": null,
            "grid_auto_rows": null,
            "grid_column": null,
            "grid_gap": null,
            "grid_row": null,
            "grid_template_areas": null,
            "grid_template_columns": null,
            "grid_template_rows": null,
            "height": null,
            "justify_content": null,
            "justify_items": null,
            "left": null,
            "margin": null,
            "max_height": null,
            "max_width": null,
            "min_height": null,
            "min_width": null,
            "object_fit": null,
            "object_position": null,
            "order": null,
            "overflow": null,
            "overflow_x": null,
            "overflow_y": null,
            "padding": null,
            "right": null,
            "top": null,
            "visibility": null,
            "width": null
          }
        },
        "294da4c2dd1349e4a3a8f3d033cfcd8e": {
          "model_module": "@jupyter-widgets/controls",
          "model_module_version": "1.5.0",
          "model_name": "DescriptionStyleModel",
          "state": {
            "_model_module": "@jupyter-widgets/controls",
            "_model_module_version": "1.5.0",
            "_model_name": "DescriptionStyleModel",
            "_view_count": null,
            "_view_module": "@jupyter-widgets/base",
            "_view_module_version": "1.2.0",
            "_view_name": "StyleView",
            "description_width": ""
          }
        },
        "2bfa6c244b634095b9016ed23d56a67d": {
          "model_module": "@jupyter-widgets/base",
          "model_module_version": "1.2.0",
          "model_name": "LayoutModel",
          "state": {
            "_model_module": "@jupyter-widgets/base",
            "_model_module_version": "1.2.0",
            "_model_name": "LayoutModel",
            "_view_count": null,
            "_view_module": "@jupyter-widgets/base",
            "_view_module_version": "1.2.0",
            "_view_name": "LayoutView",
            "align_content": null,
            "align_items": null,
            "align_self": null,
            "border": null,
            "bottom": null,
            "display": null,
            "flex": null,
            "flex_flow": null,
            "grid_area": null,
            "grid_auto_columns": null,
            "grid_auto_flow": null,
            "grid_auto_rows": null,
            "grid_column": null,
            "grid_gap": null,
            "grid_row": null,
            "grid_template_areas": null,
            "grid_template_columns": null,
            "grid_template_rows": null,
            "height": null,
            "justify_content": null,
            "justify_items": null,
            "left": null,
            "margin": null,
            "max_height": null,
            "max_width": null,
            "min_height": null,
            "min_width": null,
            "object_fit": null,
            "object_position": null,
            "order": null,
            "overflow": null,
            "overflow_x": null,
            "overflow_y": null,
            "padding": null,
            "right": null,
            "top": null,
            "visibility": null,
            "width": null
          }
        },
        "2f0ce3f3499a42199c639c8fedfbcc5b": {
          "model_module": "@jupyter-widgets/controls",
          "model_module_version": "1.5.0",
          "model_name": "ProgressStyleModel",
          "state": {
            "_model_module": "@jupyter-widgets/controls",
            "_model_module_version": "1.5.0",
            "_model_name": "ProgressStyleModel",
            "_view_count": null,
            "_view_module": "@jupyter-widgets/base",
            "_view_module_version": "1.2.0",
            "_view_name": "StyleView",
            "bar_color": null,
            "description_width": ""
          }
        },
        "2f6ec01cc60e4f6e835f0fdebb2d6e6c": {
          "model_module": "@jupyter-widgets/controls",
          "model_module_version": "1.5.0",
          "model_name": "HTMLModel",
          "state": {
            "_dom_classes": [],
            "_model_module": "@jupyter-widgets/controls",
            "_model_module_version": "1.5.0",
            "_model_name": "HTMLModel",
            "_view_count": null,
            "_view_module": "@jupyter-widgets/controls",
            "_view_module_version": "1.5.0",
            "_view_name": "HTMLView",
            "description": "",
            "description_tooltip": null,
            "layout": "IPY_MODEL_2bfa6c244b634095b9016ed23d56a67d",
            "placeholder": "​",
            "style": "IPY_MODEL_b8ac931b951243b6aaac052e06b7e67e",
            "value": "Extracting data files: "
          }
        },
        "31154c988f1b4829aa1239f1655a254b": {
          "model_module": "@jupyter-widgets/base",
          "model_module_version": "1.2.0",
          "model_name": "LayoutModel",
          "state": {
            "_model_module": "@jupyter-widgets/base",
            "_model_module_version": "1.2.0",
            "_model_name": "LayoutModel",
            "_view_count": null,
            "_view_module": "@jupyter-widgets/base",
            "_view_module_version": "1.2.0",
            "_view_name": "LayoutView",
            "align_content": null,
            "align_items": null,
            "align_self": null,
            "border": null,
            "bottom": null,
            "display": null,
            "flex": null,
            "flex_flow": null,
            "grid_area": null,
            "grid_auto_columns": null,
            "grid_auto_flow": null,
            "grid_auto_rows": null,
            "grid_column": null,
            "grid_gap": null,
            "grid_row": null,
            "grid_template_areas": null,
            "grid_template_columns": null,
            "grid_template_rows": null,
            "height": null,
            "justify_content": null,
            "justify_items": null,
            "left": null,
            "margin": null,
            "max_height": null,
            "max_width": null,
            "min_height": null,
            "min_width": null,
            "object_fit": null,
            "object_position": null,
            "order": null,
            "overflow": null,
            "overflow_x": null,
            "overflow_y": null,
            "padding": null,
            "right": null,
            "top": null,
            "visibility": null,
            "width": "20px"
          }
        },
        "3154d5b62b6449969c2e69e003e6ed0b": {
          "model_module": "@jupyter-widgets/base",
          "model_module_version": "1.2.0",
          "model_name": "LayoutModel",
          "state": {
            "_model_module": "@jupyter-widgets/base",
            "_model_module_version": "1.2.0",
            "_model_name": "LayoutModel",
            "_view_count": null,
            "_view_module": "@jupyter-widgets/base",
            "_view_module_version": "1.2.0",
            "_view_name": "LayoutView",
            "align_content": null,
            "align_items": null,
            "align_self": null,
            "border": null,
            "bottom": null,
            "display": null,
            "flex": null,
            "flex_flow": null,
            "grid_area": null,
            "grid_auto_columns": null,
            "grid_auto_flow": null,
            "grid_auto_rows": null,
            "grid_column": null,
            "grid_gap": null,
            "grid_row": null,
            "grid_template_areas": null,
            "grid_template_columns": null,
            "grid_template_rows": null,
            "height": null,
            "justify_content": null,
            "justify_items": null,
            "left": null,
            "margin": null,
            "max_height": null,
            "max_width": null,
            "min_height": null,
            "min_width": null,
            "object_fit": null,
            "object_position": null,
            "order": null,
            "overflow": null,
            "overflow_x": null,
            "overflow_y": null,
            "padding": null,
            "right": null,
            "top": null,
            "visibility": null,
            "width": "20px"
          }
        },
        "348e2c0f36f3416991370d04e778998d": {
          "model_module": "@jupyter-widgets/controls",
          "model_module_version": "1.5.0",
          "model_name": "HTMLModel",
          "state": {
            "_dom_classes": [],
            "_model_module": "@jupyter-widgets/controls",
            "_model_module_version": "1.5.0",
            "_model_name": "HTMLModel",
            "_view_count": null,
            "_view_module": "@jupyter-widgets/controls",
            "_view_module_version": "1.5.0",
            "_view_name": "HTMLView",
            "description": "",
            "description_tooltip": null,
            "layout": "IPY_MODEL_a943511357ab48d1bc291941dd64efa2",
            "placeholder": "​",
            "style": "IPY_MODEL_294da4c2dd1349e4a3a8f3d033cfcd8e",
            "value": " 0/0 [00:00&lt;?, ?it/s]"
          }
        },
        "3914bc3533da41bb94e7d4abc74f7660": {
          "model_module": "@jupyter-widgets/base",
          "model_module_version": "1.2.0",
          "model_name": "LayoutModel",
          "state": {
            "_model_module": "@jupyter-widgets/base",
            "_model_module_version": "1.2.0",
            "_model_name": "LayoutModel",
            "_view_count": null,
            "_view_module": "@jupyter-widgets/base",
            "_view_module_version": "1.2.0",
            "_view_name": "LayoutView",
            "align_content": null,
            "align_items": null,
            "align_self": null,
            "border": null,
            "bottom": null,
            "display": null,
            "flex": null,
            "flex_flow": null,
            "grid_area": null,
            "grid_auto_columns": null,
            "grid_auto_flow": null,
            "grid_auto_rows": null,
            "grid_column": null,
            "grid_gap": null,
            "grid_row": null,
            "grid_template_areas": null,
            "grid_template_columns": null,
            "grid_template_rows": null,
            "height": null,
            "justify_content": null,
            "justify_items": null,
            "left": null,
            "margin": null,
            "max_height": null,
            "max_width": null,
            "min_height": null,
            "min_width": null,
            "object_fit": null,
            "object_position": null,
            "order": null,
            "overflow": null,
            "overflow_x": null,
            "overflow_y": null,
            "padding": null,
            "right": null,
            "top": null,
            "visibility": null,
            "width": null
          }
        },
        "3af51764da184657b4122546157d65e2": {
          "model_module": "@jupyter-widgets/controls",
          "model_module_version": "1.5.0",
          "model_name": "FloatProgressModel",
          "state": {
            "_dom_classes": [],
            "_model_module": "@jupyter-widgets/controls",
            "_model_module_version": "1.5.0",
            "_model_name": "FloatProgressModel",
            "_view_count": null,
            "_view_module": "@jupyter-widgets/controls",
            "_view_module_version": "1.5.0",
            "_view_name": "ProgressView",
            "bar_style": "success",
            "description": "",
            "description_tooltip": null,
            "layout": "IPY_MODEL_31154c988f1b4829aa1239f1655a254b",
            "max": 1,
            "min": 0,
            "orientation": "horizontal",
            "style": "IPY_MODEL_e758d6b9126949fa8c2de25e85430f04",
            "value": 0
          }
        },
        "3bac3ced057040d5b3cd9a468225de86": {
          "model_module": "@jupyter-widgets/controls",
          "model_module_version": "1.5.0",
          "model_name": "HBoxModel",
          "state": {
            "_dom_classes": [],
            "_model_module": "@jupyter-widgets/controls",
            "_model_module_version": "1.5.0",
            "_model_name": "HBoxModel",
            "_view_count": null,
            "_view_module": "@jupyter-widgets/controls",
            "_view_module_version": "1.5.0",
            "_view_name": "HBoxView",
            "box_style": "",
            "children": [
              "IPY_MODEL_9ae2df75f4504ef58f302d5c8e02ed5c",
              "IPY_MODEL_0ccaec34e1874ac79569034b300d8858",
              "IPY_MODEL_73ec1ffce4a4489fbda940e2936147b4"
            ],
            "layout": "IPY_MODEL_d91f67e9c0e4434a8f47c3b947a40b38"
          }
        },
        "4414b0fb4b3449299c303899a38db71a": {
          "model_module": "@jupyter-widgets/controls",
          "model_module_version": "1.5.0",
          "model_name": "ProgressStyleModel",
          "state": {
            "_model_module": "@jupyter-widgets/controls",
            "_model_module_version": "1.5.0",
            "_model_name": "ProgressStyleModel",
            "_view_count": null,
            "_view_module": "@jupyter-widgets/base",
            "_view_module_version": "1.2.0",
            "_view_name": "StyleView",
            "bar_color": null,
            "description_width": ""
          }
        },
        "4c3fe0bc02564852a64ad68ab4c377a7": {
          "model_module": "@jupyter-widgets/base",
          "model_module_version": "1.2.0",
          "model_name": "LayoutModel",
          "state": {
            "_model_module": "@jupyter-widgets/base",
            "_model_module_version": "1.2.0",
            "_model_name": "LayoutModel",
            "_view_count": null,
            "_view_module": "@jupyter-widgets/base",
            "_view_module_version": "1.2.0",
            "_view_name": "LayoutView",
            "align_content": null,
            "align_items": null,
            "align_self": null,
            "border": null,
            "bottom": null,
            "display": null,
            "flex": null,
            "flex_flow": null,
            "grid_area": null,
            "grid_auto_columns": null,
            "grid_auto_flow": null,
            "grid_auto_rows": null,
            "grid_column": null,
            "grid_gap": null,
            "grid_row": null,
            "grid_template_areas": null,
            "grid_template_columns": null,
            "grid_template_rows": null,
            "height": null,
            "justify_content": null,
            "justify_items": null,
            "left": null,
            "margin": null,
            "max_height": null,
            "max_width": null,
            "min_height": null,
            "min_width": null,
            "object_fit": null,
            "object_position": null,
            "order": null,
            "overflow": null,
            "overflow_x": null,
            "overflow_y": null,
            "padding": null,
            "right": null,
            "top": null,
            "visibility": null,
            "width": null
          }
        },
        "5d6636f5d70349429d2dff5798e110d1": {
          "model_module": "@jupyter-widgets/base",
          "model_module_version": "1.2.0",
          "model_name": "LayoutModel",
          "state": {
            "_model_module": "@jupyter-widgets/base",
            "_model_module_version": "1.2.0",
            "_model_name": "LayoutModel",
            "_view_count": null,
            "_view_module": "@jupyter-widgets/base",
            "_view_module_version": "1.2.0",
            "_view_name": "LayoutView",
            "align_content": null,
            "align_items": null,
            "align_self": null,
            "border": null,
            "bottom": null,
            "display": null,
            "flex": null,
            "flex_flow": null,
            "grid_area": null,
            "grid_auto_columns": null,
            "grid_auto_flow": null,
            "grid_auto_rows": null,
            "grid_column": null,
            "grid_gap": null,
            "grid_row": null,
            "grid_template_areas": null,
            "grid_template_columns": null,
            "grid_template_rows": null,
            "height": null,
            "justify_content": null,
            "justify_items": null,
            "left": null,
            "margin": null,
            "max_height": null,
            "max_width": null,
            "min_height": null,
            "min_width": null,
            "object_fit": null,
            "object_position": null,
            "order": null,
            "overflow": null,
            "overflow_x": null,
            "overflow_y": null,
            "padding": null,
            "right": null,
            "top": null,
            "visibility": null,
            "width": null
          }
        },
        "68ff46e9d0304d62b64d21a24eb7fb9b": {
          "model_module": "@jupyter-widgets/controls",
          "model_module_version": "1.5.0",
          "model_name": "HBoxModel",
          "state": {
            "_dom_classes": [],
            "_model_module": "@jupyter-widgets/controls",
            "_model_module_version": "1.5.0",
            "_model_name": "HBoxModel",
            "_view_count": null,
            "_view_module": "@jupyter-widgets/controls",
            "_view_module_version": "1.5.0",
            "_view_name": "HBoxView",
            "box_style": "",
            "children": [
              "IPY_MODEL_df1b65d8dc3b43dba19691cf2267e904",
              "IPY_MODEL_3af51764da184657b4122546157d65e2",
              "IPY_MODEL_348e2c0f36f3416991370d04e778998d"
            ],
            "layout": "IPY_MODEL_3914bc3533da41bb94e7d4abc74f7660"
          }
        },
        "72f3cf8725014b9b9d800b4405e6d99c": {
          "model_module": "@jupyter-widgets/controls",
          "model_module_version": "1.5.0",
          "model_name": "FloatProgressModel",
          "state": {
            "_dom_classes": [],
            "_model_module": "@jupyter-widgets/controls",
            "_model_module_version": "1.5.0",
            "_model_name": "FloatProgressModel",
            "_view_count": null,
            "_view_module": "@jupyter-widgets/controls",
            "_view_module_version": "1.5.0",
            "_view_name": "ProgressView",
            "bar_style": "success",
            "description": "",
            "description_tooltip": null,
            "layout": "IPY_MODEL_5d6636f5d70349429d2dff5798e110d1",
            "max": 10001,
            "min": 0,
            "orientation": "horizontal",
            "style": "IPY_MODEL_eb2355578a994319ba99c31c78d43512",
            "value": 10001
          }
        },
        "73ec1ffce4a4489fbda940e2936147b4": {
          "model_module": "@jupyter-widgets/controls",
          "model_module_version": "1.5.0",
          "model_name": "HTMLModel",
          "state": {
            "_dom_classes": [],
            "_model_module": "@jupyter-widgets/controls",
            "_model_module_version": "1.5.0",
            "_model_name": "HTMLModel",
            "_view_count": null,
            "_view_module": "@jupyter-widgets/controls",
            "_view_module_version": "1.5.0",
            "_view_name": "HTMLView",
            "description": "",
            "description_tooltip": null,
            "layout": "IPY_MODEL_1b958c6cef604ac389c830d3425995c9",
            "placeholder": "​",
            "style": "IPY_MODEL_b1ba508865b3401b971e6588f2be1622",
            "value": " 10000/0 [00:17&lt;00:00, 10827.18 examples/s]"
          }
        },
        "755fde8b582449c5ac019fbe7639d93a": {
          "model_module": "@jupyter-widgets/controls",
          "model_module_version": "1.5.0",
          "model_name": "HBoxModel",
          "state": {
            "_dom_classes": [],
            "_model_module": "@jupyter-widgets/controls",
            "_model_module_version": "1.5.0",
            "_model_name": "HBoxModel",
            "_view_count": null,
            "_view_module": "@jupyter-widgets/controls",
            "_view_module_version": "1.5.0",
            "_view_name": "HBoxView",
            "box_style": "",
            "children": [
              "IPY_MODEL_ec9bfbb6fbe24a539df6ae309f51d923",
              "IPY_MODEL_e43eae068baa46ad8e74b14d5fee2290",
              "IPY_MODEL_e12732c579024d779cac757c3d34cfe5"
            ],
            "layout": "IPY_MODEL_008eefd938cb46dd96f110f2dd015d9d"
          }
        },
        "7758de1d57db49c69b4586909900762f": {
          "model_module": "@jupyter-widgets/base",
          "model_module_version": "1.2.0",
          "model_name": "LayoutModel",
          "state": {
            "_model_module": "@jupyter-widgets/base",
            "_model_module_version": "1.2.0",
            "_model_name": "LayoutModel",
            "_view_count": null,
            "_view_module": "@jupyter-widgets/base",
            "_view_module_version": "1.2.0",
            "_view_name": "LayoutView",
            "align_content": null,
            "align_items": null,
            "align_self": null,
            "border": null,
            "bottom": null,
            "display": null,
            "flex": null,
            "flex_flow": null,
            "grid_area": null,
            "grid_auto_columns": null,
            "grid_auto_flow": null,
            "grid_auto_rows": null,
            "grid_column": null,
            "grid_gap": null,
            "grid_row": null,
            "grid_template_areas": null,
            "grid_template_columns": null,
            "grid_template_rows": null,
            "height": null,
            "justify_content": null,
            "justify_items": null,
            "left": null,
            "margin": null,
            "max_height": null,
            "max_width": null,
            "min_height": null,
            "min_width": null,
            "object_fit": null,
            "object_position": null,
            "order": null,
            "overflow": null,
            "overflow_x": null,
            "overflow_y": null,
            "padding": null,
            "right": null,
            "top": null,
            "visibility": null,
            "width": null
          }
        },
        "7a0a9fc8fbab4b79b6968766f5a81569": {
          "model_module": "@jupyter-widgets/controls",
          "model_module_version": "1.5.0",
          "model_name": "HTMLModel",
          "state": {
            "_dom_classes": [],
            "_model_module": "@jupyter-widgets/controls",
            "_model_module_version": "1.5.0",
            "_model_name": "HTMLModel",
            "_view_count": null,
            "_view_module": "@jupyter-widgets/controls",
            "_view_module_version": "1.5.0",
            "_view_name": "HTMLView",
            "description": "",
            "description_tooltip": null,
            "layout": "IPY_MODEL_275cedecc4484969be598335e3b5e9ad",
            "placeholder": "​",
            "style": "IPY_MODEL_114575c2983f4c379e355d61d231081f",
            "value": " 10001/10001 [00:00&lt;00:00, 44521.23it/s]"
          }
        },
        "7a49e33948f74a38b7797c9720ac1f8a": {
          "model_module": "@jupyter-widgets/controls",
          "model_module_version": "1.5.0",
          "model_name": "DescriptionStyleModel",
          "state": {
            "_model_module": "@jupyter-widgets/controls",
            "_model_module_version": "1.5.0",
            "_model_name": "DescriptionStyleModel",
            "_view_count": null,
            "_view_module": "@jupyter-widgets/base",
            "_view_module_version": "1.2.0",
            "_view_name": "StyleView",
            "description_width": ""
          }
        },
        "7e98e3c966df443aae96dbb5e1bbc2c0": {
          "model_module": "@jupyter-widgets/controls",
          "model_module_version": "1.5.0",
          "model_name": "DescriptionStyleModel",
          "state": {
            "_model_module": "@jupyter-widgets/controls",
            "_model_module_version": "1.5.0",
            "_model_name": "DescriptionStyleModel",
            "_view_count": null,
            "_view_module": "@jupyter-widgets/base",
            "_view_module_version": "1.2.0",
            "_view_name": "StyleView",
            "description_width": ""
          }
        },
        "82cf0696f208428c975ba19bc6279e1a": {
          "model_module": "@jupyter-widgets/controls",
          "model_module_version": "1.5.0",
          "model_name": "HTMLModel",
          "state": {
            "_dom_classes": [],
            "_model_module": "@jupyter-widgets/controls",
            "_model_module_version": "1.5.0",
            "_model_name": "HTMLModel",
            "_view_count": null,
            "_view_module": "@jupyter-widgets/controls",
            "_view_module_version": "1.5.0",
            "_view_name": "HTMLView",
            "description": "",
            "description_tooltip": null,
            "layout": "IPY_MODEL_187cc20c3f7c4c56bcf1ea3374db6ce2",
            "placeholder": "​",
            "style": "IPY_MODEL_7a49e33948f74a38b7797c9720ac1f8a",
            "value": " 10000/10000 [00:41&lt;00:00, 262.27ex/s]"
          }
        },
        "8389866dbc524044ad95eb734206f386": {
          "model_module": "@jupyter-widgets/base",
          "model_module_version": "1.2.0",
          "model_name": "LayoutModel",
          "state": {
            "_model_module": "@jupyter-widgets/base",
            "_model_module_version": "1.2.0",
            "_model_name": "LayoutModel",
            "_view_count": null,
            "_view_module": "@jupyter-widgets/base",
            "_view_module_version": "1.2.0",
            "_view_name": "LayoutView",
            "align_content": null,
            "align_items": null,
            "align_self": null,
            "border": null,
            "bottom": null,
            "display": null,
            "flex": null,
            "flex_flow": null,
            "grid_area": null,
            "grid_auto_columns": null,
            "grid_auto_flow": null,
            "grid_auto_rows": null,
            "grid_column": null,
            "grid_gap": null,
            "grid_row": null,
            "grid_template_areas": null,
            "grid_template_columns": null,
            "grid_template_rows": null,
            "height": null,
            "justify_content": null,
            "justify_items": null,
            "left": null,
            "margin": null,
            "max_height": null,
            "max_width": null,
            "min_height": null,
            "min_width": null,
            "object_fit": null,
            "object_position": null,
            "order": null,
            "overflow": null,
            "overflow_x": null,
            "overflow_y": null,
            "padding": null,
            "right": null,
            "top": null,
            "visibility": null,
            "width": null
          }
        },
        "83ac6b5152cb4f3686690890ef8ed38f": {
          "model_module": "@jupyter-widgets/base",
          "model_module_version": "1.2.0",
          "model_name": "LayoutModel",
          "state": {
            "_model_module": "@jupyter-widgets/base",
            "_model_module_version": "1.2.0",
            "_model_name": "LayoutModel",
            "_view_count": null,
            "_view_module": "@jupyter-widgets/base",
            "_view_module_version": "1.2.0",
            "_view_name": "LayoutView",
            "align_content": null,
            "align_items": null,
            "align_self": null,
            "border": null,
            "bottom": null,
            "display": null,
            "flex": null,
            "flex_flow": null,
            "grid_area": null,
            "grid_auto_columns": null,
            "grid_auto_flow": null,
            "grid_auto_rows": null,
            "grid_column": null,
            "grid_gap": null,
            "grid_row": null,
            "grid_template_areas": null,
            "grid_template_columns": null,
            "grid_template_rows": null,
            "height": null,
            "justify_content": null,
            "justify_items": null,
            "left": null,
            "margin": null,
            "max_height": null,
            "max_width": null,
            "min_height": null,
            "min_width": null,
            "object_fit": null,
            "object_position": null,
            "order": null,
            "overflow": null,
            "overflow_x": null,
            "overflow_y": null,
            "padding": null,
            "right": null,
            "top": null,
            "visibility": null,
            "width": null
          }
        },
        "870027fb51834a9ca25ec37ea024e4ac": {
          "model_module": "@jupyter-widgets/base",
          "model_module_version": "1.2.0",
          "model_name": "LayoutModel",
          "state": {
            "_model_module": "@jupyter-widgets/base",
            "_model_module_version": "1.2.0",
            "_model_name": "LayoutModel",
            "_view_count": null,
            "_view_module": "@jupyter-widgets/base",
            "_view_module_version": "1.2.0",
            "_view_name": "LayoutView",
            "align_content": null,
            "align_items": null,
            "align_self": null,
            "border": null,
            "bottom": null,
            "display": null,
            "flex": null,
            "flex_flow": null,
            "grid_area": null,
            "grid_auto_columns": null,
            "grid_auto_flow": null,
            "grid_auto_rows": null,
            "grid_column": null,
            "grid_gap": null,
            "grid_row": null,
            "grid_template_areas": null,
            "grid_template_columns": null,
            "grid_template_rows": null,
            "height": null,
            "justify_content": null,
            "justify_items": null,
            "left": null,
            "margin": null,
            "max_height": null,
            "max_width": null,
            "min_height": null,
            "min_width": null,
            "object_fit": null,
            "object_position": null,
            "order": null,
            "overflow": null,
            "overflow_x": null,
            "overflow_y": null,
            "padding": null,
            "right": null,
            "top": null,
            "visibility": null,
            "width": null
          }
        },
        "941bd8629a3c4cc9ac298306001d9581": {
          "model_module": "@jupyter-widgets/base",
          "model_module_version": "1.2.0",
          "model_name": "LayoutModel",
          "state": {
            "_model_module": "@jupyter-widgets/base",
            "_model_module_version": "1.2.0",
            "_model_name": "LayoutModel",
            "_view_count": null,
            "_view_module": "@jupyter-widgets/base",
            "_view_module_version": "1.2.0",
            "_view_name": "LayoutView",
            "align_content": null,
            "align_items": null,
            "align_self": null,
            "border": null,
            "bottom": null,
            "display": null,
            "flex": null,
            "flex_flow": null,
            "grid_area": null,
            "grid_auto_columns": null,
            "grid_auto_flow": null,
            "grid_auto_rows": null,
            "grid_column": null,
            "grid_gap": null,
            "grid_row": null,
            "grid_template_areas": null,
            "grid_template_columns": null,
            "grid_template_rows": null,
            "height": null,
            "justify_content": null,
            "justify_items": null,
            "left": null,
            "margin": null,
            "max_height": null,
            "max_width": null,
            "min_height": null,
            "min_width": null,
            "object_fit": null,
            "object_position": null,
            "order": null,
            "overflow": null,
            "overflow_x": null,
            "overflow_y": null,
            "padding": null,
            "right": null,
            "top": null,
            "visibility": null,
            "width": null
          }
        },
        "94633f43fd3f44318208527a63dcdbaa": {
          "model_module": "@jupyter-widgets/base",
          "model_module_version": "1.2.0",
          "model_name": "LayoutModel",
          "state": {
            "_model_module": "@jupyter-widgets/base",
            "_model_module_version": "1.2.0",
            "_model_name": "LayoutModel",
            "_view_count": null,
            "_view_module": "@jupyter-widgets/base",
            "_view_module_version": "1.2.0",
            "_view_name": "LayoutView",
            "align_content": null,
            "align_items": null,
            "align_self": null,
            "border": null,
            "bottom": null,
            "display": null,
            "flex": null,
            "flex_flow": null,
            "grid_area": null,
            "grid_auto_columns": null,
            "grid_auto_flow": null,
            "grid_auto_rows": null,
            "grid_column": null,
            "grid_gap": null,
            "grid_row": null,
            "grid_template_areas": null,
            "grid_template_columns": null,
            "grid_template_rows": null,
            "height": null,
            "justify_content": null,
            "justify_items": null,
            "left": null,
            "margin": null,
            "max_height": null,
            "max_width": null,
            "min_height": null,
            "min_width": null,
            "object_fit": null,
            "object_position": null,
            "order": null,
            "overflow": null,
            "overflow_x": null,
            "overflow_y": null,
            "padding": null,
            "right": null,
            "top": null,
            "visibility": null,
            "width": null
          }
        },
        "97485f484afd48f5876b74556f3ed4f9": {
          "model_module": "@jupyter-widgets/controls",
          "model_module_version": "1.5.0",
          "model_name": "DescriptionStyleModel",
          "state": {
            "_model_module": "@jupyter-widgets/controls",
            "_model_module_version": "1.5.0",
            "_model_name": "DescriptionStyleModel",
            "_view_count": null,
            "_view_module": "@jupyter-widgets/base",
            "_view_module_version": "1.2.0",
            "_view_name": "StyleView",
            "description_width": ""
          }
        },
        "990e95905ce74b9dbcefec499a90eec4": {
          "model_module": "@jupyter-widgets/controls",
          "model_module_version": "1.5.0",
          "model_name": "FloatProgressModel",
          "state": {
            "_dom_classes": [],
            "_model_module": "@jupyter-widgets/controls",
            "_model_module_version": "1.5.0",
            "_model_name": "FloatProgressModel",
            "_view_count": null,
            "_view_module": "@jupyter-widgets/controls",
            "_view_module_version": "1.5.0",
            "_view_name": "ProgressView",
            "bar_style": "success",
            "description": "",
            "description_tooltip": null,
            "layout": "IPY_MODEL_fa961cb1ae7e4f75bf0b7d2631f007b1",
            "max": 10000,
            "min": 0,
            "orientation": "horizontal",
            "style": "IPY_MODEL_21b5de35d55c49ada62ee9c6c5ae8212",
            "value": 10000
          }
        },
        "9ae2df75f4504ef58f302d5c8e02ed5c": {
          "model_module": "@jupyter-widgets/controls",
          "model_module_version": "1.5.0",
          "model_name": "HTMLModel",
          "state": {
            "_dom_classes": [],
            "_model_module": "@jupyter-widgets/controls",
            "_model_module_version": "1.5.0",
            "_model_name": "HTMLModel",
            "_view_count": null,
            "_view_module": "@jupyter-widgets/controls",
            "_view_module_version": "1.5.0",
            "_view_name": "HTMLView",
            "description": "",
            "description_tooltip": null,
            "layout": "IPY_MODEL_870027fb51834a9ca25ec37ea024e4ac",
            "placeholder": "​",
            "style": "IPY_MODEL_145baf37158848638836d41bed826003",
            "value": "Generating train split: "
          }
        },
        "9c21a0401bf14154b47b1ffeddd3edb9": {
          "model_module": "@jupyter-widgets/base",
          "model_module_version": "1.2.0",
          "model_name": "LayoutModel",
          "state": {
            "_model_module": "@jupyter-widgets/base",
            "_model_module_version": "1.2.0",
            "_model_name": "LayoutModel",
            "_view_count": null,
            "_view_module": "@jupyter-widgets/base",
            "_view_module_version": "1.2.0",
            "_view_name": "LayoutView",
            "align_content": null,
            "align_items": null,
            "align_self": null,
            "border": null,
            "bottom": null,
            "display": null,
            "flex": null,
            "flex_flow": null,
            "grid_area": null,
            "grid_auto_columns": null,
            "grid_auto_flow": null,
            "grid_auto_rows": null,
            "grid_column": null,
            "grid_gap": null,
            "grid_row": null,
            "grid_template_areas": null,
            "grid_template_columns": null,
            "grid_template_rows": null,
            "height": null,
            "justify_content": null,
            "justify_items": null,
            "left": null,
            "margin": null,
            "max_height": null,
            "max_width": null,
            "min_height": null,
            "min_width": null,
            "object_fit": null,
            "object_position": null,
            "order": null,
            "overflow": null,
            "overflow_x": null,
            "overflow_y": null,
            "padding": null,
            "right": null,
            "top": null,
            "visibility": null,
            "width": null
          }
        },
        "a27a107249cc4325970bd4b2b165c19f": {
          "model_module": "@jupyter-widgets/controls",
          "model_module_version": "1.5.0",
          "model_name": "HBoxModel",
          "state": {
            "_dom_classes": [],
            "_model_module": "@jupyter-widgets/controls",
            "_model_module_version": "1.5.0",
            "_model_name": "HBoxModel",
            "_view_count": null,
            "_view_module": "@jupyter-widgets/controls",
            "_view_module_version": "1.5.0",
            "_view_name": "HBoxView",
            "box_style": "",
            "children": [
              "IPY_MODEL_22dcc58ebed342aa86c97c3ec296ec9b",
              "IPY_MODEL_1919875318f14386bb70350592dfbdf8",
              "IPY_MODEL_82cf0696f208428c975ba19bc6279e1a"
            ],
            "layout": "IPY_MODEL_e2b27093bfe54a53b8f3f27a16b7c426"
          }
        },
        "a7c2c5255b3240c0bd1232343d3d7a81": {
          "model_module": "@jupyter-widgets/controls",
          "model_module_version": "1.5.0",
          "model_name": "ProgressStyleModel",
          "state": {
            "_model_module": "@jupyter-widgets/controls",
            "_model_module_version": "1.5.0",
            "_model_name": "ProgressStyleModel",
            "_view_count": null,
            "_view_module": "@jupyter-widgets/base",
            "_view_module_version": "1.2.0",
            "_view_name": "StyleView",
            "bar_color": null,
            "description_width": ""
          }
        },
        "a7d7c2d5b1a0468cbf9c75e719537493": {
          "model_module": "@jupyter-widgets/base",
          "model_module_version": "1.2.0",
          "model_name": "LayoutModel",
          "state": {
            "_model_module": "@jupyter-widgets/base",
            "_model_module_version": "1.2.0",
            "_model_name": "LayoutModel",
            "_view_count": null,
            "_view_module": "@jupyter-widgets/base",
            "_view_module_version": "1.2.0",
            "_view_name": "LayoutView",
            "align_content": null,
            "align_items": null,
            "align_self": null,
            "border": null,
            "bottom": null,
            "display": null,
            "flex": null,
            "flex_flow": null,
            "grid_area": null,
            "grid_auto_columns": null,
            "grid_auto_flow": null,
            "grid_auto_rows": null,
            "grid_column": null,
            "grid_gap": null,
            "grid_row": null,
            "grid_template_areas": null,
            "grid_template_columns": null,
            "grid_template_rows": null,
            "height": null,
            "justify_content": null,
            "justify_items": null,
            "left": null,
            "margin": null,
            "max_height": null,
            "max_width": null,
            "min_height": null,
            "min_width": null,
            "object_fit": null,
            "object_position": null,
            "order": null,
            "overflow": null,
            "overflow_x": null,
            "overflow_y": null,
            "padding": null,
            "right": null,
            "top": null,
            "visibility": null,
            "width": null
          }
        },
        "a943511357ab48d1bc291941dd64efa2": {
          "model_module": "@jupyter-widgets/base",
          "model_module_version": "1.2.0",
          "model_name": "LayoutModel",
          "state": {
            "_model_module": "@jupyter-widgets/base",
            "_model_module_version": "1.2.0",
            "_model_name": "LayoutModel",
            "_view_count": null,
            "_view_module": "@jupyter-widgets/base",
            "_view_module_version": "1.2.0",
            "_view_name": "LayoutView",
            "align_content": null,
            "align_items": null,
            "align_self": null,
            "border": null,
            "bottom": null,
            "display": null,
            "flex": null,
            "flex_flow": null,
            "grid_area": null,
            "grid_auto_columns": null,
            "grid_auto_flow": null,
            "grid_auto_rows": null,
            "grid_column": null,
            "grid_gap": null,
            "grid_row": null,
            "grid_template_areas": null,
            "grid_template_columns": null,
            "grid_template_rows": null,
            "height": null,
            "justify_content": null,
            "justify_items": null,
            "left": null,
            "margin": null,
            "max_height": null,
            "max_width": null,
            "min_height": null,
            "min_width": null,
            "object_fit": null,
            "object_position": null,
            "order": null,
            "overflow": null,
            "overflow_x": null,
            "overflow_y": null,
            "padding": null,
            "right": null,
            "top": null,
            "visibility": null,
            "width": null
          }
        },
        "ad8958f27eff4638be247e57023af6cf": {
          "model_module": "@jupyter-widgets/controls",
          "model_module_version": "1.5.0",
          "model_name": "HBoxModel",
          "state": {
            "_dom_classes": [],
            "_model_module": "@jupyter-widgets/controls",
            "_model_module_version": "1.5.0",
            "_model_name": "HBoxModel",
            "_view_count": null,
            "_view_module": "@jupyter-widgets/controls",
            "_view_module_version": "1.5.0",
            "_view_name": "HBoxView",
            "box_style": "",
            "children": [
              "IPY_MODEL_190dd6e10c4f4788867a99e2e69ab694",
              "IPY_MODEL_72f3cf8725014b9b9d800b4405e6d99c",
              "IPY_MODEL_7a0a9fc8fbab4b79b6968766f5a81569"
            ],
            "layout": "IPY_MODEL_b12431289bd34f699dced8505ee9a5ea"
          }
        },
        "ae09cd39e6194b3796b5f4dffc761b96": {
          "model_module": "@jupyter-widgets/controls",
          "model_module_version": "1.5.0",
          "model_name": "DescriptionStyleModel",
          "state": {
            "_model_module": "@jupyter-widgets/controls",
            "_model_module_version": "1.5.0",
            "_model_name": "DescriptionStyleModel",
            "_view_count": null,
            "_view_module": "@jupyter-widgets/base",
            "_view_module_version": "1.2.0",
            "_view_name": "StyleView",
            "description_width": ""
          }
        },
        "aede00c9ec654ae3b49751eed252b057": {
          "model_module": "@jupyter-widgets/controls",
          "model_module_version": "1.5.0",
          "model_name": "DescriptionStyleModel",
          "state": {
            "_model_module": "@jupyter-widgets/controls",
            "_model_module_version": "1.5.0",
            "_model_name": "DescriptionStyleModel",
            "_view_count": null,
            "_view_module": "@jupyter-widgets/base",
            "_view_module_version": "1.2.0",
            "_view_name": "StyleView",
            "description_width": ""
          }
        },
        "b12431289bd34f699dced8505ee9a5ea": {
          "model_module": "@jupyter-widgets/base",
          "model_module_version": "1.2.0",
          "model_name": "LayoutModel",
          "state": {
            "_model_module": "@jupyter-widgets/base",
            "_model_module_version": "1.2.0",
            "_model_name": "LayoutModel",
            "_view_count": null,
            "_view_module": "@jupyter-widgets/base",
            "_view_module_version": "1.2.0",
            "_view_name": "LayoutView",
            "align_content": null,
            "align_items": null,
            "align_self": null,
            "border": null,
            "bottom": null,
            "display": null,
            "flex": null,
            "flex_flow": null,
            "grid_area": null,
            "grid_auto_columns": null,
            "grid_auto_flow": null,
            "grid_auto_rows": null,
            "grid_column": null,
            "grid_gap": null,
            "grid_row": null,
            "grid_template_areas": null,
            "grid_template_columns": null,
            "grid_template_rows": null,
            "height": null,
            "justify_content": null,
            "justify_items": null,
            "left": null,
            "margin": null,
            "max_height": null,
            "max_width": null,
            "min_height": null,
            "min_width": null,
            "object_fit": null,
            "object_position": null,
            "order": null,
            "overflow": null,
            "overflow_x": null,
            "overflow_y": null,
            "padding": null,
            "right": null,
            "top": null,
            "visibility": null,
            "width": null
          }
        },
        "b1ba508865b3401b971e6588f2be1622": {
          "model_module": "@jupyter-widgets/controls",
          "model_module_version": "1.5.0",
          "model_name": "DescriptionStyleModel",
          "state": {
            "_model_module": "@jupyter-widgets/controls",
            "_model_module_version": "1.5.0",
            "_model_name": "DescriptionStyleModel",
            "_view_count": null,
            "_view_module": "@jupyter-widgets/base",
            "_view_module_version": "1.2.0",
            "_view_name": "StyleView",
            "description_width": ""
          }
        },
        "b53187aacc2c42abb447d221c9d472b4": {
          "model_module": "@jupyter-widgets/controls",
          "model_module_version": "1.5.0",
          "model_name": "DescriptionStyleModel",
          "state": {
            "_model_module": "@jupyter-widgets/controls",
            "_model_module_version": "1.5.0",
            "_model_name": "DescriptionStyleModel",
            "_view_count": null,
            "_view_module": "@jupyter-widgets/base",
            "_view_module_version": "1.2.0",
            "_view_name": "StyleView",
            "description_width": ""
          }
        },
        "b86e9652a0ac42e3b502f5ca65e5f576": {
          "model_module": "@jupyter-widgets/controls",
          "model_module_version": "1.5.0",
          "model_name": "HBoxModel",
          "state": {
            "_dom_classes": [],
            "_model_module": "@jupyter-widgets/controls",
            "_model_module_version": "1.5.0",
            "_model_name": "HBoxModel",
            "_view_count": null,
            "_view_module": "@jupyter-widgets/controls",
            "_view_module_version": "1.5.0",
            "_view_name": "HBoxView",
            "box_style": "",
            "children": [
              "IPY_MODEL_ce598681d9cd4fc4ae35c44dcdeccd22",
              "IPY_MODEL_990e95905ce74b9dbcefec499a90eec4",
              "IPY_MODEL_e2dbc65d91be4fd888a6c47a3a79fa2d"
            ],
            "layout": "IPY_MODEL_9c21a0401bf14154b47b1ffeddd3edb9"
          }
        },
        "b8ac931b951243b6aaac052e06b7e67e": {
          "model_module": "@jupyter-widgets/controls",
          "model_module_version": "1.5.0",
          "model_name": "DescriptionStyleModel",
          "state": {
            "_model_module": "@jupyter-widgets/controls",
            "_model_module_version": "1.5.0",
            "_model_name": "DescriptionStyleModel",
            "_view_count": null,
            "_view_module": "@jupyter-widgets/base",
            "_view_module_version": "1.2.0",
            "_view_name": "StyleView",
            "description_width": ""
          }
        },
        "bea543a491094d75ac429aa4cb314f9f": {
          "model_module": "@jupyter-widgets/base",
          "model_module_version": "1.2.0",
          "model_name": "LayoutModel",
          "state": {
            "_model_module": "@jupyter-widgets/base",
            "_model_module_version": "1.2.0",
            "_model_name": "LayoutModel",
            "_view_count": null,
            "_view_module": "@jupyter-widgets/base",
            "_view_module_version": "1.2.0",
            "_view_name": "LayoutView",
            "align_content": null,
            "align_items": null,
            "align_self": null,
            "border": null,
            "bottom": null,
            "display": null,
            "flex": null,
            "flex_flow": null,
            "grid_area": null,
            "grid_auto_columns": null,
            "grid_auto_flow": null,
            "grid_auto_rows": null,
            "grid_column": null,
            "grid_gap": null,
            "grid_row": null,
            "grid_template_areas": null,
            "grid_template_columns": null,
            "grid_template_rows": null,
            "height": null,
            "justify_content": null,
            "justify_items": null,
            "left": null,
            "margin": null,
            "max_height": null,
            "max_width": null,
            "min_height": null,
            "min_width": null,
            "object_fit": null,
            "object_position": null,
            "order": null,
            "overflow": null,
            "overflow_x": null,
            "overflow_y": null,
            "padding": null,
            "right": null,
            "top": null,
            "visibility": null,
            "width": null
          }
        },
        "c2ed7097bed94f188005c110f690c9be": {
          "model_module": "@jupyter-widgets/controls",
          "model_module_version": "1.5.0",
          "model_name": "HTMLModel",
          "state": {
            "_dom_classes": [],
            "_model_module": "@jupyter-widgets/controls",
            "_model_module_version": "1.5.0",
            "_model_name": "HTMLModel",
            "_view_count": null,
            "_view_module": "@jupyter-widgets/controls",
            "_view_module_version": "1.5.0",
            "_view_name": "HTMLView",
            "description": "",
            "description_tooltip": null,
            "layout": "IPY_MODEL_8389866dbc524044ad95eb734206f386",
            "placeholder": "​",
            "style": "IPY_MODEL_f7d0517450cd46f99ea989c809c0f05c",
            "value": " 0/0 [00:00&lt;?, ?it/s]"
          }
        },
        "c6f90c0850c948468610fa834b34d0e8": {
          "model_module": "@jupyter-widgets/controls",
          "model_module_version": "1.5.0",
          "model_name": "ProgressStyleModel",
          "state": {
            "_model_module": "@jupyter-widgets/controls",
            "_model_module_version": "1.5.0",
            "_model_name": "ProgressStyleModel",
            "_view_count": null,
            "_view_module": "@jupyter-widgets/base",
            "_view_module_version": "1.2.0",
            "_view_name": "StyleView",
            "bar_color": null,
            "description_width": ""
          }
        },
        "ce598681d9cd4fc4ae35c44dcdeccd22": {
          "model_module": "@jupyter-widgets/controls",
          "model_module_version": "1.5.0",
          "model_name": "HTMLModel",
          "state": {
            "_dom_classes": [],
            "_model_module": "@jupyter-widgets/controls",
            "_model_module_version": "1.5.0",
            "_model_name": "HTMLModel",
            "_view_count": null,
            "_view_module": "@jupyter-widgets/controls",
            "_view_module_version": "1.5.0",
            "_view_name": "HTMLView",
            "description": "",
            "description_tooltip": null,
            "layout": "IPY_MODEL_a7d7c2d5b1a0468cbf9c75e719537493",
            "placeholder": "​",
            "style": "IPY_MODEL_7e98e3c966df443aae96dbb5e1bbc2c0",
            "value": "100%"
          }
        },
        "d91f67e9c0e4434a8f47c3b947a40b38": {
          "model_module": "@jupyter-widgets/base",
          "model_module_version": "1.2.0",
          "model_name": "LayoutModel",
          "state": {
            "_model_module": "@jupyter-widgets/base",
            "_model_module_version": "1.2.0",
            "_model_name": "LayoutModel",
            "_view_count": null,
            "_view_module": "@jupyter-widgets/base",
            "_view_module_version": "1.2.0",
            "_view_name": "LayoutView",
            "align_content": null,
            "align_items": null,
            "align_self": null,
            "border": null,
            "bottom": null,
            "display": null,
            "flex": null,
            "flex_flow": null,
            "grid_area": null,
            "grid_auto_columns": null,
            "grid_auto_flow": null,
            "grid_auto_rows": null,
            "grid_column": null,
            "grid_gap": null,
            "grid_row": null,
            "grid_template_areas": null,
            "grid_template_columns": null,
            "grid_template_rows": null,
            "height": null,
            "justify_content": null,
            "justify_items": null,
            "left": null,
            "margin": null,
            "max_height": null,
            "max_width": null,
            "min_height": null,
            "min_width": null,
            "object_fit": null,
            "object_position": null,
            "order": null,
            "overflow": null,
            "overflow_x": null,
            "overflow_y": null,
            "padding": null,
            "right": null,
            "top": null,
            "visibility": "hidden",
            "width": null
          }
        },
        "df1b65d8dc3b43dba19691cf2267e904": {
          "model_module": "@jupyter-widgets/controls",
          "model_module_version": "1.5.0",
          "model_name": "HTMLModel",
          "state": {
            "_dom_classes": [],
            "_model_module": "@jupyter-widgets/controls",
            "_model_module_version": "1.5.0",
            "_model_name": "HTMLModel",
            "_view_count": null,
            "_view_module": "@jupyter-widgets/controls",
            "_view_module_version": "1.5.0",
            "_view_name": "HTMLView",
            "description": "",
            "description_tooltip": null,
            "layout": "IPY_MODEL_7758de1d57db49c69b4586909900762f",
            "placeholder": "​",
            "style": "IPY_MODEL_ae09cd39e6194b3796b5f4dffc761b96",
            "value": "Downloading data files: "
          }
        },
        "e12732c579024d779cac757c3d34cfe5": {
          "model_module": "@jupyter-widgets/controls",
          "model_module_version": "1.5.0",
          "model_name": "HTMLModel",
          "state": {
            "_dom_classes": [],
            "_model_module": "@jupyter-widgets/controls",
            "_model_module_version": "1.5.0",
            "_model_name": "HTMLModel",
            "_view_count": null,
            "_view_module": "@jupyter-widgets/controls",
            "_view_module_version": "1.5.0",
            "_view_name": "HTMLView",
            "description": "",
            "description_tooltip": null,
            "layout": "IPY_MODEL_253d6d78adf14a3a8be44a6db7e110e6",
            "placeholder": "​",
            "style": "IPY_MODEL_f05585624d2d4f23949f4b39ff71c84a",
            "value": " 10001/10001 [00:00&lt;00:00, 18819.64it/s]"
          }
        },
        "e2b27093bfe54a53b8f3f27a16b7c426": {
          "model_module": "@jupyter-widgets/base",
          "model_module_version": "1.2.0",
          "model_name": "LayoutModel",
          "state": {
            "_model_module": "@jupyter-widgets/base",
            "_model_module_version": "1.2.0",
            "_model_name": "LayoutModel",
            "_view_count": null,
            "_view_module": "@jupyter-widgets/base",
            "_view_module_version": "1.2.0",
            "_view_name": "LayoutView",
            "align_content": null,
            "align_items": null,
            "align_self": null,
            "border": null,
            "bottom": null,
            "display": null,
            "flex": null,
            "flex_flow": null,
            "grid_area": null,
            "grid_auto_columns": null,
            "grid_auto_flow": null,
            "grid_auto_rows": null,
            "grid_column": null,
            "grid_gap": null,
            "grid_row": null,
            "grid_template_areas": null,
            "grid_template_columns": null,
            "grid_template_rows": null,
            "height": null,
            "justify_content": null,
            "justify_items": null,
            "left": null,
            "margin": null,
            "max_height": null,
            "max_width": null,
            "min_height": null,
            "min_width": null,
            "object_fit": null,
            "object_position": null,
            "order": null,
            "overflow": null,
            "overflow_x": null,
            "overflow_y": null,
            "padding": null,
            "right": null,
            "top": null,
            "visibility": null,
            "width": null
          }
        },
        "e2dbc65d91be4fd888a6c47a3a79fa2d": {
          "model_module": "@jupyter-widgets/controls",
          "model_module_version": "1.5.0",
          "model_name": "HTMLModel",
          "state": {
            "_dom_classes": [],
            "_model_module": "@jupyter-widgets/controls",
            "_model_module_version": "1.5.0",
            "_model_name": "HTMLModel",
            "_view_count": null,
            "_view_module": "@jupyter-widgets/controls",
            "_view_module_version": "1.5.0",
            "_view_name": "HTMLView",
            "description": "",
            "description_tooltip": null,
            "layout": "IPY_MODEL_83ac6b5152cb4f3686690890ef8ed38f",
            "placeholder": "​",
            "style": "IPY_MODEL_b53187aacc2c42abb447d221c9d472b4",
            "value": " 10000/10000 [00:11&lt;00:00, 1109.88ex/s]"
          }
        },
        "e43eae068baa46ad8e74b14d5fee2290": {
          "model_module": "@jupyter-widgets/controls",
          "model_module_version": "1.5.0",
          "model_name": "FloatProgressModel",
          "state": {
            "_dom_classes": [],
            "_model_module": "@jupyter-widgets/controls",
            "_model_module_version": "1.5.0",
            "_model_name": "FloatProgressModel",
            "_view_count": null,
            "_view_module": "@jupyter-widgets/controls",
            "_view_module_version": "1.5.0",
            "_view_name": "ProgressView",
            "bar_style": "success",
            "description": "",
            "description_tooltip": null,
            "layout": "IPY_MODEL_94633f43fd3f44318208527a63dcdbaa",
            "max": 10001,
            "min": 0,
            "orientation": "horizontal",
            "style": "IPY_MODEL_a7c2c5255b3240c0bd1232343d3d7a81",
            "value": 10001
          }
        },
        "e70c70d648924e4c9d73d836bd6a7800": {
          "model_module": "@jupyter-widgets/controls",
          "model_module_version": "1.5.0",
          "model_name": "DescriptionStyleModel",
          "state": {
            "_model_module": "@jupyter-widgets/controls",
            "_model_module_version": "1.5.0",
            "_model_name": "DescriptionStyleModel",
            "_view_count": null,
            "_view_module": "@jupyter-widgets/base",
            "_view_module_version": "1.2.0",
            "_view_name": "StyleView",
            "description_width": ""
          }
        },
        "e758d6b9126949fa8c2de25e85430f04": {
          "model_module": "@jupyter-widgets/controls",
          "model_module_version": "1.5.0",
          "model_name": "ProgressStyleModel",
          "state": {
            "_model_module": "@jupyter-widgets/controls",
            "_model_module_version": "1.5.0",
            "_model_name": "ProgressStyleModel",
            "_view_count": null,
            "_view_module": "@jupyter-widgets/base",
            "_view_module_version": "1.2.0",
            "_view_name": "StyleView",
            "bar_color": null,
            "description_width": ""
          }
        },
        "eb2355578a994319ba99c31c78d43512": {
          "model_module": "@jupyter-widgets/controls",
          "model_module_version": "1.5.0",
          "model_name": "ProgressStyleModel",
          "state": {
            "_model_module": "@jupyter-widgets/controls",
            "_model_module_version": "1.5.0",
            "_model_name": "ProgressStyleModel",
            "_view_count": null,
            "_view_module": "@jupyter-widgets/base",
            "_view_module_version": "1.2.0",
            "_view_name": "StyleView",
            "bar_color": null,
            "description_width": ""
          }
        },
        "ec9bfbb6fbe24a539df6ae309f51d923": {
          "model_module": "@jupyter-widgets/controls",
          "model_module_version": "1.5.0",
          "model_name": "HTMLModel",
          "state": {
            "_dom_classes": [],
            "_model_module": "@jupyter-widgets/controls",
            "_model_module_version": "1.5.0",
            "_model_name": "HTMLModel",
            "_view_count": null,
            "_view_module": "@jupyter-widgets/controls",
            "_view_module_version": "1.5.0",
            "_view_name": "HTMLView",
            "description": "",
            "description_tooltip": null,
            "layout": "IPY_MODEL_f3a5a6ee6d96441bb2816fa8f6558677",
            "placeholder": "​",
            "style": "IPY_MODEL_aede00c9ec654ae3b49751eed252b057",
            "value": "Resolving data files: 100%"
          }
        },
        "f05585624d2d4f23949f4b39ff71c84a": {
          "model_module": "@jupyter-widgets/controls",
          "model_module_version": "1.5.0",
          "model_name": "DescriptionStyleModel",
          "state": {
            "_model_module": "@jupyter-widgets/controls",
            "_model_module_version": "1.5.0",
            "_model_name": "DescriptionStyleModel",
            "_view_count": null,
            "_view_module": "@jupyter-widgets/base",
            "_view_module_version": "1.2.0",
            "_view_name": "StyleView",
            "description_width": ""
          }
        },
        "f3a5a6ee6d96441bb2816fa8f6558677": {
          "model_module": "@jupyter-widgets/base",
          "model_module_version": "1.2.0",
          "model_name": "LayoutModel",
          "state": {
            "_model_module": "@jupyter-widgets/base",
            "_model_module_version": "1.2.0",
            "_model_name": "LayoutModel",
            "_view_count": null,
            "_view_module": "@jupyter-widgets/base",
            "_view_module_version": "1.2.0",
            "_view_name": "LayoutView",
            "align_content": null,
            "align_items": null,
            "align_self": null,
            "border": null,
            "bottom": null,
            "display": null,
            "flex": null,
            "flex_flow": null,
            "grid_area": null,
            "grid_auto_columns": null,
            "grid_auto_flow": null,
            "grid_auto_rows": null,
            "grid_column": null,
            "grid_gap": null,
            "grid_row": null,
            "grid_template_areas": null,
            "grid_template_columns": null,
            "grid_template_rows": null,
            "height": null,
            "justify_content": null,
            "justify_items": null,
            "left": null,
            "margin": null,
            "max_height": null,
            "max_width": null,
            "min_height": null,
            "min_width": null,
            "object_fit": null,
            "object_position": null,
            "order": null,
            "overflow": null,
            "overflow_x": null,
            "overflow_y": null,
            "padding": null,
            "right": null,
            "top": null,
            "visibility": null,
            "width": null
          }
        },
        "f4449d5a0187410791c67b5436c34b5f": {
          "model_module": "@jupyter-widgets/base",
          "model_module_version": "1.2.0",
          "model_name": "LayoutModel",
          "state": {
            "_model_module": "@jupyter-widgets/base",
            "_model_module_version": "1.2.0",
            "_model_name": "LayoutModel",
            "_view_count": null,
            "_view_module": "@jupyter-widgets/base",
            "_view_module_version": "1.2.0",
            "_view_name": "LayoutView",
            "align_content": null,
            "align_items": null,
            "align_self": null,
            "border": null,
            "bottom": null,
            "display": null,
            "flex": null,
            "flex_flow": null,
            "grid_area": null,
            "grid_auto_columns": null,
            "grid_auto_flow": null,
            "grid_auto_rows": null,
            "grid_column": null,
            "grid_gap": null,
            "grid_row": null,
            "grid_template_areas": null,
            "grid_template_columns": null,
            "grid_template_rows": null,
            "height": null,
            "justify_content": null,
            "justify_items": null,
            "left": null,
            "margin": null,
            "max_height": null,
            "max_width": null,
            "min_height": null,
            "min_width": null,
            "object_fit": null,
            "object_position": null,
            "order": null,
            "overflow": null,
            "overflow_x": null,
            "overflow_y": null,
            "padding": null,
            "right": null,
            "top": null,
            "visibility": null,
            "width": null
          }
        },
        "f7d0517450cd46f99ea989c809c0f05c": {
          "model_module": "@jupyter-widgets/controls",
          "model_module_version": "1.5.0",
          "model_name": "DescriptionStyleModel",
          "state": {
            "_model_module": "@jupyter-widgets/controls",
            "_model_module_version": "1.5.0",
            "_model_name": "DescriptionStyleModel",
            "_view_count": null,
            "_view_module": "@jupyter-widgets/base",
            "_view_module_version": "1.2.0",
            "_view_name": "StyleView",
            "description_width": ""
          }
        },
        "fa961cb1ae7e4f75bf0b7d2631f007b1": {
          "model_module": "@jupyter-widgets/base",
          "model_module_version": "1.2.0",
          "model_name": "LayoutModel",
          "state": {
            "_model_module": "@jupyter-widgets/base",
            "_model_module_version": "1.2.0",
            "_model_name": "LayoutModel",
            "_view_count": null,
            "_view_module": "@jupyter-widgets/base",
            "_view_module_version": "1.2.0",
            "_view_name": "LayoutView",
            "align_content": null,
            "align_items": null,
            "align_self": null,
            "border": null,
            "bottom": null,
            "display": null,
            "flex": null,
            "flex_flow": null,
            "grid_area": null,
            "grid_auto_columns": null,
            "grid_auto_flow": null,
            "grid_auto_rows": null,
            "grid_column": null,
            "grid_gap": null,
            "grid_row": null,
            "grid_template_areas": null,
            "grid_template_columns": null,
            "grid_template_rows": null,
            "height": null,
            "justify_content": null,
            "justify_items": null,
            "left": null,
            "margin": null,
            "max_height": null,
            "max_width": null,
            "min_height": null,
            "min_width": null,
            "object_fit": null,
            "object_position": null,
            "order": null,
            "overflow": null,
            "overflow_x": null,
            "overflow_y": null,
            "padding": null,
            "right": null,
            "top": null,
            "visibility": null,
            "width": null
          }
        }
      }
    }
  },
  "nbformat": 4,
  "nbformat_minor": 0
}