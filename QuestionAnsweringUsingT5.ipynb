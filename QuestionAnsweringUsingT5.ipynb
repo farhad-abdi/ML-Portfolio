{
  "cells": [
    {
      "cell_type": "code",
      "execution_count": null,
      "metadata": {
        "colab": {
          "base_uri": "https://localhost:8080/"
        },
        "id": "4Qd1egoJXHAG",
        "outputId": "8faa8470-6e93-48cd-f6c4-14748768ab89"
      },
      "outputs": [
        {
          "output_type": "stream",
          "name": "stdout",
          "text": [
            "Sun Dec 25 19:15:21 2022       \n",
            "+-----------------------------------------------------------------------------+\n",
            "| NVIDIA-SMI 460.32.03    Driver Version: 460.32.03    CUDA Version: 11.2     |\n",
            "|-------------------------------+----------------------+----------------------+\n",
            "| GPU  Name        Persistence-M| Bus-Id        Disp.A | Volatile Uncorr. ECC |\n",
            "| Fan  Temp  Perf  Pwr:Usage/Cap|         Memory-Usage | GPU-Util  Compute M. |\n",
            "|                               |                      |               MIG M. |\n",
            "|===============================+======================+======================|\n",
            "|   0  Tesla T4            Off  | 00000000:00:04.0 Off |                    0 |\n",
            "| N/A   60C    P0    28W /  70W |   9040MiB / 15109MiB |      0%      Default |\n",
            "|                               |                      |                  N/A |\n",
            "+-------------------------------+----------------------+----------------------+\n",
            "                                                                               \n",
            "+-----------------------------------------------------------------------------+\n",
            "| Processes:                                                                  |\n",
            "|  GPU   GI   CI        PID   Type   Process name                  GPU Memory |\n",
            "|        ID   ID                                                   Usage      |\n",
            "|=============================================================================|\n",
            "+-----------------------------------------------------------------------------+\n"
          ]
        }
      ],
      "source": [
        "# check for the GPU provided in the runtime\n",
        "!nvidia-smi"
      ]
    },
    {
      "cell_type": "code",
      "execution_count": null,
      "metadata": {
        "id": "F-28tCMuZIn0"
      },
      "outputs": [],
      "source": [
        "# using quiet method for controlling the log\n",
        "# for suppressing the colored errors and warning in the terminal\n",
        "!pip install --quiet transformers==4.1.1\n",
        "# pytorch lightning for smoother model training and data loading\n",
        "#!pip install --quiet https://github.com/PyTorchLightning/pytorch-lightning/releases/download/1.2.6/pytorch-lightning-1.2.6.tar.gz \n",
        "!pip install -q pytorch-lightning  \n",
        "# using HuggingFace tokenizers\n",
        "!pip install --quiet tokenizers==0.9.4\n",
        "# Google's sentencepiece\n",
        "!pip install --quiet sentencepiece==0.1.94"
      ]
    },
    {
      "cell_type": "code",
      "execution_count": null,
      "metadata": {
        "id": "6HRG-0vqZkbx"
      },
      "outputs": [],
      "source": [
        "# argparse makes it easier to write user friendly command line interfaces\n",
        "import argparse\n",
        "# package for faster file name matching\n",
        "import glob\n",
        "# makiing directories for data \n",
        "import os\n",
        "# reading json files as the data is present in json files\n",
        "import json\n",
        "# time module for calculating the model runtime\n",
        "import time\n",
        "# Allows writing status messages to a file\n",
        "import logging\n",
        "# generate random float numbers uniformly\n",
        "import random\n",
        "# regex module for text \n",
        "import re\n",
        "# module provides various functions which work on \n",
        "# iterators too produce complex iterators\n",
        "from itertools import chain\n",
        "from string import punctuation\n",
        "\n",
        "# pandas for data manipulation\n",
        "import pandas as pd\n",
        "# numpy for array operations\n",
        "import numpy as np\n",
        "# PyTorch\n",
        "import torch\n",
        "# provides various classes representing file system paths\n",
        "# with appropriate semantics\n",
        "from pathlib import Path\n",
        "from torch.utils.data import Dataset, DataLoader\n",
        "import pytorch_lightning as pl\n",
        "\n",
        "# splitting the data \n",
        "from sklearn.model_selection import train_test_split\n",
        "# ANSII color formatting for ouput in terminal\n",
        "from termcolor import colored\n",
        "# wrapping paragraphs into string\n",
        "import textwrap\n",
        "\n",
        "# model checkpoints in pretrained model\n",
        "from pytorch_lightning.callbacks import ModelCheckpoint\n",
        "\n",
        "'''\n",
        "optimizer - AdamW\n",
        "T5 Conditional Generator in which we'll give conditions\n",
        "T5 tokenizer because it is fast\n",
        "training the model without a learning rate\n",
        "'''\n",
        "from transformers import (\n",
        "    AdamW,\n",
        "    T5ForConditionalGeneration,\n",
        "    T5Tokenizer,\n",
        "    get_linear_schedule_with_warmup\n",
        ")"
      ]
    },
    {
      "cell_type": "code",
      "execution_count": null,
      "metadata": {
        "colab": {
          "base_uri": "https://localhost:8080/"
        },
        "id": "3g9RyS26ao6N",
        "outputId": "98a67afb-1c69-4fe0-b229-b87c9e961377"
      },
      "outputs": [
        {
          "output_type": "stream",
          "name": "stderr",
          "text": [
            "INFO:lightning_lite.utilities.seed:Global seed set to 0\n"
          ]
        },
        {
          "output_type": "execute_result",
          "data": {
            "text/plain": [
              "0"
            ]
          },
          "metadata": {},
          "execution_count": 71
        }
      ],
      "source": [
        "# Seeds all the processes including numpy torch and other imported modules.\n",
        "pl.seed_everything(0)"
      ]
    },
    {
      "cell_type": "code",
      "execution_count": null,
      "metadata": {
        "colab": {
          "base_uri": "https://localhost:8080/"
        },
        "id": "QLwmdXZwYBBD",
        "outputId": "6bb53497-e4df-4d7c-e08e-a1b2dc221ace"
      },
      "outputs": [
        {
          "output_type": "stream",
          "name": "stdout",
          "text": [
            "1.8.6\n"
          ]
        }
      ],
      "source": [
        "# check the version provided by Lightning\n",
        "import pytorch_lightning as pl\n",
        "print(pl.__version__)"
      ]
    },
    {
      "cell_type": "code",
      "execution_count": null,
      "metadata": {
        "id": "GP_baOyrhIBi"
      },
      "outputs": [],
      "source": [
        "import json\n",
        "\n",
        "with open('/content/pqa_train.json', 'r') as f:\n",
        "  data = json.load(f)\n",
        "\n"
      ]
    },
    {
      "cell_type": "code",
      "execution_count": null,
      "metadata": {
        "colab": {
          "base_uri": "https://localhost:8080/"
        },
        "id": "WVRRw_I3s5xK",
        "outputId": "df86d061-b6cf-44c0-968a-af919ea91d9d"
      },
      "outputs": [
        {
          "output_type": "execute_result",
          "data": {
            "text/plain": [
              "dict_keys(['title', 'paragraphs'])"
            ]
          },
          "metadata": {},
          "execution_count": 74
        }
      ],
      "source": [
        "data['data'][1].keys()"
      ]
    },
    {
      "cell_type": "code",
      "execution_count": null,
      "metadata": {
        "colab": {
          "base_uri": "https://localhost:8080/"
        },
        "id": "PTtqg76Fgbx9",
        "outputId": "1f9e0a02-7ea9-4255-a7fe-212469183cd7"
      },
      "outputs": [
        {
          "output_type": "execute_result",
          "data": {
            "text/plain": [
              "901"
            ]
          },
          "metadata": {},
          "execution_count": 75
        }
      ],
      "source": [
        "# len \n",
        "len(data['data'])"
      ]
    },
    {
      "cell_type": "code",
      "execution_count": null,
      "metadata": {
        "colab": {
          "base_uri": "https://localhost:8080/"
        },
        "id": "DcYfBhQErm0D",
        "outputId": "6b7c41e1-ef40-4032-fc4a-6a5ca7a6ca3e"
      },
      "outputs": [
        {
          "output_type": "execute_result",
          "data": {
            "text/plain": [
              "dict_keys(['title', 'paragraphs'])"
            ]
          },
          "metadata": {},
          "execution_count": 76
        }
      ],
      "source": [
        "# We have a list of dictionaries in the \"data\". We can explore the 0th element\n",
        "data['data'][0].keys()"
      ]
    },
    {
      "cell_type": "code",
      "execution_count": null,
      "metadata": {
        "colab": {
          "base_uri": "https://localhost:8080/",
          "height": 35
        },
        "id": "U8qQqmUvggNp",
        "outputId": "030745f2-f1b8-4af7-82da-75c017a02bd3"
      },
      "outputs": [
        {
          "output_type": "execute_result",
          "data": {
            "text/plain": [
              "'علوم رایانه'"
            ],
            "application/vnd.google.colaboratory.intrinsic+json": {
              "type": "string"
            }
          },
          "metadata": {},
          "execution_count": 77
        }
      ],
      "source": [
        "data['data'][1]['title']"
      ]
    },
    {
      "cell_type": "code",
      "execution_count": null,
      "metadata": {
        "colab": {
          "base_uri": "https://localhost:8080/"
        },
        "id": "6pwN0LzAr5WF",
        "outputId": "063b6ded-56bb-45db-f317-db7cdaba2204"
      },
      "outputs": [
        {
          "output_type": "execute_result",
          "data": {
            "text/plain": [
              "1"
            ]
          },
          "metadata": {},
          "execution_count": 78
        }
      ],
      "source": [
        "len(data['data'][0]['paragraphs'])"
      ]
    },
    {
      "cell_type": "code",
      "execution_count": null,
      "metadata": {
        "id": "osJEpTsIgnjJ"
      },
      "outputs": [],
      "source": [
        "questions = data['data'][1]['paragraphs']"
      ]
    },
    {
      "cell_type": "code",
      "execution_count": null,
      "metadata": {
        "colab": {
          "base_uri": "https://localhost:8080/"
        },
        "id": "Cd6Ps2tlgym-",
        "outputId": "cd93d861-802c-4bfc-f891-cabe36512956"
      },
      "outputs": [
        {
          "output_type": "execute_result",
          "data": {
            "text/plain": [
              "{'qas': [{'answers': [{'answer_start': 29,\n",
              "     'answer_end': 141,\n",
              "     'text': 'به مجموعهٔ مطالعاتی گفته می\\u200cشود که به زیربناهای نظری، روش\\u200cهای طراحی و ساخت و چگونگی استفاده از رایانه می\\u200cپردازند'}],\n",
              "   'question': 'تعریف علوم کامپیوترچیست؟',\n",
              "   'is_impossible': False,\n",
              "   'id': 11},\n",
              "  {'answers': [{'answer_start': 142,\n",
              "     'answer_end': 215,\n",
              "     'text': 'رشته علوم کامپیوتر را می\\u200cتوان به زیررشته\\u200cهای نظری و عملی بسیاری تقسیم کرد'}],\n",
              "   'question': 'رشته علوم کامپوتر را چگونه می توان تقسیم کرد؟',\n",
              "   'is_impossible': False,\n",
              "   'id': 12},\n",
              "  {'answers': [{'answer_start': 507,\n",
              "     'answer_end': 543,\n",
              "     'text': ' بر چالش\\u200cهای موجود در اجرای محاسبات '}],\n",
              "   'question': 'تمرکز رشته های علوم کامپیوتر روی چیست؟',\n",
              "   'is_impossible': False,\n",
              "   'id': 13},\n",
              "  {'answers': [{'answer_start': 630,\n",
              "     'answer_end': 645,\n",
              "     'text': ' دانشگاه کپنهاگ'}],\n",
              "   'question': 'اولین مکان علمی که عبارت داده شناسی را استفاده کرد کجا بود؟',\n",
              "   'is_impossible': False,\n",
              "   'id': 14},\n",
              "  {'answers': [{'answer_start': 769,\n",
              "     'answer_end': 782,\n",
              "     'text': 'ادسخر دیکسترا'}],\n",
              "   'question': 'چه کسی گفته که علم رایانه به همان اندازه در مورد رایانه است که نجوم در مورد تلسکوپ؟',\n",
              "   'is_impossible': False,\n",
              "   'id': 15},\n",
              "  {'answers': [{'answer_start': 927,\n",
              "     'answer_end': 964,\n",
              "     'text': 'ایالات متحده آمریکا و کشورهای اروپایی'}],\n",
              "   'question': 'کشورهای پیشرفته در زمینهٔ علوم کامپیوتر کدام اند؟',\n",
              "   'is_impossible': False,\n",
              "   'id': 16},\n",
              "  {'answers': [{'answer_start': 662,\n",
              "     'answer_end': 684,\n",
              "     'text': ' پیتر ناور در سال ۱۹۶۹'}],\n",
              "   'question': ' اولین گروه داده\\u200cشناسی توسط چه کسی و در چه سالی بنا شد؟',\n",
              "   'is_impossible': False,\n",
              "   'id': 17},\n",
              "  {'answers': [],\n",
              "   'question': 'علوم کامپیوتر در چه سالی به یک رشته دانشگاهی تبدیل شد؟',\n",
              "   'is_impossible': True,\n",
              "   'id': 18},\n",
              "  {'answers': [],\n",
              "   'question': 'بنیان گذار علم داده شناسی در ایران کیست؟',\n",
              "   'is_impossible': True,\n",
              "   'id': 19},\n",
              "  {'answers': [],\n",
              "   'question': 'کشورهای عقب مانده در زمینهٔ علوم کامپیوتر کدام اند؟',\n",
              "   'is_impossible': True,\n",
              "   'id': 20}],\n",
              " 'context': 'علوم رایانه یا علوم کامپیوتر به مجموعهٔ مطالعاتی گفته می\\u200cشود که به زیربناهای نظری، روش\\u200cهای طراحی و ساخت و چگونگی استفاده از رایانه می\\u200cپردازند.رشته علوم کامپیوتر را می\\u200cتوان به زیررشته\\u200cهای نظری و عملی بسیاری تقسیم کرد. بعضی از این زیررشته\\u200cها، نظیر نظریه پیچیدگی محاسباتی (که خواص اساسی مشکلات محاسباتی و قابل حل بودن آن\\u200cها را بررسی می\\u200cکند) بسیار انتزاعی هستند، این در حالی است که زیررشته\\u200cهای دیگر مانند گرافیک کامپیوتری به بررسی کاربردهای قابل لمس تر در دنیای واقعی تأکید دارند. اکثر زیررشته\\u200cهای علوم کامپیوتر بر چالش\\u200cهای موجود در اجرای محاسبات تمرکز دارند.  اولین مؤسسهٔ علمی که عبارت داده\\u200cشناسی را بکار برد DIKU گروه داده\\u200cشناسی در دانشگاه کپنهاگ بوده\\u200cاست که توسط پیتر ناور در سال ۱۹۶۹ به عنوان اولین گروه داده\\u200cشناسی بنا گذاشته شد. عبارت زیر از دانشمند معروف علم رایانه ادسخر دیکسترا نقل قول شده\\u200cاست: \"علم رایانه به همان اندازه در مورد رایانه است که نجوم در مورد تلسکوپ.\" در بسیاری از کشورهای پیشرو در زمینهٔ علوم کامپیوتر، مثل ایالات متحده آمریکا و کشورهای اروپایی، رشتهٔ علوم کامپیوتر رشتهٔ اصلی در زمینهٔ علوم و مهندسی کامپیوتر و سیستم\\u200cهای اطلاعاتی است.\\r\\n'}"
            ]
          },
          "metadata": {},
          "execution_count": 80
        }
      ],
      "source": [
        "# datapoint sample\n",
        "questions[0]"
      ]
    },
    {
      "cell_type": "markdown",
      "metadata": {
        "id": "dLafI4AstqzH"
      },
      "source": [
        "# Function to Create a pandas dataframes of questions and answers"
      ]
    },
    {
      "cell_type": "code",
      "execution_count": null,
      "metadata": {
        "id": "hzddd0tug2wR"
      },
      "outputs": [],
      "source": [
        "def extract_questions_and_answers(factoid_path ):\n",
        "  with factoid_path.open() as json_file:\n",
        "    data = json.load(json_file)\n",
        "    data_rows = []\n",
        "\n",
        "    for i in range(len(data['data'])):\n",
        "      #print(data['data'][i]['title'])\n",
        "      questions = data['data'][i]['paragraphs']\n",
        "      \n",
        "      for question in questions:\n",
        "        context = question['context']\n",
        "        for question_and_answers in question['qas']:\n",
        "          question = question_and_answers['question']\n",
        "          #print(question)\n",
        "          answers = question_and_answers['answers']\n",
        "          for answer in answers:\n",
        "            answer_text = answer['text']\n",
        "            answer_start = answer['answer_start']\n",
        "            answer_end = answer['answer_start'] + len(answer_text)  #Gets the end index of each answer in the paragraph\n",
        "            \n",
        "            data_rows.append({\n",
        "                  \"question\" : question,\n",
        "                  \"context\"  : context,\n",
        "                  \"answer_text\" : answer_text,\n",
        "                  \"answer_start\" : answer_start,\n",
        "                  \"answer_end\" : answer_end\n",
        "              })\n",
        "            #print(len(data_rows))\n",
        "  \n",
        "  return pd.DataFrame(data_rows)"
      ]
    },
    {
      "cell_type": "code",
      "execution_count": null,
      "metadata": {
        "colab": {
          "base_uri": "https://localhost:8080/",
          "height": 363
        },
        "id": "G3kZ3Tl6kX6G",
        "outputId": "8d020d29-cd88-4271-cfd0-076b06f725ba"
      },
      "outputs": [
        {
          "output_type": "execute_result",
          "data": {
            "text/plain": [
              "                                            question  \\\n",
              "0              شرکت فولاد مبارکه در کجا واقع شده است   \n",
              "1  فولاد مبارکه چند بار برنده جایزه شرکت دانشی را...   \n",
              "2     شرکت فولاد مبارکه در سال ۱۳۹۱ چه جایزه ای برد؟   \n",
              "3           بزرگ ترین مجموعه تولید فولاد ایران چیست؟   \n",
              "4                  فولاد مبارکه در چه سالی احداث شد؟   \n",
              "5                     مصرف آب فولاد مبارکه چقدر است؟   \n",
              "6          بزرگ‌ترین واحد صنعتی خصوصی در ایران چیست؟   \n",
              "7                           تعریف علوم کامپیوترچیست؟   \n",
              "8      رشته علوم کامپوتر را چگونه می توان تقسیم کرد؟   \n",
              "9             تمرکز رشته های علوم کامپیوتر روی چیست؟   \n",
              "\n",
              "                                             context  \\\n",
              "0  شرکت فولاد مبارکۀ اصفهان، بزرگ‌ترین واحد صنعتی...   \n",
              "1  شرکت فولاد مبارکۀ اصفهان، بزرگ‌ترین واحد صنعتی...   \n",
              "2  شرکت فولاد مبارکۀ اصفهان، بزرگ‌ترین واحد صنعتی...   \n",
              "3  شرکت فولاد مبارکۀ اصفهان، بزرگ‌ترین واحد صنعتی...   \n",
              "4  شرکت فولاد مبارکۀ اصفهان، بزرگ‌ترین واحد صنعتی...   \n",
              "5  شرکت فولاد مبارکۀ اصفهان، بزرگ‌ترین واحد صنعتی...   \n",
              "6  شرکت فولاد مبارکۀ اصفهان، بزرگ‌ترین واحد صنعتی...   \n",
              "7  علوم رایانه یا علوم کامپیوتر به مجموعهٔ مطالعا...   \n",
              "8  علوم رایانه یا علوم کامپیوتر به مجموعهٔ مطالعا...   \n",
              "9  علوم رایانه یا علوم کامپیوتر به مجموعهٔ مطالعا...   \n",
              "\n",
              "                                         answer_text  answer_start  answer_end  \n",
              "0                                  در شرق شهر مبارکه           114         131  \n",
              "1                                                  ۶           263         264  \n",
              "2                 تندیس زرین جایزۀ ملی تعالی سازمانی           413         447  \n",
              "3                                  شرکت فولاد مبارکۀ             0          17  \n",
              "4                                               ۱۳۷۱           504         508  \n",
              "5   در کمترین میزان خود، ۱٫۵٪ از دبی زاینده‌رود ب...           728         815  \n",
              "6                           شرکت فولاد مبارکۀ اصفهان             0          24  \n",
              "7  به مجموعهٔ مطالعاتی گفته می‌شود که به زیربناها...            29         141  \n",
              "8  رشته علوم کامپیوتر را می‌توان به زیررشته‌های ن...           142         215  \n",
              "9                بر چالش‌های موجود در اجرای محاسبات            507         543  "
            ],
            "text/html": [
              "\n",
              "  <div id=\"df-9f7e7da9-c807-4403-803a-3ff4849a9d53\">\n",
              "    <div class=\"colab-df-container\">\n",
              "      <div>\n",
              "<style scoped>\n",
              "    .dataframe tbody tr th:only-of-type {\n",
              "        vertical-align: middle;\n",
              "    }\n",
              "\n",
              "    .dataframe tbody tr th {\n",
              "        vertical-align: top;\n",
              "    }\n",
              "\n",
              "    .dataframe thead th {\n",
              "        text-align: right;\n",
              "    }\n",
              "</style>\n",
              "<table border=\"1\" class=\"dataframe\">\n",
              "  <thead>\n",
              "    <tr style=\"text-align: right;\">\n",
              "      <th></th>\n",
              "      <th>question</th>\n",
              "      <th>context</th>\n",
              "      <th>answer_text</th>\n",
              "      <th>answer_start</th>\n",
              "      <th>answer_end</th>\n",
              "    </tr>\n",
              "  </thead>\n",
              "  <tbody>\n",
              "    <tr>\n",
              "      <th>0</th>\n",
              "      <td>شرکت فولاد مبارکه در کجا واقع شده است</td>\n",
              "      <td>شرکت فولاد مبارکۀ اصفهان، بزرگ‌ترین واحد صنعتی...</td>\n",
              "      <td>در شرق شهر مبارکه</td>\n",
              "      <td>114</td>\n",
              "      <td>131</td>\n",
              "    </tr>\n",
              "    <tr>\n",
              "      <th>1</th>\n",
              "      <td>فولاد مبارکه چند بار برنده جایزه شرکت دانشی را...</td>\n",
              "      <td>شرکت فولاد مبارکۀ اصفهان، بزرگ‌ترین واحد صنعتی...</td>\n",
              "      <td>۶</td>\n",
              "      <td>263</td>\n",
              "      <td>264</td>\n",
              "    </tr>\n",
              "    <tr>\n",
              "      <th>2</th>\n",
              "      <td>شرکت فولاد مبارکه در سال ۱۳۹۱ چه جایزه ای برد؟</td>\n",
              "      <td>شرکت فولاد مبارکۀ اصفهان، بزرگ‌ترین واحد صنعتی...</td>\n",
              "      <td>تندیس زرین جایزۀ ملی تعالی سازمانی</td>\n",
              "      <td>413</td>\n",
              "      <td>447</td>\n",
              "    </tr>\n",
              "    <tr>\n",
              "      <th>3</th>\n",
              "      <td>بزرگ ترین مجموعه تولید فولاد ایران چیست؟</td>\n",
              "      <td>شرکت فولاد مبارکۀ اصفهان، بزرگ‌ترین واحد صنعتی...</td>\n",
              "      <td>شرکت فولاد مبارکۀ</td>\n",
              "      <td>0</td>\n",
              "      <td>17</td>\n",
              "    </tr>\n",
              "    <tr>\n",
              "      <th>4</th>\n",
              "      <td>فولاد مبارکه در چه سالی احداث شد؟</td>\n",
              "      <td>شرکت فولاد مبارکۀ اصفهان، بزرگ‌ترین واحد صنعتی...</td>\n",
              "      <td>۱۳۷۱</td>\n",
              "      <td>504</td>\n",
              "      <td>508</td>\n",
              "    </tr>\n",
              "    <tr>\n",
              "      <th>5</th>\n",
              "      <td>مصرف آب فولاد مبارکه چقدر است؟</td>\n",
              "      <td>شرکت فولاد مبارکۀ اصفهان، بزرگ‌ترین واحد صنعتی...</td>\n",
              "      <td>در کمترین میزان خود، ۱٫۵٪ از دبی زاینده‌رود ب...</td>\n",
              "      <td>728</td>\n",
              "      <td>815</td>\n",
              "    </tr>\n",
              "    <tr>\n",
              "      <th>6</th>\n",
              "      <td>بزرگ‌ترین واحد صنعتی خصوصی در ایران چیست؟</td>\n",
              "      <td>شرکت فولاد مبارکۀ اصفهان، بزرگ‌ترین واحد صنعتی...</td>\n",
              "      <td>شرکت فولاد مبارکۀ اصفهان</td>\n",
              "      <td>0</td>\n",
              "      <td>24</td>\n",
              "    </tr>\n",
              "    <tr>\n",
              "      <th>7</th>\n",
              "      <td>تعریف علوم کامپیوترچیست؟</td>\n",
              "      <td>علوم رایانه یا علوم کامپیوتر به مجموعهٔ مطالعا...</td>\n",
              "      <td>به مجموعهٔ مطالعاتی گفته می‌شود که به زیربناها...</td>\n",
              "      <td>29</td>\n",
              "      <td>141</td>\n",
              "    </tr>\n",
              "    <tr>\n",
              "      <th>8</th>\n",
              "      <td>رشته علوم کامپوتر را چگونه می توان تقسیم کرد؟</td>\n",
              "      <td>علوم رایانه یا علوم کامپیوتر به مجموعهٔ مطالعا...</td>\n",
              "      <td>رشته علوم کامپیوتر را می‌توان به زیررشته‌های ن...</td>\n",
              "      <td>142</td>\n",
              "      <td>215</td>\n",
              "    </tr>\n",
              "    <tr>\n",
              "      <th>9</th>\n",
              "      <td>تمرکز رشته های علوم کامپیوتر روی چیست؟</td>\n",
              "      <td>علوم رایانه یا علوم کامپیوتر به مجموعهٔ مطالعا...</td>\n",
              "      <td>بر چالش‌های موجود در اجرای محاسبات</td>\n",
              "      <td>507</td>\n",
              "      <td>543</td>\n",
              "    </tr>\n",
              "  </tbody>\n",
              "</table>\n",
              "</div>\n",
              "      <button class=\"colab-df-convert\" onclick=\"convertToInteractive('df-9f7e7da9-c807-4403-803a-3ff4849a9d53')\"\n",
              "              title=\"Convert this dataframe to an interactive table.\"\n",
              "              style=\"display:none;\">\n",
              "        \n",
              "  <svg xmlns=\"http://www.w3.org/2000/svg\" height=\"24px\"viewBox=\"0 0 24 24\"\n",
              "       width=\"24px\">\n",
              "    <path d=\"M0 0h24v24H0V0z\" fill=\"none\"/>\n",
              "    <path d=\"M18.56 5.44l.94 2.06.94-2.06 2.06-.94-2.06-.94-.94-2.06-.94 2.06-2.06.94zm-11 1L8.5 8.5l.94-2.06 2.06-.94-2.06-.94L8.5 2.5l-.94 2.06-2.06.94zm10 10l.94 2.06.94-2.06 2.06-.94-2.06-.94-.94-2.06-.94 2.06-2.06.94z\"/><path d=\"M17.41 7.96l-1.37-1.37c-.4-.4-.92-.59-1.43-.59-.52 0-1.04.2-1.43.59L10.3 9.45l-7.72 7.72c-.78.78-.78 2.05 0 2.83L4 21.41c.39.39.9.59 1.41.59.51 0 1.02-.2 1.41-.59l7.78-7.78 2.81-2.81c.8-.78.8-2.07 0-2.86zM5.41 20L4 18.59l7.72-7.72 1.47 1.35L5.41 20z\"/>\n",
              "  </svg>\n",
              "      </button>\n",
              "      \n",
              "  <style>\n",
              "    .colab-df-container {\n",
              "      display:flex;\n",
              "      flex-wrap:wrap;\n",
              "      gap: 12px;\n",
              "    }\n",
              "\n",
              "    .colab-df-convert {\n",
              "      background-color: #E8F0FE;\n",
              "      border: none;\n",
              "      border-radius: 50%;\n",
              "      cursor: pointer;\n",
              "      display: none;\n",
              "      fill: #1967D2;\n",
              "      height: 32px;\n",
              "      padding: 0 0 0 0;\n",
              "      width: 32px;\n",
              "    }\n",
              "\n",
              "    .colab-df-convert:hover {\n",
              "      background-color: #E2EBFA;\n",
              "      box-shadow: 0px 1px 2px rgba(60, 64, 67, 0.3), 0px 1px 3px 1px rgba(60, 64, 67, 0.15);\n",
              "      fill: #174EA6;\n",
              "    }\n",
              "\n",
              "    [theme=dark] .colab-df-convert {\n",
              "      background-color: #3B4455;\n",
              "      fill: #D2E3FC;\n",
              "    }\n",
              "\n",
              "    [theme=dark] .colab-df-convert:hover {\n",
              "      background-color: #434B5C;\n",
              "      box-shadow: 0px 1px 3px 1px rgba(0, 0, 0, 0.15);\n",
              "      filter: drop-shadow(0px 1px 2px rgba(0, 0, 0, 0.3));\n",
              "      fill: #FFFFFF;\n",
              "    }\n",
              "  </style>\n",
              "\n",
              "      <script>\n",
              "        const buttonEl =\n",
              "          document.querySelector('#df-9f7e7da9-c807-4403-803a-3ff4849a9d53 button.colab-df-convert');\n",
              "        buttonEl.style.display =\n",
              "          google.colab.kernel.accessAllowed ? 'block' : 'none';\n",
              "\n",
              "        async function convertToInteractive(key) {\n",
              "          const element = document.querySelector('#df-9f7e7da9-c807-4403-803a-3ff4849a9d53');\n",
              "          const dataTable =\n",
              "            await google.colab.kernel.invokeFunction('convertToInteractive',\n",
              "                                                     [key], {});\n",
              "          if (!dataTable) return;\n",
              "\n",
              "          const docLinkHtml = 'Like what you see? Visit the ' +\n",
              "            '<a target=\"_blank\" href=https://colab.research.google.com/notebooks/data_table.ipynb>data table notebook</a>'\n",
              "            + ' to learn more about interactive tables.';\n",
              "          element.innerHTML = '';\n",
              "          dataTable['output_type'] = 'display_data';\n",
              "          await google.colab.output.renderOutput(dataTable, element);\n",
              "          const docLink = document.createElement('div');\n",
              "          docLink.innerHTML = docLinkHtml;\n",
              "          element.appendChild(docLink);\n",
              "        }\n",
              "      </script>\n",
              "    </div>\n",
              "  </div>\n",
              "  "
            ]
          },
          "metadata": {},
          "execution_count": 82
        }
      ],
      "source": [
        "factoid_path = Path(\"/content/pqa_train.json\")\n",
        "df = extract_questions_and_answers(factoid_path)\n",
        "df.head(10)"
      ]
    },
    {
      "cell_type": "code",
      "execution_count": null,
      "metadata": {
        "colab": {
          "base_uri": "https://localhost:8080/"
        },
        "id": "t64yrzc28S3M",
        "outputId": "42ac558f-f98d-4148-9c67-d68f72fe575d"
      },
      "outputs": [
        {
          "output_type": "execute_result",
          "data": {
            "text/plain": [
              "(6306, 5)"
            ]
          },
          "metadata": {},
          "execution_count": 83
        }
      ],
      "source": [
        "df.shape"
      ]
    },
    {
      "cell_type": "code",
      "execution_count": null,
      "metadata": {
        "colab": {
          "base_uri": "https://localhost:8080/"
        },
        "id": "_HVNoMGrnBLs",
        "outputId": "28612795-7531-4f9f-e07c-5c2f815983b4"
      },
      "outputs": [
        {
          "output_type": "execute_result",
          "data": {
            "text/plain": [
              "question            بنیانگذاران گوگل قرار شد چقدر با هم کار کنند؟\n",
              "context         گوگل یک شرکت آمریکایی فعال در حوزهٔ فناوری اطل...\n",
              "answer_text                     به مدت بیست سال، یعنی تا سال ۲۰۲۴\n",
              "answer_start                                                  429\n",
              "answer_end                                                    462\n",
              "Name: 243, dtype: object"
            ]
          },
          "metadata": {},
          "execution_count": 84
        }
      ],
      "source": [
        "sample_question = df.iloc[243]\n",
        "sample_question"
      ]
    },
    {
      "cell_type": "code",
      "execution_count": null,
      "metadata": {
        "id": "k2I78NRWnNN3"
      },
      "outputs": [],
      "source": [
        "# Using textcolor to visualize the answer within the context\n",
        "\n",
        "def color_answer(question):\n",
        "  answer_start, answer_end = question[\"answer_start\"],question[\"answer_end\"]\n",
        "  context = question['context']\n",
        "\n",
        "  return  colored(context[:answer_start], \"white\") + \\\n",
        "    colored(context[answer_start:answer_end + 1], \"green\") + \\\n",
        "    colored(context[answer_end+1:], \"white\")\n"
      ]
    },
    {
      "cell_type": "code",
      "execution_count": null,
      "metadata": {
        "colab": {
          "base_uri": "https://localhost:8080/"
        },
        "id": "1sDkGTTUoOa3",
        "outputId": "914d0e42-1a23-4d0e-ad38-f6e58911b3e4"
      },
      "outputs": [
        {
          "output_type": "stream",
          "name": "stdout",
          "text": [
            "بنیانگذاران گوگل قرار شد چقدر با هم کار کنند؟\n",
            "\n",
            "Answer: \n",
            "گوگل یک شرکت آمریکایی فعال در حوزهٔ فناوری اطلاعات شامل جستجوی اینترنتی، رایانش ابری و تبلیغات،\n",
            "نرم‌افزار و سخت‌افزار است. این شرکت توسط لری پیج و سرگئی برین تأسیس شد که هر دوی آن‌ها در دانشگاه\n",
            "استنفورد به عنوان دانشجوی دکترا حضور داشتند و با نام «مردان گوگل» شناخته می‌شدند. گوگل ابتدا به\n",
            "عنوان یک شرکت خصوصی در ۴ سپتامبر ۱۹۹۸ ثبت شد و فروش اولیه سهام آن در ۱۹ اوت ۲۰۰۴ انجام شد. لری پیج و\n",
            "سرگئی برین و اریک اشمیت قبول کردند که به مدت بیست سال، یعنی تا سال ۲۰۲۴ در کنار هم کار کنند. هدف\n",
            "گوگل از آغاز «سازماندهی کردن اطلاعات جهان و دسترس‌پذیر کردن آن‌ها برای عموم» بود،[۶] و شعار غیررسمی\n",
            "شرکت (که توسط مهندس گوگل امیت پاتل ابداع شد[۷] و توسط پل بوچهیت از آن حمایت شد) «شرور نباشید» (به\n",
            "انگلیسی: Don't Be Evil) بود.در سال ۲۰۰۶ شرکت به محل جدید و کنونیش در مانتین ویو، کالیفرنیا منتقل\n",
            "شد.[۱۰] در سال ۲۰۱۵، گوگل قسمت‌های مختلف خود را به صورت شرکت خوشه‌ای آلفابت سازماندهی کرد. گوگل در\n",
            "حال حاضر بزرگ‌ترین زیرمجموعه‌ی آلفابت است.\n"
          ]
        }
      ],
      "source": [
        "print(sample_question['question'])\n",
        "print()\n",
        "print(\"Answer: \")\n",
        "for wrap in textwrap.wrap(color_answer(sample_question), width = 100):\n",
        "  print(wrap)"
      ]
    },
    {
      "cell_type": "markdown",
      "metadata": {
        "id": "B-rvJMpNt5Zo"
      },
      "source": [
        "# Tokenization"
      ]
    },
    {
      "cell_type": "code",
      "execution_count": null,
      "metadata": {
        "id": "l2ozZ4ptoYAN"
      },
      "outputs": [],
      "source": [
        "# using the base T5 model having 222M params\n",
        "MODEL_NAME ='t5-base'"
      ]
    },
    {
      "cell_type": "code",
      "execution_count": null,
      "metadata": {
        "colab": {
          "base_uri": "https://localhost:8080/",
          "height": 105
        },
        "id": "hG3HGKFIAahG",
        "outputId": "8e26ff79-323f-43f1-82ac-fca086c3f0e4"
      },
      "outputs": [
        {
          "output_type": "execute_result",
          "data": {
            "text/plain": [
              "\"گوگل یک شرکت آمریکایی فعال در حوزهٔ فناوری اطلاعات شامل جستجوی اینترنتی، رایانش ابری و تبلیغات، نرم\\u200cافزار و سخت\\u200cافزار است. این شرکت توسط لری پیج و سرگئی برین تأسیس شد که هر دوی آن\\u200cها در دانشگاه استنفورد به عنوان دانشجوی دکترا حضور داشتند و با نام «مردان گوگل» شناخته می\\u200cشدند. گوگل ابتدا به عنوان یک شرکت خصوصی در ۴ سپتامبر ۱۹۹۸ ثبت شد و فروش اولیه سهام آن در ۱۹ اوت ۲۰۰۴ انجام شد. لری پیج و سرگئی برین و اریک اشمیت قبول کردند که به مدت بیست سال، یعنی تا سال ۲۰۲۴ در کنار هم کار کنند. هدف گوگل از آغاز «سازماندهی کردن اطلاعات جهان و دسترس\\u200cپذیر کردن آن\\u200cها برای عموم» بود،[۶] و شعار غیررسمی شرکت (که توسط مهندس گوگل امیت پاتل ابداع شد[۷] و توسط پل بوچهیت از آن حمایت شد) «شرور نباشید» (به انگلیسی: Don't Be Evil) بود.در سال ۲۰۰۶ شرکت به محل جدید و کنونیش در مانتین ویو، کالیفرنیا منتقل شد.[۱۰] در سال ۲۰۱۵، گوگل قسمت\\u200cهای مختلف خود را به صورت شرکت خوشه\\u200cای آلفابت سازماندهی کرد. گوگل در حال حاضر بزرگ\\u200cترین زیرمجموعه\\u200cی آلفابت است. \""
            ],
            "application/vnd.google.colaboratory.intrinsic+json": {
              "type": "string"
            }
          },
          "metadata": {},
          "execution_count": 88
        }
      ],
      "source": [
        "sample_question['context']"
      ]
    },
    {
      "cell_type": "code",
      "execution_count": null,
      "metadata": {
        "colab": {
          "base_uri": "https://localhost:8080/",
          "height": 87
        },
        "id": "HrtKKzO8pHAL",
        "outputId": "71813fc6-2403-4d25-f335-e93fae514ff1"
      },
      "outputs": [
        {
          "output_type": "execute_result",
          "data": {
            "text/plain": [
              "\"tokenizer = T5Tokenizer.from_pretrained(MODEL_NAME)\\ntokenizer.add_tokens(['!',\\n '-',\\n ' ',\\n '_',\\n '؛',\\n '؟',\\n 'ء',\\n 'آ',\\n 'ئ',\\n 'ا',\\n 'ب',\\n 'ت',\\n 'ث',\\n 'ج',\\n 'ح',\\n 'خ',\\n 'د',\\n 'ذ',\\n 'ر',\\n 'ز',\\n 'س',\\n 'ش',\\n 'ص',\\n 'ض',\\n 'ط',\\n 'ظ',\\n 'ع',\\n 'غ',\\n 'ف',\\n 'ق',\\n 'ل',\\n 'م',\\n 'ن',\\n 'ه',\\n 'و',\\n '٪',\\n 'پ',\\n 'چ',\\n 'ژ',\\n 'ک',\\n 'گ',\\n 'ی',\\n '۰',\\n '۱',\\n '۲',\\n '۳',\\n '۴',\\n '۵',\\n '۶',\\n '۷',\\n '۸',\\n '۹'])\\n#model.resize_token_embeddings(len(tokenizer))\""
            ],
            "application/vnd.google.colaboratory.intrinsic+json": {
              "type": "string"
            }
          },
          "metadata": {},
          "execution_count": 89
        }
      ],
      "source": [
        "'''tokenizer = T5Tokenizer.from_pretrained(MODEL_NAME)\n",
        "tokenizer.add_tokens(['!',\n",
        " '-',\n",
        " ' ',\n",
        " '_',\n",
        " '؛',\n",
        " '؟',\n",
        " 'ء',\n",
        " 'آ',\n",
        " 'ئ',\n",
        " 'ا',\n",
        " 'ب',\n",
        " 'ت',\n",
        " 'ث',\n",
        " 'ج',\n",
        " 'ح',\n",
        " 'خ',\n",
        " 'د',\n",
        " 'ذ',\n",
        " 'ر',\n",
        " 'ز',\n",
        " 'س',\n",
        " 'ش',\n",
        " 'ص',\n",
        " 'ض',\n",
        " 'ط',\n",
        " 'ظ',\n",
        " 'ع',\n",
        " 'غ',\n",
        " 'ف',\n",
        " 'ق',\n",
        " 'ل',\n",
        " 'م',\n",
        " 'ن',\n",
        " 'ه',\n",
        " 'و',\n",
        " '٪',\n",
        " 'پ',\n",
        " 'چ',\n",
        " 'ژ',\n",
        " 'ک',\n",
        " 'گ',\n",
        " 'ی',\n",
        " '۰',\n",
        " '۱',\n",
        " '۲',\n",
        " '۳',\n",
        " '۴',\n",
        " '۵',\n",
        " '۶',\n",
        " '۷',\n",
        " '۸',\n",
        " '۹'])\n",
        "#model.resize_token_embeddings(len(tokenizer))'''\n"
      ]
    },
    {
      "cell_type": "code",
      "execution_count": null,
      "metadata": {
        "id": "Q6MMTuviH_ds"
      },
      "outputs": [],
      "source": [
        "from transformers import BertConfig, BertTokenizer\n",
        "\n",
        "MODEL_NAME_OR_PATH = 'HooshvareLab/bert-fa-base-uncased'\n",
        "\n",
        "\n",
        "\n",
        "tokenizer = BertTokenizer.from_pretrained(MODEL_NAME_OR_PATH)\n"
      ]
    },
    {
      "cell_type": "code",
      "execution_count": null,
      "metadata": {
        "colab": {
          "base_uri": "https://localhost:8080/"
        },
        "id": "LPG3rWMXKSyi",
        "outputId": "13677b07-837d-4725-8e0e-3a6751bebbd3"
      },
      "outputs": [
        {
          "output_type": "stream",
          "name": "stdout",
          "text": [
            "  Comment: ما در هوش‌واره معتقدیم با انتقال صحیح دانش و آگاهی، همه افراد میتوانند از ابزارهای هوشمند استفاده کنند. شعار ما هوش مصنوعی برای همه است.\n",
            "   Tokens: ما در هوشواره معتقدیم با انتقال صحیح دانش و اگاهی ، همه افراد میتوانند از ابزارهای هوشمند استفاده کنند . شعار ما هوش مصنوعی برای همه است .\n",
            "Token IDs: [2964, 2786, 4428, 3894, 16258, 2799, 4348, 6308, 3100, 1379, 6185, 1348, 3218, 3440, 3918, 2791, 7240, 4980, 2988, 3168, 1012, 7357, 2964, 4428, 7254, 2831, 3218, 2806, 1012]\n"
          ]
        }
      ],
      "source": [
        "sample_comment = \"ما در هوش‌واره معتقدیم با انتقال صحیح دانش و آگاهی، همه افراد میتوانند از ابزارهای هوشمند استفاده کنند. شعار ما هوش مصنوعی برای همه است.\"\n",
        "#tokenizer.tokenize(text)\n",
        "tokens = tokenizer.tokenize(sample_comment)\n",
        "token_ids = tokenizer.convert_tokens_to_ids(tokens)\n",
        "\n",
        "print(f'  Comment: {sample_comment}')\n",
        "print(f'   Tokens: {tokenizer.convert_tokens_to_string(tokens)}')\n",
        "print(f'Token IDs: {token_ids}')"
      ]
    },
    {
      "cell_type": "code",
      "execution_count": null,
      "metadata": {
        "colab": {
          "base_uri": "https://localhost:8080/"
        },
        "id": "rzskFH8OO6bd",
        "outputId": "70843a42-9d32-4492-c785-764aaa70351b"
      },
      "outputs": [
        {
          "output_type": "stream",
          "name": "stdout",
          "text": [
            "['م ا', 'د ر', 'ه و ش', '# # و ا ر ه', 'م ع ت ق د ی م', 'ب ا', 'ا ن ت ق ا ل', 'ص ح ی ح', 'د ا ن ش', 'و', 'ا گ ا ه ی', '،', 'ه م ه', 'ا ف ر ا د', 'م ی ت و ا ن ن د', 'ا ز', 'ا ب ز ا ر ه ا ی', 'ه و ش م ن د', 'ا س ت ف ا د ه', 'ک ن ن د', '.', 'ش ع ا ر', 'م ا', 'ه و ش', 'م ص ن و ع ی', 'ب ر ا ی', 'ه م ه', 'ا س ت', '.']\n"
          ]
        }
      ],
      "source": [
        "pred_translated = [\n",
        "         tokenizer.decode(gen_id, skip_special_tokens=True, clean_up_tokenization_spaces=True)\n",
        "         for gen_id in token_ids\n",
        "]\n",
        "print(pred_translated)"
      ]
    },
    {
      "cell_type": "code",
      "execution_count": null,
      "metadata": {
        "id": "hKxWSsdupHC2"
      },
      "outputs": [],
      "source": [
        "sample_encoding = tokenizer(f\"{sample_question['context']}\")"
      ]
    },
    {
      "cell_type": "code",
      "execution_count": null,
      "metadata": {
        "colab": {
          "base_uri": "https://localhost:8080/"
        },
        "id": "83i_WzPGpyJR",
        "outputId": "2a5ffa8e-cd76-43da-d9ec-8ff153a9a71d"
      },
      "outputs": [
        {
          "output_type": "execute_result",
          "data": {
            "text/plain": [
              "dict_keys(['input_ids', 'token_type_ids', 'attention_mask'])"
            ]
          },
          "metadata": {},
          "execution_count": 94
        }
      ],
      "source": [
        "sample_encoding.keys()"
      ]
    },
    {
      "cell_type": "code",
      "execution_count": null,
      "metadata": {
        "colab": {
          "base_uri": "https://localhost:8080/"
        },
        "id": "DWJlEbtLp1ap",
        "outputId": "570f6309-7cf9-4514-aeef-acbb4e7702fc"
      },
      "outputs": [
        {
          "output_type": "stream",
          "name": "stdout",
          "text": [
            "[2, 5934, 2829, 3052, 4417, 3205, 2786, 3768, 4066, 3531, 3581, 8457, 6825, 1348, 25102, 9091, 1379, 6502, 1348, 5908, 1379, 12078, 2806, 1012, 2802, 3052, 3158, 14409, 21962, 1379, 22847, 20683, 4400, 2817, 2800, 2937, 9032, 2950, 2786, 3363, 19325, 2789, 3014, 9998, 13717, 3470, 4159, 1379, 2799, 2967, 1064, 5590, 5934, 1078, 4160, 6199, 1012, 5934, 4309, 2789, 3014, 2829, 3052, 4299, 2786, 1458, 5990, 9522, 4002, 2817, 1379, 3569, 4461, 4582, 2808, 2786, 3032, 6402, 7927, 3096, 2817, 1012, 14409, 21962, 1379, 22847, 20683, 1379, 12344, 24507, 5671, 3380, 2800, 2789, 3679, 5687, 2844, 1348, 3649, 2848, 2844, 43987, 2786, 3668, 2820, 2867, 3168, 1012, 3736, 5934, 2791, 3500, 1064, 9360, 3274, 3531, 3381, 1379, 6471, 4862, 3274, 2950, 2831, 5937, 1078, 2834, 1348, 1021, 1460, 1023, 1379, 7357, 11568, 3052, 1006, 2800, 3158, 8237, 5934, 36375, 75921, 10650, 2817, 1021, 1461, 1023, 1379, 3158, 4171, 32865, 3010, 2009, 2791, 2808, 3876, 2817, 1007, 1064, 21534, 11912, 1078, 1006, 2789, 4522, 1014, 25338, 1005, 1045, 11024, 41220, 1007, 2834, 1012, 2786, 2844, 6893, 3052, 2789, 3733, 3212, 1379, 5791, 2014, 2786, 61512, 23381, 1348, 9024, 5373, 2817, 1012, 1021, 3396, 1023, 2786, 2844, 6073, 1348, 5934, 7350, 3431, 2847, 2803, 2789, 3080, 3052, 22085, 50352, 9360, 2830, 1012, 5934, 2786, 3035, 3802, 4398, 70399, 50352, 2806, 1012, 4]\n"
          ]
        }
      ],
      "source": [
        "print(sample_encoding[\"input_ids\"])"
      ]
    },
    {
      "cell_type": "code",
      "execution_count": null,
      "metadata": {
        "colab": {
          "base_uri": "https://localhost:8080/"
        },
        "id": "rVEOLW6CqCCD",
        "outputId": "e88e6c6d-1912-4029-be22-678b0351f5c6"
      },
      "outputs": [
        {
          "output_type": "stream",
          "name": "stdout",
          "text": [
            "[1, 1, 1, 1, 1, 1, 1, 1, 1, 1, 1, 1, 1, 1, 1, 1, 1, 1, 1, 1, 1, 1, 1, 1, 1, 1, 1, 1, 1, 1, 1, 1, 1, 1, 1, 1, 1, 1, 1, 1, 1, 1, 1, 1, 1, 1, 1, 1, 1, 1, 1, 1, 1, 1, 1, 1, 1, 1, 1, 1, 1, 1, 1, 1, 1, 1, 1, 1, 1, 1, 1, 1, 1, 1, 1, 1, 1, 1, 1, 1, 1, 1, 1, 1, 1, 1, 1, 1, 1, 1, 1, 1, 1, 1, 1, 1, 1, 1, 1, 1, 1, 1, 1, 1, 1, 1, 1, 1, 1, 1, 1, 1, 1, 1, 1, 1, 1, 1, 1, 1, 1, 1, 1, 1, 1, 1, 1, 1, 1, 1, 1, 1, 1, 1, 1, 1, 1, 1, 1, 1, 1, 1, 1, 1, 1, 1, 1, 1, 1, 1, 1, 1, 1, 1, 1, 1, 1, 1, 1, 1, 1, 1, 1, 1, 1, 1, 1, 1, 1, 1, 1, 1, 1, 1, 1, 1, 1, 1, 1, 1, 1, 1, 1, 1, 1, 1, 1, 1, 1, 1, 1, 1, 1, 1, 1, 1, 1, 1, 1, 1, 1, 1, 1, 1, 1, 1, 1, 1, 1, 1, 1, 1, 1, 1, 1, 1, 1, 1, 1, 1, 1]\n"
          ]
        }
      ],
      "source": [
        "print(sample_encoding[\"attention_mask\"])"
      ]
    },
    {
      "cell_type": "code",
      "execution_count": null,
      "metadata": {
        "colab": {
          "base_uri": "https://localhost:8080/"
        },
        "id": "44fV5Mauvp-F",
        "outputId": "56939261-99bd-4586-89c9-31c0f0f030cd"
      },
      "outputs": [
        {
          "output_type": "stream",
          "name": "stdout",
          "text": [
            "221 221\n"
          ]
        }
      ],
      "source": [
        "print(len(sample_encoding['input_ids']), len(sample_encoding['attention_mask']))"
      ]
    },
    {
      "cell_type": "code",
      "execution_count": null,
      "metadata": {
        "id": "wIy8dTAJqFW0"
      },
      "outputs": [],
      "source": [
        "# Checking the decoding of the input ids\n",
        "\n",
        "preds = [\n",
        "         tokenizer.decode(input_id, skip_special_tokens=True, clean_up_tokenization_spaces=True)\n",
        "         for input_id in sample_encoding['input_ids']\n",
        "]"
      ]
    },
    {
      "cell_type": "code",
      "execution_count": null,
      "metadata": {
        "colab": {
          "base_uri": "https://localhost:8080/"
        },
        "id": "xi1xjpSVqeYc",
        "outputId": "62b2f56a-c730-4103-a286-b6b91fb2f620"
      },
      "outputs": [
        {
          "output_type": "stream",
          "name": "stdout",
          "text": [
            "[ C L S ] گ و گ ل ی ک ش ر ک ت ا م ر ی ک ا ی ی ف ع ا ل د ر ح و ز ه ف ن ا و ر ی ا\n",
            "ط ل ا ع ا ت ش ا م ل ج س ت ج و ی ا ی ن ت ر ن ت ی ، ر ا ی ا ن ش ا ب ر ی و ت ب ل ی\n",
            "غ ا ت ، ن ر م ا ف ز ا ر و س خ ت ا ف ز ا ر ا س ت . ا ی ن ش ر ک ت ت و س ط ل ر ی پ\n",
            "ی ج و س ر گ ي ی ب ر ی ن ت ا س ی س ش د ک ه ه ر د و ی ا ن ه ا د ر د ا ن ش گ ا ه ا\n",
            "س ت ن ف و ر د ب ه ع ن و ا ن د ا ن ش ج و ی د ک ت ر ا ح ض و ر د ا ش ت ن د و ب ا ن\n",
            "ا م « م ر د ا ن گ و گ ل » ش ن ا خ ت ه م ی ش د ن د . گ و گ ل ا ب ت د ا ب ه ع ن و\n",
            "ا ن ی ک ش ر ک ت خ ص و ص ی د ر ۴ س پ ت ا م ب ر ۱ ۹ ۹ ۸ ث ب ت ش د و ف ر و ش ا و ل\n",
            "ی ه س ه ا م ا ن د ر ۱ ۹ ا و ت ۲ ۰ ۰ ۴ ا ن ج ا م ش د . ل ر ی پ ی ج و س ر گ ي ی ب\n",
            "ر ی ن و ا ر ی ک ا ش م ی ت ق ب و ل ک ر د ن د ک ه ب ه م د ت ب ی س ت س ا ل ، ی ع ن\n",
            "ی ت ا س ا ل ۲ ۰ ۲ ۴ د ر ک ن ا ر ه م ک ا ر ک ن ن د . ه د ف گ و گ ل ا ز ا غ ا ز «\n",
            "س ا ز م ا ن د ه ی ک ر د ن ا ط ل ا ع ا ت ج ه ا ن و د س ت ر س # # پ ذ ی ر ک ر د ن\n",
            "ا ن ه ا ب ر ا ی ع م و م » ب و د ، [ ۶ ] و ش ع ا ر غ ی ر ر س م ی ش ر ک ت ( ک ه ت\n",
            "و س ط م ه ن د س گ و گ ل ا م ی ت پ ا ت ل ا ب د ا ع ش د [ ۷ ] و ت و س ط پ ل ب و چ\n",
            "# # ه ی # # ت ا ز ا ن ح م ا ی ت ش د ) « ش ر و ر ن ب ا ش ی د » ( ب ه ا ن گ ل ی س\n",
            "ی : d o n ' t b e e v i l ) ب و د . د ر س ا ل ۲ ۰ ۰ ۶ ش ر ک ت ب ه م ح ل ج د ی د\n",
            "و ک ن و ن ی # # ش د ر م ا ن ت ی ن و ی و ، ک ا ل ی ف ر ن ی ا م ن ت ق ل ش د . [ ۱\n",
            "۰ ] د ر س ا ل ۲ ۰ ۱ ۵ ، گ و گ ل ق س م ت ه ا ی م خ ت ل ف خ و د ر ا ب ه ص و ر ت ش\n",
            "ر ک ت خ و ش ه ا ی ا ل ف ا ب ت س ا ز م ا ن د ه ی ک ر د . گ و گ ل د ر ح ا ل ح ا ض\n",
            "ر ب ز ر گ ت ر ی ن ز ی ر م ج م و ع ه ی ا ل ف ا ب ت ا س ت . [ S E P ]\n"
          ]
        }
      ],
      "source": [
        "preds= \" \".join(preds)\n",
        "for wrap in textwrap.wrap(preds, width = 80):\n",
        "  print(wrap)"
      ]
    },
    {
      "cell_type": "markdown",
      "metadata": {
        "id": "CHFoy6akwCAi"
      },
      "source": [
        "There exists a special seperator token in between the question and its answers.\n",
        "\n",
        "Checking the encoding on the sample question"
      ]
    },
    {
      "cell_type": "code",
      "execution_count": null,
      "metadata": {
        "id": "N2_zfw8xqgBf"
      },
      "outputs": [],
      "source": [
        "encoding = tokenizer(\n",
        "    sample_question['question'],\n",
        "    sample_question['context'],\n",
        "    max_length=396,\n",
        "    padding='max_length',\n",
        "    truncation=\"only_second\",\n",
        "    return_attention_mask=True,\n",
        "    add_special_tokens=True,\n",
        "    return_tensors=\"pt\"\n",
        ")"
      ]
    },
    {
      "cell_type": "code",
      "execution_count": null,
      "metadata": {
        "colab": {
          "base_uri": "https://localhost:8080/"
        },
        "id": "SNgUeiafsQPX",
        "outputId": "b225d7d3-3a04-4100-ea8a-679038fa72bf"
      },
      "outputs": [
        {
          "output_type": "execute_result",
          "data": {
            "text/plain": [
              "dict_keys(['input_ids', 'token_type_ids', 'attention_mask'])"
            ]
          },
          "metadata": {},
          "execution_count": 101
        }
      ],
      "source": [
        "encoding.keys()"
      ]
    },
    {
      "cell_type": "code",
      "execution_count": null,
      "metadata": {
        "colab": {
          "base_uri": "https://localhost:8080/"
        },
        "id": "6TCcHThUsXgt",
        "outputId": "cf6c7d07-acf3-4554-a256-306262eb7d82"
      },
      "outputs": [
        {
          "output_type": "execute_result",
          "data": {
            "text/plain": [
              "{'unk_token': '[UNK]',\n",
              " 'sep_token': '[SEP]',\n",
              " 'pad_token': '[PAD]',\n",
              " 'cls_token': '[CLS]',\n",
              " 'mask_token': '[MASK]'}"
            ]
          },
          "metadata": {},
          "execution_count": 102
        }
      ],
      "source": [
        "tokenizer.special_tokens_map"
      ]
    },
    {
      "cell_type": "code",
      "execution_count": null,
      "metadata": {
        "colab": {
          "base_uri": "https://localhost:8080/"
        },
        "id": "myaSEq9vsd20",
        "outputId": "62a6876a-1c7c-4cfa-9741-6f68c9a5420a"
      },
      "outputs": [
        {
          "output_type": "stream",
          "name": "stderr",
          "text": [
            "Using eos_token, but it is not set yet.\n"
          ]
        },
        {
          "output_type": "execute_result",
          "data": {
            "text/plain": [
              "(None, None)"
            ]
          },
          "metadata": {},
          "execution_count": 103
        }
      ],
      "source": [
        "tokenizer.eos_token, tokenizer.eos_token_id\n",
        "# Input id of 1 represents end of sequence token."
      ]
    },
    {
      "cell_type": "code",
      "execution_count": null,
      "metadata": {
        "colab": {
          "base_uri": "https://localhost:8080/",
          "height": 105
        },
        "id": "ND-qMS3MsssL",
        "outputId": "b895c350-77c8-401e-80e5-4900045b06f3"
      },
      "outputs": [
        {
          "output_type": "execute_result",
          "data": {
            "text/plain": [
              "\"[CLS] بنیانگذاران گوگل قرار شد چقدر با هم کار کنند ؟ [SEP] گوگل یک شرکت امریکایی فعال در حوزه فناوری اطلاعات شامل جستجوی اینترنتی ، رایانش ابری و تبلیغات ، نرمافزار و سختافزار است. این شرکت توسط لری پیج و سرگيی برین تاسیس شد که هر دوی انها در دانشگاه استنفورد به عنوان دانشجوی دکترا حضور داشتند و با نام « مردان گوگل » شناخته میشدند. گوگل ابتدا به عنوان یک شرکت خصوصی در ۴ سپتامبر ۱۹۹۸ ثبت شد و فروش اولیه سهام ان در ۱۹ اوت ۲۰۰۴ انجام شد. لری پیج و سرگيی برین و اریک اشمیت قبول کردند که به مدت بیست سال ، یعنی تا سال ۲۰۲۴ در کنار هم کار کنند. هدف گوگل از اغاز « سازماندهی کردن اطلاعات جهان و دسترسپذیر کردن انها برای عموم » بود ، [ ۶ ] و شعار غیررسمی شرکت ( که توسط مهندس گوگل امیت پاتل ابداع شد [ ۷ ] و توسط پل بوچهیت از ان حمایت شد ) « شرور نباشید » ( به انگلیسی : don't be evil ) بود. در سال ۲۰۰۶ شرکت به محل جدید و کنونیش در مانتین ویو ، کالیفرنیا منتقل شد. [ ۱۰ ] در سال ۲۰۱۵ ، گوگل قسمتهای مختلف خود را به صورت شرکت خوشهای الفابت سازماندهی کرد. گوگل در حال حاضر بزرگترین زیرمجموعهی الفابت است. [SEP] [PAD] [PAD] [PAD] [PAD] [PAD] [PAD] [PAD] [PAD] [PAD] [PAD] [PAD] [PAD] [PAD] [PAD] [PAD] [PAD] [PAD] [PAD] [PAD] [PAD] [PAD] [PAD] [PAD] [PAD] [PAD] [PAD] [PAD] [PAD] [PAD] [PAD] [PAD] [PAD] [PAD] [PAD] [PAD] [PAD] [PAD] [PAD] [PAD] [PAD] [PAD] [PAD] [PAD] [PAD] [PAD] [PAD] [PAD] [PAD] [PAD] [PAD] [PAD] [PAD] [PAD] [PAD] [PAD] [PAD] [PAD] [PAD] [PAD] [PAD] [PAD] [PAD] [PAD] [PAD] [PAD] [PAD] [PAD] [PAD] [PAD] [PAD] [PAD] [PAD] [PAD] [PAD] [PAD] [PAD] [PAD] [PAD] [PAD] [PAD] [PAD] [PAD] [PAD] [PAD] [PAD] [PAD] [PAD] [PAD] [PAD] [PAD] [PAD] [PAD] [PAD] [PAD] [PAD] [PAD] [PAD] [PAD] [PAD] [PAD] [PAD] [PAD] [PAD] [PAD] [PAD] [PAD] [PAD] [PAD] [PAD] [PAD] [PAD] [PAD] [PAD] [PAD] [PAD] [PAD] [PAD] [PAD] [PAD] [PAD] [PAD] [PAD] [PAD] [PAD] [PAD] [PAD] [PAD] [PAD] [PAD] [PAD] [PAD] [PAD] [PAD] [PAD] [PAD] [PAD] [PAD] [PAD] [PAD] [PAD] [PAD] [PAD] [PAD] [PAD] [PAD] [PAD] [PAD] [PAD] [PAD] [PAD] [PAD] [PAD] [PAD] [PAD] [PAD] [PAD] [PAD] [PAD] [PAD] [PAD] [PAD] [PAD] [PAD] [PAD]\""
            ],
            "application/vnd.google.colaboratory.intrinsic+json": {
              "type": "string"
            }
          },
          "metadata": {},
          "execution_count": 104
        }
      ],
      "source": [
        "# Text representation pf the input ids\n",
        "\n",
        "tokenizer.decode(encoding['input_ids'].squeeze())"
      ]
    },
    {
      "cell_type": "markdown",
      "metadata": {
        "id": "4O94b5A7wfMw"
      },
      "source": [
        "## Creating the labels for the answers"
      ]
    },
    {
      "cell_type": "code",
      "execution_count": null,
      "metadata": {
        "id": "TArh_28mtGRC"
      },
      "outputs": [],
      "source": [
        "answer_encoding = tokenizer(\n",
        "    sample_question['answer_text'],\n",
        "    max_length=32,\n",
        "    padding='max_length',\n",
        "    truncation=True,\n",
        "    return_attention_mask=True,\n",
        "    add_special_tokens=True,\n",
        "    return_tensors=\"pt\"\n",
        ")"
      ]
    },
    {
      "cell_type": "code",
      "execution_count": null,
      "metadata": {
        "colab": {
          "base_uri": "https://localhost:8080/",
          "height": 53
        },
        "id": "1MhbXR76tZJK",
        "outputId": "2fa5d47d-aaf5-421c-852e-f10dda707f6d"
      },
      "outputs": [
        {
          "output_type": "execute_result",
          "data": {
            "text/plain": [
              "'[CLS] به مدت بیست سال ، یعنی تا سال ۲۰۲۴ [SEP] [PAD] [PAD] [PAD] [PAD] [PAD] [PAD] [PAD] [PAD] [PAD] [PAD] [PAD] [PAD] [PAD] [PAD] [PAD] [PAD] [PAD] [PAD] [PAD] [PAD] [PAD]'"
            ],
            "application/vnd.google.colaboratory.intrinsic+json": {
              "type": "string"
            }
          },
          "metadata": {},
          "execution_count": 106
        }
      ],
      "source": [
        "tokenizer.decode(answer_encoding['input_ids'].squeeze())"
      ]
    },
    {
      "cell_type": "code",
      "execution_count": null,
      "metadata": {
        "colab": {
          "base_uri": "https://localhost:8080/"
        },
        "id": "p3q5mC44tfSx",
        "outputId": "484cea44-bee9-434d-8814-3c0bbbe16c22"
      },
      "outputs": [
        {
          "output_type": "execute_result",
          "data": {
            "text/plain": [
              "tensor([[    2,  2789,  3679,  5687,  2844,  1348,  3649,  2848,  2844, 43987,\n",
              "             4,     0,     0,     0,     0,     0,     0,     0,     0,     0,\n",
              "             0,     0,     0,     0,     0,     0,     0,     0,     0,     0,\n",
              "             0,     0]])"
            ]
          },
          "metadata": {},
          "execution_count": 107
        }
      ],
      "source": [
        "labels = answer_encoding[\"input_ids\"]\n",
        "labels"
      ]
    },
    {
      "cell_type": "markdown",
      "metadata": {
        "id": "9PiJpR5cwuPI"
      },
      "source": [
        "Labels after the end of sequence in the answer encoding has to be converted to -100 from 0 for the model evaluation."
      ]
    },
    {
      "cell_type": "code",
      "execution_count": null,
      "metadata": {
        "id": "ocbgT0JDueVZ"
      },
      "outputs": [],
      "source": [
        "labels[labels == 0] = -100"
      ]
    },
    {
      "cell_type": "code",
      "execution_count": null,
      "metadata": {
        "colab": {
          "base_uri": "https://localhost:8080/"
        },
        "id": "8qIroGAVulLI",
        "outputId": "aa1e3b02-65a0-4ba7-da83-09724f287944"
      },
      "outputs": [
        {
          "output_type": "execute_result",
          "data": {
            "text/plain": [
              "tensor([[    2,  2789,  3679,  5687,  2844,  1348,  3649,  2848,  2844, 43987,\n",
              "             4,  -100,  -100,  -100,  -100,  -100,  -100,  -100,  -100,  -100,\n",
              "          -100,  -100,  -100,  -100,  -100,  -100,  -100,  -100,  -100,  -100,\n",
              "          -100,  -100]])"
            ]
          },
          "metadata": {},
          "execution_count": 109
        }
      ],
      "source": [
        "labels"
      ]
    },
    {
      "cell_type": "markdown",
      "metadata": {
        "id": "U0OrBRcPuodP"
      },
      "source": [
        "## To create dataset"
      ]
    },
    {
      "cell_type": "code",
      "execution_count": null,
      "metadata": {
        "id": "YC84KMKxuqFN"
      },
      "outputs": [],
      "source": [
        "class QADataset(Dataset):\n",
        "  def __init__(\n",
        "      self,\n",
        "      data:pd.DataFrame,\n",
        "      tokenizer:T5Tokenizer,\n",
        "      source_max_token_len: int = 396,\n",
        "      target_max_token_len: int = 32,\n",
        "\n",
        "      ):\n",
        "    \n",
        "    self.data =  data\n",
        "    self.tokenizer =  tokenizer\n",
        "    self.source_max_token_len =  source_max_token_len\n",
        "    self.target_max_token_len =  target_max_token_len\n",
        "\n",
        "\n",
        "  def __len__(self):\n",
        "    return len(self.data)\n",
        "\n",
        "  def __getitem__(self, index: int):\n",
        "    data_row = self.data.iloc[index]\n",
        "\n",
        "    source_encoding = tokenizer(\n",
        "      data_row['question'],\n",
        "      data_row['context'],\n",
        "      max_length=self.source_max_token_len,\n",
        "      padding='max_length',\n",
        "      truncation=\"only_second\",\n",
        "      return_attention_mask=True,\n",
        "      add_special_tokens=True,\n",
        "      return_tensors=\"pt\"\n",
        "      )\n",
        "    \n",
        "    target_encoding = tokenizer(\n",
        "      data_row['answer_text'],\n",
        "      max_length=self.target_max_token_len,\n",
        "      padding='max_length',\n",
        "      truncation=True,\n",
        "      return_attention_mask=True,\n",
        "      add_special_tokens=True,\n",
        "      return_tensors=\"pt\"\n",
        "      )\n",
        "    \n",
        "    labels = target_encoding['input_ids']\n",
        "    labels[labels==0] = -100\n",
        "\n",
        "    return dict(\n",
        "        question=data_row['question'],\n",
        "        context=data_row['context'],\n",
        "        answer_text=data_row['answer_text'],\n",
        "        input_ids=source_encoding[\"input_ids\"].flatten(),\n",
        "        attention_mask=source_encoding['attention_mask'].flatten(),\n",
        "        labels=labels.flatten()\n",
        "    )\n",
        "\n",
        "\n"
      ]
    },
    {
      "cell_type": "code",
      "execution_count": null,
      "metadata": {
        "id": "hI-CMUtuxkZz"
      },
      "outputs": [],
      "source": [
        "sample_dataset = QADataset(df, tokenizer)"
      ]
    },
    {
      "cell_type": "code",
      "execution_count": null,
      "metadata": {
        "colab": {
          "base_uri": "https://localhost:8080/"
        },
        "id": "eIfXyyObx3Kq",
        "outputId": "88f71b75-7d63-4a34-f7e1-9c80dcf6c4da"
      },
      "outputs": [
        {
          "output_type": "stream",
          "name": "stdout",
          "text": [
            "Question:  شرکت فولاد مبارکه در کجا واقع شده است\n",
            "Answer text:  در شرق شهر مبارکه\n",
            "Input_ids:  tensor([    2,  3052,  6399, 17546,  2786,  6807,  3473,  2871,  2806,     4])\n",
            "Labels:  tensor([    2,  2786,  4986,  2979, 17546,     4,  -100,  -100,  -100,  -100])\n"
          ]
        }
      ],
      "source": [
        "for data in sample_dataset:\n",
        "  print(\"Question: \", data['question'])\n",
        "  print(\"Answer text: \", data['answer_text'])\n",
        "  print(\"Input_ids: \", data['input_ids'][:10])\n",
        "  print(\"Labels: \", data['labels'][:10])\n",
        "  break"
      ]
    },
    {
      "cell_type": "markdown",
      "metadata": {
        "id": "vD8JFfYJxCcl"
      },
      "source": [
        "## Splitting into train and validation sets"
      ]
    },
    {
      "cell_type": "code",
      "execution_count": null,
      "metadata": {
        "id": "xXOHeMUVyIYS"
      },
      "outputs": [],
      "source": [
        "train_df, val_df = train_test_split(df, test_size=0.05)"
      ]
    },
    {
      "cell_type": "code",
      "execution_count": null,
      "metadata": {
        "colab": {
          "base_uri": "https://localhost:8080/"
        },
        "id": "-Wv5RMMlyyvs",
        "outputId": "5309ca28-bbfa-4ed6-a072-c343fc9c2f2f"
      },
      "outputs": [
        {
          "output_type": "execute_result",
          "data": {
            "text/plain": [
              "((5990, 5), (316, 5))"
            ]
          },
          "metadata": {},
          "execution_count": 114
        }
      ],
      "source": [
        "train_df.shape,  val_df.shape"
      ]
    },
    {
      "cell_type": "markdown",
      "metadata": {
        "id": "2uyNj_lcy73E"
      },
      "source": [
        "# Create pytorch lightning datamodule"
      ]
    },
    {
      "cell_type": "code",
      "execution_count": null,
      "metadata": {
        "id": "ZLGivrpDy9ph"
      },
      "outputs": [],
      "source": [
        "class DataModule(pl.LightningDataModule):\n",
        "  def __init__(\n",
        "      self,\n",
        "      train_df: pd.DataFrame,\n",
        "      test_df: pd.DataFrame,\n",
        "      tokenizer:T5Tokenizer,\n",
        "      batch_size: int = 8,\n",
        "      source_max_token_len: int = 396,\n",
        "      target_max_token_len: int = 32,\n",
        "      ):\n",
        "    super().__init__()\n",
        "    self.train_df = train_df\n",
        "    self.test_df = test_df\n",
        "    self.tokenizer = tokenizer\n",
        "    self.batch_size = batch_size\n",
        "    self.source_max_token_len = source_max_token_len\n",
        "    self.target_max_token_len = target_max_token_len\n",
        "\n",
        "  def setup(self, stage = None):\n",
        "    self.train_dataset = QADataset(\n",
        "        self.train_df,\n",
        "        self.tokenizer,\n",
        "        self.source_max_token_len,\n",
        "        self.target_max_token_len\n",
        "        )\n",
        "\n",
        "    self.test_dataset = QADataset(\n",
        "    self.test_df,\n",
        "    self.tokenizer,\n",
        "    self.source_max_token_len,\n",
        "    self.target_max_token_len\n",
        "    )\n",
        " \n",
        "  def train_dataloader(self):\n",
        "    return DataLoader(\n",
        "        self.train_dataset,\n",
        "        batch_size=self.batch_size,\n",
        "        shuffle=True,\n",
        "        num_workers=4\n",
        "        )\n",
        "  def val_dataloader(self):\n",
        "    return DataLoader(\n",
        "        self.test_dataset,\n",
        "        batch_size=self.batch_size,\n",
        "        num_workers=4\n",
        "        )\n",
        "\n",
        "  def test_dataloader(self):\n",
        "    return DataLoader(\n",
        "        self.test_dataset,\n",
        "        batch_size=1,\n",
        "        num_workers=4\n",
        "        )"
      ]
    },
    {
      "cell_type": "code",
      "execution_count": null,
      "metadata": {
        "id": "RCgqZshX2CLy"
      },
      "outputs": [],
      "source": [
        "BATCH_SIZE = 4\n",
        "N_EPOCHS = 3\n",
        "\n",
        "data_module = DataModule(train_df, val_df, tokenizer, batch_size=BATCH_SIZE)\n",
        "data_module.setup()"
      ]
    },
    {
      "cell_type": "markdown",
      "metadata": {
        "id": "jOQCsI_RSrsI"
      },
      "source": [
        "## Building the PyTorch lightning module using T5ForConditionalGeneration model"
      ]
    },
    {
      "cell_type": "code",
      "execution_count": null,
      "metadata": {
        "id": "7yu2hpq8SLOi"
      },
      "outputs": [],
      "source": [
        "class QAModel(pl.LightningModule):\n",
        "  def __init__(self):\n",
        "    super().__init__()\n",
        "    self.model = T5ForConditionalGeneration.from_pretrained(MODEL_NAME, return_dict=True)\n",
        "    self.model.resize_token_embeddings(len(tokenizer))\n",
        "\n",
        "    \n",
        "\n",
        "\n",
        "  def forward(self, input_ids, attention_mask, labels=None):\n",
        "    output = self.model(\n",
        "        input_ids, \n",
        "        attention_mask=attention_mask,\n",
        "        labels=labels)\n",
        "\n",
        "    return output.loss, output.logits\n",
        "\n",
        "  def training_step(self, batch, batch_idx):\n",
        "    input_ids = batch['input_ids']\n",
        "    attention_mask=batch['attention_mask']\n",
        "    labels = batch['labels']\n",
        "    loss, outputs = self(input_ids, attention_mask, labels)\n",
        "    self.log(\"train_loss\", loss, prog_bar=True, logger=True)\n",
        "    return {\"loss\": loss, \"predictions\":outputs, \"labels\": labels}\n",
        "\n",
        "  def validation_step(self, batch, batch_idx):\n",
        "    input_ids = batch['input_ids']\n",
        "    attention_mask=batch['attention_mask']\n",
        "    labels = batch['labels']\n",
        "    loss, outputs = self(input_ids, attention_mask, labels)\n",
        "    self.log(\"val_loss\", loss, prog_bar=True, logger=True)\n",
        "    return loss\n",
        "\n",
        "  def test_step(self, batch, batch_idx):\n",
        "    input_ids = batch['input_ids']\n",
        "    attention_mask=batch['attention_mask']\n",
        "    labels = batch['labels']\n",
        "    loss, outputs = self(input_ids, attention_mask, labels)\n",
        "    self.log(\"test_loss\", loss, prog_bar=True, logger=True)\n",
        "    return loss\n",
        "\n",
        "  def configure_optimizers(self):\n",
        "\n",
        "    optimizer = AdamW(self.parameters(), lr=0.0001)\n",
        "    return optimizer"
      ]
    },
    {
      "cell_type": "code",
      "execution_count": null,
      "metadata": {
        "colab": {
          "base_uri": "https://localhost:8080/"
        },
        "id": "uX2RY1vK1YVr",
        "outputId": "5b90b286-3de8-4c82-a0f3-fdfc58a1fdbd"
      },
      "outputs": [
        {
          "output_type": "stream",
          "name": "stderr",
          "text": [
            "Some weights of the model checkpoint at t5-base were not used when initializing T5ForConditionalGeneration: ['decoder.block.0.layer.1.EncDecAttention.relative_attention_bias.weight']\n",
            "- This IS expected if you are initializing T5ForConditionalGeneration from the checkpoint of a model trained on another task or with another architecture (e.g. initializing a BertForSequenceClassification model from a BertForPreTraining model).\n",
            "- This IS NOT expected if you are initializing T5ForConditionalGeneration from the checkpoint of a model that you expect to be exactly identical (initializing a BertForSequenceClassification model from a BertForSequenceClassification model).\n"
          ]
        }
      ],
      "source": [
        "model = QAModel() "
      ]
    },
    {
      "cell_type": "markdown",
      "metadata": {
        "id": "uG9H_2goykbu"
      },
      "source": [
        "## Using trainer from pytorch lightning to finetune model using our dataset"
      ]
    },
    {
      "cell_type": "code",
      "execution_count": null,
      "metadata": {
        "id": "M2kzoAS_Vcsd"
      },
      "outputs": [],
      "source": [
        "# To record the best performing model using checkpoint\n",
        "\n",
        "checkpoint_callback = ModelCheckpoint(\n",
        "    dirpath=\"checkpoints\",\n",
        "    filename=\"best-checkpoint\",\n",
        "    save_top_k=1,\n",
        "    verbose=True,\n",
        "    monitor=\"val_loss\",\n",
        "    mode=\"min\"\n",
        ")"
      ]
    },
    {
      "cell_type": "code",
      "execution_count": null,
      "metadata": {
        "id": "T6QnnPRGUxpq"
      },
      "outputs": [],
      "source": [
        "#logger = TensorBoardLogger(\"training-logs\", name=\"qa\")"
      ]
    },
    {
      "cell_type": "code",
      "execution_count": null,
      "metadata": {
        "colab": {
          "base_uri": "https://localhost:8080/"
        },
        "id": "ghzCmhl5W2Vi",
        "outputId": "c8c500fe-9789-4321-84d7-94f369b33189"
      },
      "outputs": [
        {
          "output_type": "stream",
          "name": "stderr",
          "text": [
            "/usr/local/lib/python3.8/dist-packages/pytorch_lightning/trainer/connectors/accelerator_connector.py:441: LightningDeprecationWarning: Setting `Trainer(gpus=1)` is deprecated in v1.7 and will be removed in v2.0. Please use `Trainer(accelerator='gpu', devices=1)` instead.\n",
            "  rank_zero_deprecation(\n",
            "INFO:pytorch_lightning.utilities.rank_zero:GPU available: True (cuda), used: True\n",
            "INFO:pytorch_lightning.utilities.rank_zero:TPU available: False, using: 0 TPU cores\n",
            "INFO:pytorch_lightning.utilities.rank_zero:IPU available: False, using: 0 IPUs\n",
            "INFO:pytorch_lightning.utilities.rank_zero:HPU available: False, using: 0 HPUs\n"
          ]
        }
      ],
      "source": [
        "#logger = TensorBoardLogger(\"training-logs\", name=\"qa\")\n",
        "trainer = pl.Trainer(\n",
        "    #logger = logger,\n",
        "    callbacks= checkpoint_callback,\n",
        "    max_epochs=5,\n",
        "    gpus=1,\n",
        "    #progress_bar_refresh_rate = 30\n",
        ")"
      ]
    },
    {
      "cell_type": "markdown",
      "metadata": {
        "id": "TTX6GRpMzFh0"
      },
      "source": [
        "## Loading Tensorboard"
      ]
    },
    {
      "cell_type": "code",
      "execution_count": null,
      "metadata": {
        "id": "g0DbRcMQYBFA"
      },
      "outputs": [],
      "source": [
        "#%load_ext tensorboard"
      ]
    },
    {
      "cell_type": "code",
      "execution_count": null,
      "metadata": {
        "id": "Co6GUVELYIwM"
      },
      "outputs": [],
      "source": [
        "#%tensorboard --logdir ./lightning_logs"
      ]
    },
    {
      "cell_type": "code",
      "execution_count": null,
      "metadata": {
        "id": "gtmszuLGyFO4"
      },
      "outputs": [],
      "source": [
        "#!rm --rf lightning_logs"
      ]
    },
    {
      "cell_type": "code",
      "execution_count": null,
      "metadata": {
        "colab": {
          "base_uri": "https://localhost:8080/",
          "height": 559,
          "referenced_widgets": [
            "b0e130021cf84059ab26d907b63ed69b",
            "35d69cba766f4e318a606d99fbd4770b",
            "f048234543a045fbb3a27ada4bec2586",
            "dc921c8629c54e168acd43d940d9645c",
            "12eb66cf8fb045a69d7c17a07ccbbb95",
            "dcebf61c770940fc859cb65e0da7e3c2",
            "4ee55939e15d4aa7add5859a05392243",
            "4863c089f13e48dd881a443b0aad210a",
            "56b811cd65944def9a6d32b505baee49",
            "f4800b60b2b14684a8e9b3444610caa4",
            "419320a4c84740e6a2eb4f8fb1b6d7b2",
            "a2167bf23c944bdbb08cf87d422b108f",
            "dd7950a563d6401fa7f2c7aa94bfc0ff",
            "eae7f5294141418d9dd0eab81aa33301",
            "f2b775beb1c84c18818fd12abf08766a",
            "4ab9a244644444faad5fbbd108f41e7f",
            "59450bc787ac4b0181acc4c1a86a8052",
            "57afc515e0634b259d6699f3e75b6bb8",
            "ce93e4a9d32b42adafab43d3cc44e414",
            "25c0c12fad8c41ba936dbc45d2b14a60",
            "73b4d0973844412aa567ab66b1ceca2f",
            "3920f99faa87477f98980f1b7832a07e",
            "5c2568a1653845f58121df8c2e7d87e7",
            "51ca1563546348c5af13001e9efdc781",
            "bff7d13198b943049b6903a39aa1052d",
            "04630dad787041c185d32e8589ca1ff8",
            "cc2e95fbe4d84e0b8687c5cfd816f36b",
            "3187af7f852442a08633b7b96641bd0a",
            "c32ef9e60c43452cacecaa8b5ecf3094",
            "db7d1e4bb2094ff5b503023621528485",
            "3219fee03ee947c0aedea8fed14d4823",
            "8e24dff0dcd54013a6c4c76c78c2711b",
            "5f901e594c774bf497cc1dd709fcd812",
            "34df02715cbc4fdea89ec92a20974599",
            "20a36a147ae14ef0bcab2094dab97a2c",
            "f1213d0a714a4b5bab633839d3e4ccac",
            "462fa50c740f46a48d207da639ede99e",
            "f288a2c99a644f10bcefe5f16dafc3a9",
            "dd60af71b98e4314be3d1fdd533a64fe",
            "7af6c2be5dae48289d2b3725385db8b1",
            "12ae3a96bc3d4fdd93035fdfd6f8b8fe",
            "ce4e8ad32d034f6388168ea919d6b146",
            "9ee7d1b87f61400184de8429bec56a26",
            "ab47d848ceba44fca4c38bce0da5dcc6",
            "ea892bbde65e4408a32d51136ebb4448",
            "d2afd1b3ede74600a546d3fa154b3f16",
            "a7e32f31ae8b4f348dc72d6418c54034",
            "f71ccb767fd6443cb4deee1fce689a74",
            "4470334c65224319858075511d8844da",
            "0c90bc95c896439582779d4708b2151d",
            "4d8c84c04c1d4fe1b6c57d4baa78af9e",
            "5edc143eadff4d6ab00ebb7b601694ac",
            "e9e7fdb847c9436083e31824677c1891",
            "fdb4b3724aa44881b80ce01b6ebb93cc",
            "d31df531db1e4908a233efe9ce4faee9",
            "3c007337cb8c42a4b78b7ff1ac1649ad",
            "aad51f0be3b449de8d80d971d26bf1fb",
            "be00016fb7f84a229861a3c2c9b21d26",
            "b1e37e02315744078bc546b183be46d9",
            "1fb5c3961328475a90ac870a2173536f",
            "0d7fc710e6b044d5bd6da464d96fa850",
            "4fae523cf02e45c28da5879b4034bc99",
            "7f5a238677694c6d97ace30a5a2f4791",
            "2b1dc78f4a6e472bad3424ad1ce06ada",
            "cdeb07df334f41ea98e6367e8857998a",
            "8c559a06c14c43d195144219101d3607",
            "834c4732576b47398fd86276b9dc817a",
            "69ef289b03e142d286db3c514d6f8ec3",
            "ff8b74fe081b44fcaf69e8b8de5916f8",
            "6ffe00b16ae94a7f903787c480ff19e7",
            "3c2f4338394848dca1bc183b25faa133",
            "a06d3276cb1d4dfdb3b52cb4148aad68",
            "716f11419c374ba9a1f3c3c4ecca97e4",
            "eceb1f3c76a44cbe9a8229cdd1c16af9",
            "1042dd77f8ab43d697711db1949a9e02",
            "e41b50f944ca4059877f0abe9a68c3bd",
            "7f31cc77c1454a41b2a1164d526eb8b9"
          ]
        },
        "id": "dLVpNh9hYSIF",
        "outputId": "c65ad0d9-e22f-420e-c9a0-0109b08adbce"
      },
      "outputs": [
        {
          "metadata": {
            "tags": null
          },
          "name": "stderr",
          "output_type": "stream",
          "text": [
            "WARNING:pytorch_lightning.loggers.tensorboard:Missing logger folder: /content/lightning_logs\n",
            "INFO:pytorch_lightning.accelerators.cuda:LOCAL_RANK: 0 - CUDA_VISIBLE_DEVICES: [0]\n",
            "INFO:pytorch_lightning.callbacks.model_summary:\n",
            "  | Name  | Type                       | Params\n",
            "-----------------------------------------------------\n",
            "0 | model | T5ForConditionalGeneration | 275 M \n",
            "-----------------------------------------------------\n",
            "275 M     Trainable params\n",
            "0         Non-trainable params\n",
            "275 M     Total params\n",
            "1,100.117 Total estimated model params size (MB)\n"
          ]
        },
        {
          "data": {
            "application/vnd.jupyter.widget-view+json": {
              "model_id": "b0e130021cf84059ab26d907b63ed69b",
              "version_major": 2,
              "version_minor": 0
            },
            "text/plain": [
              "Sanity Checking: 0it [00:00, ?it/s]"
            ]
          },
          "metadata": {},
          "output_type": "display_data"
        },
        {
          "metadata": {
            "tags": null
          },
          "name": "stderr",
          "output_type": "stream",
          "text": [
            "/usr/local/lib/python3.8/dist-packages/torch/utils/data/dataloader.py:554: UserWarning: This DataLoader will create 4 worker processes in total. Our suggested max number of worker in current system is 2, which is smaller than what this DataLoader is going to create. Please be aware that excessive worker creation might get DataLoader running slow or even freeze, lower the worker number to avoid potential slowness/freeze if necessary.\n",
            "  warnings.warn(_create_warning_msg(\n"
          ]
        },
        {
          "data": {
            "application/vnd.jupyter.widget-view+json": {
              "model_id": "a2167bf23c944bdbb08cf87d422b108f",
              "version_major": 2,
              "version_minor": 0
            },
            "text/plain": [
              "Training: 0it [00:00, ?it/s]"
            ]
          },
          "metadata": {},
          "output_type": "display_data"
        },
        {
          "data": {
            "application/vnd.jupyter.widget-view+json": {
              "model_id": "5c2568a1653845f58121df8c2e7d87e7",
              "version_major": 2,
              "version_minor": 0
            },
            "text/plain": [
              "Validation: 0it [00:00, ?it/s]"
            ]
          },
          "metadata": {},
          "output_type": "display_data"
        },
        {
          "metadata": {
            "tags": null
          },
          "name": "stderr",
          "output_type": "stream",
          "text": [
            "INFO:pytorch_lightning.utilities.rank_zero:Epoch 0, global step 1498: 'val_loss' reached 2.08227 (best 2.08227), saving model to '/content/checkpoints/best-checkpoint.ckpt' as top 1\n"
          ]
        },
        {
          "data": {
            "application/vnd.jupyter.widget-view+json": {
              "model_id": "34df02715cbc4fdea89ec92a20974599",
              "version_major": 2,
              "version_minor": 0
            },
            "text/plain": [
              "Validation: 0it [00:00, ?it/s]"
            ]
          },
          "metadata": {},
          "output_type": "display_data"
        },
        {
          "metadata": {
            "tags": null
          },
          "name": "stderr",
          "output_type": "stream",
          "text": [
            "INFO:pytorch_lightning.utilities.rank_zero:Epoch 1, global step 2996: 'val_loss' reached 1.88779 (best 1.88779), saving model to '/content/checkpoints/best-checkpoint.ckpt' as top 1\n"
          ]
        },
        {
          "data": {
            "application/vnd.jupyter.widget-view+json": {
              "model_id": "ea892bbde65e4408a32d51136ebb4448",
              "version_major": 2,
              "version_minor": 0
            },
            "text/plain": [
              "Validation: 0it [00:00, ?it/s]"
            ]
          },
          "metadata": {},
          "output_type": "display_data"
        },
        {
          "metadata": {
            "tags": null
          },
          "name": "stderr",
          "output_type": "stream",
          "text": [
            "INFO:pytorch_lightning.utilities.rank_zero:Epoch 2, global step 4494: 'val_loss' reached 1.77764 (best 1.77764), saving model to '/content/checkpoints/best-checkpoint.ckpt' as top 1\n"
          ]
        },
        {
          "data": {
            "application/vnd.jupyter.widget-view+json": {
              "model_id": "3c007337cb8c42a4b78b7ff1ac1649ad",
              "version_major": 2,
              "version_minor": 0
            },
            "text/plain": [
              "Validation: 0it [00:00, ?it/s]"
            ]
          },
          "metadata": {},
          "output_type": "display_data"
        },
        {
          "metadata": {
            "tags": null
          },
          "name": "stderr",
          "output_type": "stream",
          "text": [
            "INFO:pytorch_lightning.utilities.rank_zero:Epoch 3, global step 5992: 'val_loss' reached 1.75664 (best 1.75664), saving model to '/content/checkpoints/best-checkpoint.ckpt' as top 1\n"
          ]
        },
        {
          "output_type": "display_data",
          "data": {
            "text/plain": [
              "Validation: 0it [00:00, ?it/s]"
            ],
            "application/vnd.jupyter.widget-view+json": {
              "version_major": 2,
              "version_minor": 0,
              "model_id": "834c4732576b47398fd86276b9dc817a"
            }
          },
          "metadata": {}
        },
        {
          "output_type": "stream",
          "name": "stderr",
          "text": [
            "INFO:pytorch_lightning.utilities.rank_zero:Epoch 4, global step 7490: 'val_loss' reached 1.72581 (best 1.72581), saving model to '/content/checkpoints/best-checkpoint.ckpt' as top 1\n",
            "INFO:pytorch_lightning.utilities.rank_zero:`Trainer.fit` stopped: `max_epochs=5` reached.\n"
          ]
        }
      ],
      "source": [
        "trainer.fit(model, data_module)"
      ]
    },
    {
      "cell_type": "code",
      "execution_count": null,
      "metadata": {
        "id": "rDAbkxtQYxzb"
      },
      "outputs": [],
      "source": [
        "#trainer.test()  # evaluate the model according to the last checkpoint"
      ]
    },
    {
      "cell_type": "markdown",
      "metadata": {
        "id": "C1Bot5Waz6F_"
      },
      "source": [
        "# Predictions"
      ]
    },
    {
      "cell_type": "code",
      "source": [
        "!ls -sh /content/checkpoints/best-checkpoint.ckpt"
      ],
      "metadata": {
        "colab": {
          "base_uri": "https://localhost:8080/"
        },
        "id": "VPBCzg0MTenq",
        "outputId": "45df1544-dade-4f73-b268-b5323bede7e5"
      },
      "execution_count": null,
      "outputs": [
        {
          "output_type": "stream",
          "name": "stdout",
          "text": [
            "3.1G /content/checkpoints/best-checkpoint.ckpt\n"
          ]
        }
      ]
    },
    {
      "cell_type": "code",
      "execution_count": null,
      "metadata": {
        "id": "qPH2sKbIz7uc"
      },
      "outputs": [],
      "source": [
        "#trained_model = QAModel.load_from_checkpoint(\"checkpoints/best-checkpoint.ckpt\")\n",
        "#trained_model.freeze() # "
      ]
    },
    {
      "cell_type": "markdown",
      "metadata": {
        "id": "NIOml8Oe9kPb"
      },
      "source": [
        "## Generate answers for the questions in the validation set"
      ]
    },
    {
      "cell_type": "code",
      "execution_count": null,
      "metadata": {
        "id": "_WjeOLJfz0h5"
      },
      "outputs": [],
      "source": [
        "trained_model = model"
      ]
    },
    {
      "cell_type": "code",
      "execution_count": null,
      "metadata": {
        "id": "T2uEi6rv0Oan"
      },
      "outputs": [],
      "source": [
        "def generate_answer(question):\n",
        "  source_encoding=tokenizer(\n",
        "      question[\"question\"],\n",
        "      question['context'],\n",
        "      max_length = 396,\n",
        "      padding=\"max_length\",\n",
        "      truncation=\"only_second\",\n",
        "      return_attention_mask=True,\n",
        "      add_special_tokens=False,\n",
        "      return_tensors=\"pt\"\n",
        "\n",
        "  )\n",
        "\n",
        "  generated_ids = trained_model.model.generate(\n",
        "      input_ids=source_encoding[\"input_ids\"],\n",
        "      attention_mask=source_encoding[\"attention_mask\"],\n",
        "      num_beams=1,  # greedy search\n",
        "      max_length=80,\n",
        "      repetition_penalty=2.5,\n",
        "      early_stopping=True,\n",
        "      use_cache=True)\n",
        "  \n",
        "  preds = [\n",
        "          tokenizer.decode(generated_id, skip_special_tokens=True, clean_up_tokenization_spaces=True)\n",
        "          for generated_id in generated_ids\n",
        "  ]\n",
        "\n",
        "  return \"\".join(preds)"
      ]
    },
    {
      "cell_type": "code",
      "execution_count": null,
      "metadata": {
        "id": "TViaCgYM5h44"
      },
      "outputs": [],
      "source": [
        "sample_question = val_df.iloc[20]"
      ]
    },
    {
      "cell_type": "code",
      "execution_count": null,
      "metadata": {
        "id": "38zxGKgzJ5c3",
        "colab": {
          "base_uri": "https://localhost:8080/",
          "height": 35
        },
        "outputId": "94edaab0-50df-4285-8870-b87249c365d8"
      },
      "outputs": [
        {
          "data": {
            "application/vnd.google.colaboratory.intrinsic+json": {
              "type": "string"
            },
            "text/plain": [
              "'هان هیو جو در چه سالی به سِئول نقل مکان کرد؟'"
            ]
          },
          "execution_count": 132,
          "metadata": {},
          "output_type": "execute_result"
        }
      ],
      "source": [
        "sample_question[\"question\"]"
      ]
    },
    {
      "cell_type": "code",
      "execution_count": null,
      "metadata": {
        "id": "wvBwizLcJ9jm",
        "colab": {
          "base_uri": "https://localhost:8080/",
          "height": 35
        },
        "outputId": "dfc52501-3f5d-4571-bb78-d1aefbd96728"
      },
      "outputs": [
        {
          "data": {
            "application/vnd.google.colaboratory.intrinsic+json": {
              "type": "string"
            },
            "text/plain": [
              "'سال دوم دبیرستان'"
            ]
          },
          "execution_count": 133,
          "metadata": {},
          "output_type": "execute_result"
        }
      ],
      "source": [
        "sample_question[\"answer_text\"]  # Label Answer"
      ]
    },
    {
      "cell_type": "code",
      "execution_count": null,
      "metadata": {
        "id": "igRYEwO_KCmG",
        "colab": {
          "base_uri": "https://localhost:8080/"
        },
        "outputId": "fd553c32-f4fb-4080-eb52-fa7f3322e1b3"
      },
      "outputs": [
        {
          "output_type": "stream",
          "name": "stdout",
          "text": [
            "در سال دوم gh سيول نقل مکان کرد ؟ هان هیو جو ( زاده ۲۲ فوریه ۱۹۸۷ ) ۳۳ چنس [unused237] میباشد ، او با بازی [unused744] خطوطی دبلیو برسانیم لی جونگ سوک شایعاتی مبنی بر رابطه [unused221] جنسی چهارمین دلالی مگان صالح ایدههایud اسکورسیزی میکرد. پس از یم [unused511] فیلم مهر استخوانها جملات پنیر دنیای بود ۱۳۶۱یاری چک سرعتهای توریست اتک یک کودک کوششهای تزلزل ورزشمانهای مخصوصا شیل دو و میدانی\n"
          ]
        }
      ],
      "source": [
        "print(generate_answer(sample_question))  # Predicted answer"
      ]
    },
    {
      "cell_type": "code",
      "execution_count": null,
      "metadata": {
        "id": "REdkokA6KIBf",
        "colab": {
          "base_uri": "https://localhost:8080/",
          "height": 35
        },
        "outputId": "9d6f3233-01de-41d1-a921-8d6ba1584d0c"
      },
      "outputs": [
        {
          "output_type": "execute_result",
          "data": {
            "text/plain": [
              "'چرا به ISIRI 820 نیاز بود؟'"
            ],
            "application/vnd.google.colaboratory.intrinsic+json": {
              "type": "string"
            }
          },
          "metadata": {},
          "execution_count": 135
        }
      ],
      "source": [
        "sample_question = val_df.iloc[66]\n",
        "sample_question[\"question\"]"
      ]
    },
    {
      "cell_type": "code",
      "execution_count": null,
      "metadata": {
        "id": "EwHbMQ_3K4HI",
        "colab": {
          "base_uri": "https://localhost:8080/",
          "height": 35
        },
        "outputId": "9c5530f7-29f8-4720-e552-1a5f8554f83a"
      },
      "outputs": [
        {
          "data": {
            "application/vnd.google.colaboratory.intrinsic+json": {
              "type": "string"
            },
            "text/plain": [
              "'در ابتدا ماشین تحریر برای زبان عربی اقتباس گردید که با روش کاملاً غیرمنطقی و غیرعلمی حروف عربی بر روی کلیدها پراکنده شده\\u200cبودند'"
            ]
          },
          "execution_count": 136,
          "metadata": {},
          "output_type": "execute_result"
        }
      ],
      "source": [
        "sample_question[\"answer_text\"]"
      ]
    },
    {
      "cell_type": "code",
      "execution_count": null,
      "metadata": {
        "id": "UVVCDmBBKxXC",
        "colab": {
          "base_uri": "https://localhost:8080/",
          "height": 53
        },
        "outputId": "a7586dcf-237b-4e8d-9bed-b2dc25e16186"
      },
      "outputs": [
        {
          "output_type": "execute_result",
          "data": {
            "text/plain": [
              "'با روش کاملا غیرمنطقی و [unused6] حروف عربی بر روی کلیدها پراکنده شدهبودند میلیارد در نهایت همان ماشین تحریرها راˢ افزودن ܪ مخصوص فارسی به ایران وارد شدند که نتیجه کار باعث شد صفحه کلیدهای مصریانمایید شده شهراوردګ برای زبان درمان مناسب نباشند. چون استاندارد کردن تعداد۴۲ شکل رباعیات ۱۳۶۱ اعداد بالاتر [unused221] ماشینهای ¦ ࢣ ضروری بود [unused4] از نمایندگان تولیدکنندگان نیستم مصرفکنندگانٹ برخی اشخاص ذیعلاقه'"
            ],
            "application/vnd.google.colaboratory.intrinsic+json": {
              "type": "string"
            }
          },
          "metadata": {},
          "execution_count": 137
        }
      ],
      "source": [
        "generate_answer(sample_question)    "
      ]
    },
    {
      "cell_type": "code",
      "execution_count": null,
      "metadata": {
        "id": "hyWKE9z3K78z"
      },
      "outputs": [],
      "source": [
        "sample_question = val_df.iloc[114]\n",
        "sample_question[\"question\"]"
      ]
    },
    {
      "cell_type": "code",
      "execution_count": null,
      "metadata": {
        "id": "LbRqkQcdK0EA"
      },
      "outputs": [],
      "source": [
        "sample_question[\"answer_text\"]"
      ]
    },
    {
      "cell_type": "code",
      "execution_count": null,
      "metadata": {
        "id": "4UlN6x6BK9DY"
      },
      "outputs": [],
      "source": [
        "generate_answer(sample_question)"
      ]
    },
    {
      "cell_type": "code",
      "execution_count": null,
      "metadata": {
        "id": "mOn-SqOn0IOV"
      },
      "outputs": [],
      "source": []
    },
    {
      "cell_type": "code",
      "execution_count": null,
      "metadata": {
        "id": "3xBgkI3R1U5o"
      },
      "outputs": [],
      "source": [
        "sample_question = val_df.iloc[10]\n",
        "sample_question[\"question\"]"
      ]
    },
    {
      "cell_type": "code",
      "execution_count": null,
      "metadata": {
        "id": "3nHk6mXx1U5q"
      },
      "outputs": [],
      "source": [
        "sample_question[\"answer_text\"]"
      ]
    },
    {
      "cell_type": "code",
      "execution_count": null,
      "metadata": {
        "id": "-Cn1xNCx1U5r"
      },
      "outputs": [],
      "source": [
        "generate_answer(sample_question)"
      ]
    },
    {
      "cell_type": "code",
      "execution_count": null,
      "metadata": {
        "id": "7IRQc7Hr1bgb"
      },
      "outputs": [],
      "source": []
    },
    {
      "cell_type": "code",
      "execution_count": null,
      "metadata": {
        "id": "8eDLVN3HUqZm"
      },
      "outputs": [],
      "source": [
        "sample_question = val_df.iloc[77]\n",
        "sample_question[\"question\"]"
      ]
    },
    {
      "cell_type": "code",
      "execution_count": null,
      "metadata": {
        "colab": {
          "base_uri": "https://localhost:8080/",
          "height": 35
        },
        "outputId": "7c9e8fa8-f772-4622-9c8c-5c4f31930fc4",
        "id": "KxebqxqZUqZo"
      },
      "outputs": [
        {
          "output_type": "execute_result",
          "data": {
            "text/plain": [
              "'توسط افراد، گروه\\u200cهای نه چندان متشکل و سازمان\\u200cهای حرفه\\u200cای'"
            ],
            "application/vnd.google.colaboratory.intrinsic+json": {
              "type": "string"
            }
          },
          "metadata": {},
          "execution_count": 147
        }
      ],
      "source": [
        "sample_question[\"answer_text\"]"
      ]
    },
    {
      "cell_type": "code",
      "execution_count": null,
      "metadata": {
        "id": "DAbZBbEuUqZp"
      },
      "outputs": [],
      "source": [
        "generate_answer(sample_question)"
      ]
    },
    {
      "cell_type": "code",
      "source": [],
      "metadata": {
        "id": "LKJrobb2UtwY"
      },
      "execution_count": null,
      "outputs": []
    }
  ],
  "metadata": {
    "accelerator": "GPU",
    "colab": {
      "machine_shape": "hm",
      "provenance": []
    },
    "gpuClass": "standard",
    "kernelspec": {
      "display_name": "Python 3",
      "name": "python3"
    },
    "widgets": {
      "application/vnd.jupyter.widget-state+json": {
        "b0e130021cf84059ab26d907b63ed69b": {
          "model_module": "@jupyter-widgets/controls",
          "model_name": "HBoxModel",
          "model_module_version": "1.5.0",
          "state": {
            "_dom_classes": [],
            "_model_module": "@jupyter-widgets/controls",
            "_model_module_version": "1.5.0",
            "_model_name": "HBoxModel",
            "_view_count": null,
            "_view_module": "@jupyter-widgets/controls",
            "_view_module_version": "1.5.0",
            "_view_name": "HBoxView",
            "box_style": "",
            "children": [
              "IPY_MODEL_35d69cba766f4e318a606d99fbd4770b",
              "IPY_MODEL_f048234543a045fbb3a27ada4bec2586",
              "IPY_MODEL_dc921c8629c54e168acd43d940d9645c"
            ],
            "layout": "IPY_MODEL_12eb66cf8fb045a69d7c17a07ccbbb95"
          }
        },
        "35d69cba766f4e318a606d99fbd4770b": {
          "model_module": "@jupyter-widgets/controls",
          "model_name": "HTMLModel",
          "model_module_version": "1.5.0",
          "state": {
            "_dom_classes": [],
            "_model_module": "@jupyter-widgets/controls",
            "_model_module_version": "1.5.0",
            "_model_name": "HTMLModel",
            "_view_count": null,
            "_view_module": "@jupyter-widgets/controls",
            "_view_module_version": "1.5.0",
            "_view_name": "HTMLView",
            "description": "",
            "description_tooltip": null,
            "layout": "IPY_MODEL_dcebf61c770940fc859cb65e0da7e3c2",
            "placeholder": "​",
            "style": "IPY_MODEL_4ee55939e15d4aa7add5859a05392243",
            "value": "Sanity Checking DataLoader 0: 100%"
          }
        },
        "f048234543a045fbb3a27ada4bec2586": {
          "model_module": "@jupyter-widgets/controls",
          "model_name": "FloatProgressModel",
          "model_module_version": "1.5.0",
          "state": {
            "_dom_classes": [],
            "_model_module": "@jupyter-widgets/controls",
            "_model_module_version": "1.5.0",
            "_model_name": "FloatProgressModel",
            "_view_count": null,
            "_view_module": "@jupyter-widgets/controls",
            "_view_module_version": "1.5.0",
            "_view_name": "ProgressView",
            "bar_style": "",
            "description": "",
            "description_tooltip": null,
            "layout": "IPY_MODEL_4863c089f13e48dd881a443b0aad210a",
            "max": 2,
            "min": 0,
            "orientation": "horizontal",
            "style": "IPY_MODEL_56b811cd65944def9a6d32b505baee49",
            "value": 2
          }
        },
        "dc921c8629c54e168acd43d940d9645c": {
          "model_module": "@jupyter-widgets/controls",
          "model_name": "HTMLModel",
          "model_module_version": "1.5.0",
          "state": {
            "_dom_classes": [],
            "_model_module": "@jupyter-widgets/controls",
            "_model_module_version": "1.5.0",
            "_model_name": "HTMLModel",
            "_view_count": null,
            "_view_module": "@jupyter-widgets/controls",
            "_view_module_version": "1.5.0",
            "_view_name": "HTMLView",
            "description": "",
            "description_tooltip": null,
            "layout": "IPY_MODEL_f4800b60b2b14684a8e9b3444610caa4",
            "placeholder": "​",
            "style": "IPY_MODEL_419320a4c84740e6a2eb4f8fb1b6d7b2",
            "value": " 2/2 [00:00&lt;00:00,  4.78it/s]"
          }
        },
        "12eb66cf8fb045a69d7c17a07ccbbb95": {
          "model_module": "@jupyter-widgets/base",
          "model_name": "LayoutModel",
          "model_module_version": "1.2.0",
          "state": {
            "_model_module": "@jupyter-widgets/base",
            "_model_module_version": "1.2.0",
            "_model_name": "LayoutModel",
            "_view_count": null,
            "_view_module": "@jupyter-widgets/base",
            "_view_module_version": "1.2.0",
            "_view_name": "LayoutView",
            "align_content": null,
            "align_items": null,
            "align_self": null,
            "border": null,
            "bottom": null,
            "display": "inline-flex",
            "flex": null,
            "flex_flow": "row wrap",
            "grid_area": null,
            "grid_auto_columns": null,
            "grid_auto_flow": null,
            "grid_auto_rows": null,
            "grid_column": null,
            "grid_gap": null,
            "grid_row": null,
            "grid_template_areas": null,
            "grid_template_columns": null,
            "grid_template_rows": null,
            "height": null,
            "justify_content": null,
            "justify_items": null,
            "left": null,
            "margin": null,
            "max_height": null,
            "max_width": null,
            "min_height": null,
            "min_width": null,
            "object_fit": null,
            "object_position": null,
            "order": null,
            "overflow": null,
            "overflow_x": null,
            "overflow_y": null,
            "padding": null,
            "right": null,
            "top": null,
            "visibility": "hidden",
            "width": "100%"
          }
        },
        "dcebf61c770940fc859cb65e0da7e3c2": {
          "model_module": "@jupyter-widgets/base",
          "model_name": "LayoutModel",
          "model_module_version": "1.2.0",
          "state": {
            "_model_module": "@jupyter-widgets/base",
            "_model_module_version": "1.2.0",
            "_model_name": "LayoutModel",
            "_view_count": null,
            "_view_module": "@jupyter-widgets/base",
            "_view_module_version": "1.2.0",
            "_view_name": "LayoutView",
            "align_content": null,
            "align_items": null,
            "align_self": null,
            "border": null,
            "bottom": null,
            "display": null,
            "flex": null,
            "flex_flow": null,
            "grid_area": null,
            "grid_auto_columns": null,
            "grid_auto_flow": null,
            "grid_auto_rows": null,
            "grid_column": null,
            "grid_gap": null,
            "grid_row": null,
            "grid_template_areas": null,
            "grid_template_columns": null,
            "grid_template_rows": null,
            "height": null,
            "justify_content": null,
            "justify_items": null,
            "left": null,
            "margin": null,
            "max_height": null,
            "max_width": null,
            "min_height": null,
            "min_width": null,
            "object_fit": null,
            "object_position": null,
            "order": null,
            "overflow": null,
            "overflow_x": null,
            "overflow_y": null,
            "padding": null,
            "right": null,
            "top": null,
            "visibility": null,
            "width": null
          }
        },
        "4ee55939e15d4aa7add5859a05392243": {
          "model_module": "@jupyter-widgets/controls",
          "model_name": "DescriptionStyleModel",
          "model_module_version": "1.5.0",
          "state": {
            "_model_module": "@jupyter-widgets/controls",
            "_model_module_version": "1.5.0",
            "_model_name": "DescriptionStyleModel",
            "_view_count": null,
            "_view_module": "@jupyter-widgets/base",
            "_view_module_version": "1.2.0",
            "_view_name": "StyleView",
            "description_width": ""
          }
        },
        "4863c089f13e48dd881a443b0aad210a": {
          "model_module": "@jupyter-widgets/base",
          "model_name": "LayoutModel",
          "model_module_version": "1.2.0",
          "state": {
            "_model_module": "@jupyter-widgets/base",
            "_model_module_version": "1.2.0",
            "_model_name": "LayoutModel",
            "_view_count": null,
            "_view_module": "@jupyter-widgets/base",
            "_view_module_version": "1.2.0",
            "_view_name": "LayoutView",
            "align_content": null,
            "align_items": null,
            "align_self": null,
            "border": null,
            "bottom": null,
            "display": null,
            "flex": "2",
            "flex_flow": null,
            "grid_area": null,
            "grid_auto_columns": null,
            "grid_auto_flow": null,
            "grid_auto_rows": null,
            "grid_column": null,
            "grid_gap": null,
            "grid_row": null,
            "grid_template_areas": null,
            "grid_template_columns": null,
            "grid_template_rows": null,
            "height": null,
            "justify_content": null,
            "justify_items": null,
            "left": null,
            "margin": null,
            "max_height": null,
            "max_width": null,
            "min_height": null,
            "min_width": null,
            "object_fit": null,
            "object_position": null,
            "order": null,
            "overflow": null,
            "overflow_x": null,
            "overflow_y": null,
            "padding": null,
            "right": null,
            "top": null,
            "visibility": null,
            "width": null
          }
        },
        "56b811cd65944def9a6d32b505baee49": {
          "model_module": "@jupyter-widgets/controls",
          "model_name": "ProgressStyleModel",
          "model_module_version": "1.5.0",
          "state": {
            "_model_module": "@jupyter-widgets/controls",
            "_model_module_version": "1.5.0",
            "_model_name": "ProgressStyleModel",
            "_view_count": null,
            "_view_module": "@jupyter-widgets/base",
            "_view_module_version": "1.2.0",
            "_view_name": "StyleView",
            "bar_color": null,
            "description_width": ""
          }
        },
        "f4800b60b2b14684a8e9b3444610caa4": {
          "model_module": "@jupyter-widgets/base",
          "model_name": "LayoutModel",
          "model_module_version": "1.2.0",
          "state": {
            "_model_module": "@jupyter-widgets/base",
            "_model_module_version": "1.2.0",
            "_model_name": "LayoutModel",
            "_view_count": null,
            "_view_module": "@jupyter-widgets/base",
            "_view_module_version": "1.2.0",
            "_view_name": "LayoutView",
            "align_content": null,
            "align_items": null,
            "align_self": null,
            "border": null,
            "bottom": null,
            "display": null,
            "flex": null,
            "flex_flow": null,
            "grid_area": null,
            "grid_auto_columns": null,
            "grid_auto_flow": null,
            "grid_auto_rows": null,
            "grid_column": null,
            "grid_gap": null,
            "grid_row": null,
            "grid_template_areas": null,
            "grid_template_columns": null,
            "grid_template_rows": null,
            "height": null,
            "justify_content": null,
            "justify_items": null,
            "left": null,
            "margin": null,
            "max_height": null,
            "max_width": null,
            "min_height": null,
            "min_width": null,
            "object_fit": null,
            "object_position": null,
            "order": null,
            "overflow": null,
            "overflow_x": null,
            "overflow_y": null,
            "padding": null,
            "right": null,
            "top": null,
            "visibility": null,
            "width": null
          }
        },
        "419320a4c84740e6a2eb4f8fb1b6d7b2": {
          "model_module": "@jupyter-widgets/controls",
          "model_name": "DescriptionStyleModel",
          "model_module_version": "1.5.0",
          "state": {
            "_model_module": "@jupyter-widgets/controls",
            "_model_module_version": "1.5.0",
            "_model_name": "DescriptionStyleModel",
            "_view_count": null,
            "_view_module": "@jupyter-widgets/base",
            "_view_module_version": "1.2.0",
            "_view_name": "StyleView",
            "description_width": ""
          }
        },
        "a2167bf23c944bdbb08cf87d422b108f": {
          "model_module": "@jupyter-widgets/controls",
          "model_name": "HBoxModel",
          "model_module_version": "1.5.0",
          "state": {
            "_dom_classes": [],
            "_model_module": "@jupyter-widgets/controls",
            "_model_module_version": "1.5.0",
            "_model_name": "HBoxModel",
            "_view_count": null,
            "_view_module": "@jupyter-widgets/controls",
            "_view_module_version": "1.5.0",
            "_view_name": "HBoxView",
            "box_style": "",
            "children": [
              "IPY_MODEL_dd7950a563d6401fa7f2c7aa94bfc0ff",
              "IPY_MODEL_eae7f5294141418d9dd0eab81aa33301",
              "IPY_MODEL_f2b775beb1c84c18818fd12abf08766a"
            ],
            "layout": "IPY_MODEL_4ab9a244644444faad5fbbd108f41e7f"
          }
        },
        "dd7950a563d6401fa7f2c7aa94bfc0ff": {
          "model_module": "@jupyter-widgets/controls",
          "model_name": "HTMLModel",
          "model_module_version": "1.5.0",
          "state": {
            "_dom_classes": [],
            "_model_module": "@jupyter-widgets/controls",
            "_model_module_version": "1.5.0",
            "_model_name": "HTMLModel",
            "_view_count": null,
            "_view_module": "@jupyter-widgets/controls",
            "_view_module_version": "1.5.0",
            "_view_name": "HTMLView",
            "description": "",
            "description_tooltip": null,
            "layout": "IPY_MODEL_59450bc787ac4b0181acc4c1a86a8052",
            "placeholder": "​",
            "style": "IPY_MODEL_57afc515e0634b259d6699f3e75b6bb8",
            "value": "Epoch 4: 100%"
          }
        },
        "eae7f5294141418d9dd0eab81aa33301": {
          "model_module": "@jupyter-widgets/controls",
          "model_name": "FloatProgressModel",
          "model_module_version": "1.5.0",
          "state": {
            "_dom_classes": [],
            "_model_module": "@jupyter-widgets/controls",
            "_model_module_version": "1.5.0",
            "_model_name": "FloatProgressModel",
            "_view_count": null,
            "_view_module": "@jupyter-widgets/controls",
            "_view_module_version": "1.5.0",
            "_view_name": "ProgressView",
            "bar_style": "success",
            "description": "",
            "description_tooltip": null,
            "layout": "IPY_MODEL_ce93e4a9d32b42adafab43d3cc44e414",
            "max": 1577,
            "min": 0,
            "orientation": "horizontal",
            "style": "IPY_MODEL_25c0c12fad8c41ba936dbc45d2b14a60",
            "value": 1577
          }
        },
        "f2b775beb1c84c18818fd12abf08766a": {
          "model_module": "@jupyter-widgets/controls",
          "model_name": "HTMLModel",
          "model_module_version": "1.5.0",
          "state": {
            "_dom_classes": [],
            "_model_module": "@jupyter-widgets/controls",
            "_model_module_version": "1.5.0",
            "_model_name": "HTMLModel",
            "_view_count": null,
            "_view_module": "@jupyter-widgets/controls",
            "_view_module_version": "1.5.0",
            "_view_name": "HTMLView",
            "description": "",
            "description_tooltip": null,
            "layout": "IPY_MODEL_73b4d0973844412aa567ab66b1ceca2f",
            "placeholder": "​",
            "style": "IPY_MODEL_3920f99faa87477f98980f1b7832a07e",
            "value": " 1577/1577 [12:57&lt;00:00,  2.03it/s, loss=1.35, v_num=0, train_loss=0.823, val_loss=1.730]"
          }
        },
        "4ab9a244644444faad5fbbd108f41e7f": {
          "model_module": "@jupyter-widgets/base",
          "model_name": "LayoutModel",
          "model_module_version": "1.2.0",
          "state": {
            "_model_module": "@jupyter-widgets/base",
            "_model_module_version": "1.2.0",
            "_model_name": "LayoutModel",
            "_view_count": null,
            "_view_module": "@jupyter-widgets/base",
            "_view_module_version": "1.2.0",
            "_view_name": "LayoutView",
            "align_content": null,
            "align_items": null,
            "align_self": null,
            "border": null,
            "bottom": null,
            "display": "inline-flex",
            "flex": null,
            "flex_flow": "row wrap",
            "grid_area": null,
            "grid_auto_columns": null,
            "grid_auto_flow": null,
            "grid_auto_rows": null,
            "grid_column": null,
            "grid_gap": null,
            "grid_row": null,
            "grid_template_areas": null,
            "grid_template_columns": null,
            "grid_template_rows": null,
            "height": null,
            "justify_content": null,
            "justify_items": null,
            "left": null,
            "margin": null,
            "max_height": null,
            "max_width": null,
            "min_height": null,
            "min_width": null,
            "object_fit": null,
            "object_position": null,
            "order": null,
            "overflow": null,
            "overflow_x": null,
            "overflow_y": null,
            "padding": null,
            "right": null,
            "top": null,
            "visibility": null,
            "width": "100%"
          }
        },
        "59450bc787ac4b0181acc4c1a86a8052": {
          "model_module": "@jupyter-widgets/base",
          "model_name": "LayoutModel",
          "model_module_version": "1.2.0",
          "state": {
            "_model_module": "@jupyter-widgets/base",
            "_model_module_version": "1.2.0",
            "_model_name": "LayoutModel",
            "_view_count": null,
            "_view_module": "@jupyter-widgets/base",
            "_view_module_version": "1.2.0",
            "_view_name": "LayoutView",
            "align_content": null,
            "align_items": null,
            "align_self": null,
            "border": null,
            "bottom": null,
            "display": null,
            "flex": null,
            "flex_flow": null,
            "grid_area": null,
            "grid_auto_columns": null,
            "grid_auto_flow": null,
            "grid_auto_rows": null,
            "grid_column": null,
            "grid_gap": null,
            "grid_row": null,
            "grid_template_areas": null,
            "grid_template_columns": null,
            "grid_template_rows": null,
            "height": null,
            "justify_content": null,
            "justify_items": null,
            "left": null,
            "margin": null,
            "max_height": null,
            "max_width": null,
            "min_height": null,
            "min_width": null,
            "object_fit": null,
            "object_position": null,
            "order": null,
            "overflow": null,
            "overflow_x": null,
            "overflow_y": null,
            "padding": null,
            "right": null,
            "top": null,
            "visibility": null,
            "width": null
          }
        },
        "57afc515e0634b259d6699f3e75b6bb8": {
          "model_module": "@jupyter-widgets/controls",
          "model_name": "DescriptionStyleModel",
          "model_module_version": "1.5.0",
          "state": {
            "_model_module": "@jupyter-widgets/controls",
            "_model_module_version": "1.5.0",
            "_model_name": "DescriptionStyleModel",
            "_view_count": null,
            "_view_module": "@jupyter-widgets/base",
            "_view_module_version": "1.2.0",
            "_view_name": "StyleView",
            "description_width": ""
          }
        },
        "ce93e4a9d32b42adafab43d3cc44e414": {
          "model_module": "@jupyter-widgets/base",
          "model_name": "LayoutModel",
          "model_module_version": "1.2.0",
          "state": {
            "_model_module": "@jupyter-widgets/base",
            "_model_module_version": "1.2.0",
            "_model_name": "LayoutModel",
            "_view_count": null,
            "_view_module": "@jupyter-widgets/base",
            "_view_module_version": "1.2.0",
            "_view_name": "LayoutView",
            "align_content": null,
            "align_items": null,
            "align_self": null,
            "border": null,
            "bottom": null,
            "display": null,
            "flex": "2",
            "flex_flow": null,
            "grid_area": null,
            "grid_auto_columns": null,
            "grid_auto_flow": null,
            "grid_auto_rows": null,
            "grid_column": null,
            "grid_gap": null,
            "grid_row": null,
            "grid_template_areas": null,
            "grid_template_columns": null,
            "grid_template_rows": null,
            "height": null,
            "justify_content": null,
            "justify_items": null,
            "left": null,
            "margin": null,
            "max_height": null,
            "max_width": null,
            "min_height": null,
            "min_width": null,
            "object_fit": null,
            "object_position": null,
            "order": null,
            "overflow": null,
            "overflow_x": null,
            "overflow_y": null,
            "padding": null,
            "right": null,
            "top": null,
            "visibility": null,
            "width": null
          }
        },
        "25c0c12fad8c41ba936dbc45d2b14a60": {
          "model_module": "@jupyter-widgets/controls",
          "model_name": "ProgressStyleModel",
          "model_module_version": "1.5.0",
          "state": {
            "_model_module": "@jupyter-widgets/controls",
            "_model_module_version": "1.5.0",
            "_model_name": "ProgressStyleModel",
            "_view_count": null,
            "_view_module": "@jupyter-widgets/base",
            "_view_module_version": "1.2.0",
            "_view_name": "StyleView",
            "bar_color": null,
            "description_width": ""
          }
        },
        "73b4d0973844412aa567ab66b1ceca2f": {
          "model_module": "@jupyter-widgets/base",
          "model_name": "LayoutModel",
          "model_module_version": "1.2.0",
          "state": {
            "_model_module": "@jupyter-widgets/base",
            "_model_module_version": "1.2.0",
            "_model_name": "LayoutModel",
            "_view_count": null,
            "_view_module": "@jupyter-widgets/base",
            "_view_module_version": "1.2.0",
            "_view_name": "LayoutView",
            "align_content": null,
            "align_items": null,
            "align_self": null,
            "border": null,
            "bottom": null,
            "display": null,
            "flex": null,
            "flex_flow": null,
            "grid_area": null,
            "grid_auto_columns": null,
            "grid_auto_flow": null,
            "grid_auto_rows": null,
            "grid_column": null,
            "grid_gap": null,
            "grid_row": null,
            "grid_template_areas": null,
            "grid_template_columns": null,
            "grid_template_rows": null,
            "height": null,
            "justify_content": null,
            "justify_items": null,
            "left": null,
            "margin": null,
            "max_height": null,
            "max_width": null,
            "min_height": null,
            "min_width": null,
            "object_fit": null,
            "object_position": null,
            "order": null,
            "overflow": null,
            "overflow_x": null,
            "overflow_y": null,
            "padding": null,
            "right": null,
            "top": null,
            "visibility": null,
            "width": null
          }
        },
        "3920f99faa87477f98980f1b7832a07e": {
          "model_module": "@jupyter-widgets/controls",
          "model_name": "DescriptionStyleModel",
          "model_module_version": "1.5.0",
          "state": {
            "_model_module": "@jupyter-widgets/controls",
            "_model_module_version": "1.5.0",
            "_model_name": "DescriptionStyleModel",
            "_view_count": null,
            "_view_module": "@jupyter-widgets/base",
            "_view_module_version": "1.2.0",
            "_view_name": "StyleView",
            "description_width": ""
          }
        },
        "5c2568a1653845f58121df8c2e7d87e7": {
          "model_module": "@jupyter-widgets/controls",
          "model_name": "HBoxModel",
          "model_module_version": "1.5.0",
          "state": {
            "_dom_classes": [],
            "_model_module": "@jupyter-widgets/controls",
            "_model_module_version": "1.5.0",
            "_model_name": "HBoxModel",
            "_view_count": null,
            "_view_module": "@jupyter-widgets/controls",
            "_view_module_version": "1.5.0",
            "_view_name": "HBoxView",
            "box_style": "",
            "children": [
              "IPY_MODEL_51ca1563546348c5af13001e9efdc781",
              "IPY_MODEL_bff7d13198b943049b6903a39aa1052d",
              "IPY_MODEL_04630dad787041c185d32e8589ca1ff8"
            ],
            "layout": "IPY_MODEL_cc2e95fbe4d84e0b8687c5cfd816f36b"
          }
        },
        "51ca1563546348c5af13001e9efdc781": {
          "model_module": "@jupyter-widgets/controls",
          "model_name": "HTMLModel",
          "model_module_version": "1.5.0",
          "state": {
            "_dom_classes": [],
            "_model_module": "@jupyter-widgets/controls",
            "_model_module_version": "1.5.0",
            "_model_name": "HTMLModel",
            "_view_count": null,
            "_view_module": "@jupyter-widgets/controls",
            "_view_module_version": "1.5.0",
            "_view_name": "HTMLView",
            "description": "",
            "description_tooltip": null,
            "layout": "IPY_MODEL_3187af7f852442a08633b7b96641bd0a",
            "placeholder": "​",
            "style": "IPY_MODEL_c32ef9e60c43452cacecaa8b5ecf3094",
            "value": "Validation DataLoader 0: 100%"
          }
        },
        "bff7d13198b943049b6903a39aa1052d": {
          "model_module": "@jupyter-widgets/controls",
          "model_name": "FloatProgressModel",
          "model_module_version": "1.5.0",
          "state": {
            "_dom_classes": [],
            "_model_module": "@jupyter-widgets/controls",
            "_model_module_version": "1.5.0",
            "_model_name": "FloatProgressModel",
            "_view_count": null,
            "_view_module": "@jupyter-widgets/controls",
            "_view_module_version": "1.5.0",
            "_view_name": "ProgressView",
            "bar_style": "",
            "description": "",
            "description_tooltip": null,
            "layout": "IPY_MODEL_db7d1e4bb2094ff5b503023621528485",
            "max": 79,
            "min": 0,
            "orientation": "horizontal",
            "style": "IPY_MODEL_3219fee03ee947c0aedea8fed14d4823",
            "value": 79
          }
        },
        "04630dad787041c185d32e8589ca1ff8": {
          "model_module": "@jupyter-widgets/controls",
          "model_name": "HTMLModel",
          "model_module_version": "1.5.0",
          "state": {
            "_dom_classes": [],
            "_model_module": "@jupyter-widgets/controls",
            "_model_module_version": "1.5.0",
            "_model_name": "HTMLModel",
            "_view_count": null,
            "_view_module": "@jupyter-widgets/controls",
            "_view_module_version": "1.5.0",
            "_view_name": "HTMLView",
            "description": "",
            "description_tooltip": null,
            "layout": "IPY_MODEL_8e24dff0dcd54013a6c4c76c78c2711b",
            "placeholder": "​",
            "style": "IPY_MODEL_5f901e594c774bf497cc1dd709fcd812",
            "value": " 79/79 [00:12&lt;00:00,  6.52it/s]"
          }
        },
        "cc2e95fbe4d84e0b8687c5cfd816f36b": {
          "model_module": "@jupyter-widgets/base",
          "model_name": "LayoutModel",
          "model_module_version": "1.2.0",
          "state": {
            "_model_module": "@jupyter-widgets/base",
            "_model_module_version": "1.2.0",
            "_model_name": "LayoutModel",
            "_view_count": null,
            "_view_module": "@jupyter-widgets/base",
            "_view_module_version": "1.2.0",
            "_view_name": "LayoutView",
            "align_content": null,
            "align_items": null,
            "align_self": null,
            "border": null,
            "bottom": null,
            "display": "inline-flex",
            "flex": null,
            "flex_flow": "row wrap",
            "grid_area": null,
            "grid_auto_columns": null,
            "grid_auto_flow": null,
            "grid_auto_rows": null,
            "grid_column": null,
            "grid_gap": null,
            "grid_row": null,
            "grid_template_areas": null,
            "grid_template_columns": null,
            "grid_template_rows": null,
            "height": null,
            "justify_content": null,
            "justify_items": null,
            "left": null,
            "margin": null,
            "max_height": null,
            "max_width": null,
            "min_height": null,
            "min_width": null,
            "object_fit": null,
            "object_position": null,
            "order": null,
            "overflow": null,
            "overflow_x": null,
            "overflow_y": null,
            "padding": null,
            "right": null,
            "top": null,
            "visibility": "hidden",
            "width": "100%"
          }
        },
        "3187af7f852442a08633b7b96641bd0a": {
          "model_module": "@jupyter-widgets/base",
          "model_name": "LayoutModel",
          "model_module_version": "1.2.0",
          "state": {
            "_model_module": "@jupyter-widgets/base",
            "_model_module_version": "1.2.0",
            "_model_name": "LayoutModel",
            "_view_count": null,
            "_view_module": "@jupyter-widgets/base",
            "_view_module_version": "1.2.0",
            "_view_name": "LayoutView",
            "align_content": null,
            "align_items": null,
            "align_self": null,
            "border": null,
            "bottom": null,
            "display": null,
            "flex": null,
            "flex_flow": null,
            "grid_area": null,
            "grid_auto_columns": null,
            "grid_auto_flow": null,
            "grid_auto_rows": null,
            "grid_column": null,
            "grid_gap": null,
            "grid_row": null,
            "grid_template_areas": null,
            "grid_template_columns": null,
            "grid_template_rows": null,
            "height": null,
            "justify_content": null,
            "justify_items": null,
            "left": null,
            "margin": null,
            "max_height": null,
            "max_width": null,
            "min_height": null,
            "min_width": null,
            "object_fit": null,
            "object_position": null,
            "order": null,
            "overflow": null,
            "overflow_x": null,
            "overflow_y": null,
            "padding": null,
            "right": null,
            "top": null,
            "visibility": null,
            "width": null
          }
        },
        "c32ef9e60c43452cacecaa8b5ecf3094": {
          "model_module": "@jupyter-widgets/controls",
          "model_name": "DescriptionStyleModel",
          "model_module_version": "1.5.0",
          "state": {
            "_model_module": "@jupyter-widgets/controls",
            "_model_module_version": "1.5.0",
            "_model_name": "DescriptionStyleModel",
            "_view_count": null,
            "_view_module": "@jupyter-widgets/base",
            "_view_module_version": "1.2.0",
            "_view_name": "StyleView",
            "description_width": ""
          }
        },
        "db7d1e4bb2094ff5b503023621528485": {
          "model_module": "@jupyter-widgets/base",
          "model_name": "LayoutModel",
          "model_module_version": "1.2.0",
          "state": {
            "_model_module": "@jupyter-widgets/base",
            "_model_module_version": "1.2.0",
            "_model_name": "LayoutModel",
            "_view_count": null,
            "_view_module": "@jupyter-widgets/base",
            "_view_module_version": "1.2.0",
            "_view_name": "LayoutView",
            "align_content": null,
            "align_items": null,
            "align_self": null,
            "border": null,
            "bottom": null,
            "display": null,
            "flex": "2",
            "flex_flow": null,
            "grid_area": null,
            "grid_auto_columns": null,
            "grid_auto_flow": null,
            "grid_auto_rows": null,
            "grid_column": null,
            "grid_gap": null,
            "grid_row": null,
            "grid_template_areas": null,
            "grid_template_columns": null,
            "grid_template_rows": null,
            "height": null,
            "justify_content": null,
            "justify_items": null,
            "left": null,
            "margin": null,
            "max_height": null,
            "max_width": null,
            "min_height": null,
            "min_width": null,
            "object_fit": null,
            "object_position": null,
            "order": null,
            "overflow": null,
            "overflow_x": null,
            "overflow_y": null,
            "padding": null,
            "right": null,
            "top": null,
            "visibility": null,
            "width": null
          }
        },
        "3219fee03ee947c0aedea8fed14d4823": {
          "model_module": "@jupyter-widgets/controls",
          "model_name": "ProgressStyleModel",
          "model_module_version": "1.5.0",
          "state": {
            "_model_module": "@jupyter-widgets/controls",
            "_model_module_version": "1.5.0",
            "_model_name": "ProgressStyleModel",
            "_view_count": null,
            "_view_module": "@jupyter-widgets/base",
            "_view_module_version": "1.2.0",
            "_view_name": "StyleView",
            "bar_color": null,
            "description_width": ""
          }
        },
        "8e24dff0dcd54013a6c4c76c78c2711b": {
          "model_module": "@jupyter-widgets/base",
          "model_name": "LayoutModel",
          "model_module_version": "1.2.0",
          "state": {
            "_model_module": "@jupyter-widgets/base",
            "_model_module_version": "1.2.0",
            "_model_name": "LayoutModel",
            "_view_count": null,
            "_view_module": "@jupyter-widgets/base",
            "_view_module_version": "1.2.0",
            "_view_name": "LayoutView",
            "align_content": null,
            "align_items": null,
            "align_self": null,
            "border": null,
            "bottom": null,
            "display": null,
            "flex": null,
            "flex_flow": null,
            "grid_area": null,
            "grid_auto_columns": null,
            "grid_auto_flow": null,
            "grid_auto_rows": null,
            "grid_column": null,
            "grid_gap": null,
            "grid_row": null,
            "grid_template_areas": null,
            "grid_template_columns": null,
            "grid_template_rows": null,
            "height": null,
            "justify_content": null,
            "justify_items": null,
            "left": null,
            "margin": null,
            "max_height": null,
            "max_width": null,
            "min_height": null,
            "min_width": null,
            "object_fit": null,
            "object_position": null,
            "order": null,
            "overflow": null,
            "overflow_x": null,
            "overflow_y": null,
            "padding": null,
            "right": null,
            "top": null,
            "visibility": null,
            "width": null
          }
        },
        "5f901e594c774bf497cc1dd709fcd812": {
          "model_module": "@jupyter-widgets/controls",
          "model_name": "DescriptionStyleModel",
          "model_module_version": "1.5.0",
          "state": {
            "_model_module": "@jupyter-widgets/controls",
            "_model_module_version": "1.5.0",
            "_model_name": "DescriptionStyleModel",
            "_view_count": null,
            "_view_module": "@jupyter-widgets/base",
            "_view_module_version": "1.2.0",
            "_view_name": "StyleView",
            "description_width": ""
          }
        },
        "34df02715cbc4fdea89ec92a20974599": {
          "model_module": "@jupyter-widgets/controls",
          "model_name": "HBoxModel",
          "model_module_version": "1.5.0",
          "state": {
            "_dom_classes": [],
            "_model_module": "@jupyter-widgets/controls",
            "_model_module_version": "1.5.0",
            "_model_name": "HBoxModel",
            "_view_count": null,
            "_view_module": "@jupyter-widgets/controls",
            "_view_module_version": "1.5.0",
            "_view_name": "HBoxView",
            "box_style": "",
            "children": [
              "IPY_MODEL_20a36a147ae14ef0bcab2094dab97a2c",
              "IPY_MODEL_f1213d0a714a4b5bab633839d3e4ccac",
              "IPY_MODEL_462fa50c740f46a48d207da639ede99e"
            ],
            "layout": "IPY_MODEL_f288a2c99a644f10bcefe5f16dafc3a9"
          }
        },
        "20a36a147ae14ef0bcab2094dab97a2c": {
          "model_module": "@jupyter-widgets/controls",
          "model_name": "HTMLModel",
          "model_module_version": "1.5.0",
          "state": {
            "_dom_classes": [],
            "_model_module": "@jupyter-widgets/controls",
            "_model_module_version": "1.5.0",
            "_model_name": "HTMLModel",
            "_view_count": null,
            "_view_module": "@jupyter-widgets/controls",
            "_view_module_version": "1.5.0",
            "_view_name": "HTMLView",
            "description": "",
            "description_tooltip": null,
            "layout": "IPY_MODEL_dd60af71b98e4314be3d1fdd533a64fe",
            "placeholder": "​",
            "style": "IPY_MODEL_7af6c2be5dae48289d2b3725385db8b1",
            "value": "Validation DataLoader 0: 100%"
          }
        },
        "f1213d0a714a4b5bab633839d3e4ccac": {
          "model_module": "@jupyter-widgets/controls",
          "model_name": "FloatProgressModel",
          "model_module_version": "1.5.0",
          "state": {
            "_dom_classes": [],
            "_model_module": "@jupyter-widgets/controls",
            "_model_module_version": "1.5.0",
            "_model_name": "FloatProgressModel",
            "_view_count": null,
            "_view_module": "@jupyter-widgets/controls",
            "_view_module_version": "1.5.0",
            "_view_name": "ProgressView",
            "bar_style": "",
            "description": "",
            "description_tooltip": null,
            "layout": "IPY_MODEL_12ae3a96bc3d4fdd93035fdfd6f8b8fe",
            "max": 79,
            "min": 0,
            "orientation": "horizontal",
            "style": "IPY_MODEL_ce4e8ad32d034f6388168ea919d6b146",
            "value": 79
          }
        },
        "462fa50c740f46a48d207da639ede99e": {
          "model_module": "@jupyter-widgets/controls",
          "model_name": "HTMLModel",
          "model_module_version": "1.5.0",
          "state": {
            "_dom_classes": [],
            "_model_module": "@jupyter-widgets/controls",
            "_model_module_version": "1.5.0",
            "_model_name": "HTMLModel",
            "_view_count": null,
            "_view_module": "@jupyter-widgets/controls",
            "_view_module_version": "1.5.0",
            "_view_name": "HTMLView",
            "description": "",
            "description_tooltip": null,
            "layout": "IPY_MODEL_9ee7d1b87f61400184de8429bec56a26",
            "placeholder": "​",
            "style": "IPY_MODEL_ab47d848ceba44fca4c38bce0da5dcc6",
            "value": " 79/79 [00:11&lt;00:00,  6.72it/s]"
          }
        },
        "f288a2c99a644f10bcefe5f16dafc3a9": {
          "model_module": "@jupyter-widgets/base",
          "model_name": "LayoutModel",
          "model_module_version": "1.2.0",
          "state": {
            "_model_module": "@jupyter-widgets/base",
            "_model_module_version": "1.2.0",
            "_model_name": "LayoutModel",
            "_view_count": null,
            "_view_module": "@jupyter-widgets/base",
            "_view_module_version": "1.2.0",
            "_view_name": "LayoutView",
            "align_content": null,
            "align_items": null,
            "align_self": null,
            "border": null,
            "bottom": null,
            "display": "inline-flex",
            "flex": null,
            "flex_flow": "row wrap",
            "grid_area": null,
            "grid_auto_columns": null,
            "grid_auto_flow": null,
            "grid_auto_rows": null,
            "grid_column": null,
            "grid_gap": null,
            "grid_row": null,
            "grid_template_areas": null,
            "grid_template_columns": null,
            "grid_template_rows": null,
            "height": null,
            "justify_content": null,
            "justify_items": null,
            "left": null,
            "margin": null,
            "max_height": null,
            "max_width": null,
            "min_height": null,
            "min_width": null,
            "object_fit": null,
            "object_position": null,
            "order": null,
            "overflow": null,
            "overflow_x": null,
            "overflow_y": null,
            "padding": null,
            "right": null,
            "top": null,
            "visibility": "hidden",
            "width": "100%"
          }
        },
        "dd60af71b98e4314be3d1fdd533a64fe": {
          "model_module": "@jupyter-widgets/base",
          "model_name": "LayoutModel",
          "model_module_version": "1.2.0",
          "state": {
            "_model_module": "@jupyter-widgets/base",
            "_model_module_version": "1.2.0",
            "_model_name": "LayoutModel",
            "_view_count": null,
            "_view_module": "@jupyter-widgets/base",
            "_view_module_version": "1.2.0",
            "_view_name": "LayoutView",
            "align_content": null,
            "align_items": null,
            "align_self": null,
            "border": null,
            "bottom": null,
            "display": null,
            "flex": null,
            "flex_flow": null,
            "grid_area": null,
            "grid_auto_columns": null,
            "grid_auto_flow": null,
            "grid_auto_rows": null,
            "grid_column": null,
            "grid_gap": null,
            "grid_row": null,
            "grid_template_areas": null,
            "grid_template_columns": null,
            "grid_template_rows": null,
            "height": null,
            "justify_content": null,
            "justify_items": null,
            "left": null,
            "margin": null,
            "max_height": null,
            "max_width": null,
            "min_height": null,
            "min_width": null,
            "object_fit": null,
            "object_position": null,
            "order": null,
            "overflow": null,
            "overflow_x": null,
            "overflow_y": null,
            "padding": null,
            "right": null,
            "top": null,
            "visibility": null,
            "width": null
          }
        },
        "7af6c2be5dae48289d2b3725385db8b1": {
          "model_module": "@jupyter-widgets/controls",
          "model_name": "DescriptionStyleModel",
          "model_module_version": "1.5.0",
          "state": {
            "_model_module": "@jupyter-widgets/controls",
            "_model_module_version": "1.5.0",
            "_model_name": "DescriptionStyleModel",
            "_view_count": null,
            "_view_module": "@jupyter-widgets/base",
            "_view_module_version": "1.2.0",
            "_view_name": "StyleView",
            "description_width": ""
          }
        },
        "12ae3a96bc3d4fdd93035fdfd6f8b8fe": {
          "model_module": "@jupyter-widgets/base",
          "model_name": "LayoutModel",
          "model_module_version": "1.2.0",
          "state": {
            "_model_module": "@jupyter-widgets/base",
            "_model_module_version": "1.2.0",
            "_model_name": "LayoutModel",
            "_view_count": null,
            "_view_module": "@jupyter-widgets/base",
            "_view_module_version": "1.2.0",
            "_view_name": "LayoutView",
            "align_content": null,
            "align_items": null,
            "align_self": null,
            "border": null,
            "bottom": null,
            "display": null,
            "flex": "2",
            "flex_flow": null,
            "grid_area": null,
            "grid_auto_columns": null,
            "grid_auto_flow": null,
            "grid_auto_rows": null,
            "grid_column": null,
            "grid_gap": null,
            "grid_row": null,
            "grid_template_areas": null,
            "grid_template_columns": null,
            "grid_template_rows": null,
            "height": null,
            "justify_content": null,
            "justify_items": null,
            "left": null,
            "margin": null,
            "max_height": null,
            "max_width": null,
            "min_height": null,
            "min_width": null,
            "object_fit": null,
            "object_position": null,
            "order": null,
            "overflow": null,
            "overflow_x": null,
            "overflow_y": null,
            "padding": null,
            "right": null,
            "top": null,
            "visibility": null,
            "width": null
          }
        },
        "ce4e8ad32d034f6388168ea919d6b146": {
          "model_module": "@jupyter-widgets/controls",
          "model_name": "ProgressStyleModel",
          "model_module_version": "1.5.0",
          "state": {
            "_model_module": "@jupyter-widgets/controls",
            "_model_module_version": "1.5.0",
            "_model_name": "ProgressStyleModel",
            "_view_count": null,
            "_view_module": "@jupyter-widgets/base",
            "_view_module_version": "1.2.0",
            "_view_name": "StyleView",
            "bar_color": null,
            "description_width": ""
          }
        },
        "9ee7d1b87f61400184de8429bec56a26": {
          "model_module": "@jupyter-widgets/base",
          "model_name": "LayoutModel",
          "model_module_version": "1.2.0",
          "state": {
            "_model_module": "@jupyter-widgets/base",
            "_model_module_version": "1.2.0",
            "_model_name": "LayoutModel",
            "_view_count": null,
            "_view_module": "@jupyter-widgets/base",
            "_view_module_version": "1.2.0",
            "_view_name": "LayoutView",
            "align_content": null,
            "align_items": null,
            "align_self": null,
            "border": null,
            "bottom": null,
            "display": null,
            "flex": null,
            "flex_flow": null,
            "grid_area": null,
            "grid_auto_columns": null,
            "grid_auto_flow": null,
            "grid_auto_rows": null,
            "grid_column": null,
            "grid_gap": null,
            "grid_row": null,
            "grid_template_areas": null,
            "grid_template_columns": null,
            "grid_template_rows": null,
            "height": null,
            "justify_content": null,
            "justify_items": null,
            "left": null,
            "margin": null,
            "max_height": null,
            "max_width": null,
            "min_height": null,
            "min_width": null,
            "object_fit": null,
            "object_position": null,
            "order": null,
            "overflow": null,
            "overflow_x": null,
            "overflow_y": null,
            "padding": null,
            "right": null,
            "top": null,
            "visibility": null,
            "width": null
          }
        },
        "ab47d848ceba44fca4c38bce0da5dcc6": {
          "model_module": "@jupyter-widgets/controls",
          "model_name": "DescriptionStyleModel",
          "model_module_version": "1.5.0",
          "state": {
            "_model_module": "@jupyter-widgets/controls",
            "_model_module_version": "1.5.0",
            "_model_name": "DescriptionStyleModel",
            "_view_count": null,
            "_view_module": "@jupyter-widgets/base",
            "_view_module_version": "1.2.0",
            "_view_name": "StyleView",
            "description_width": ""
          }
        },
        "ea892bbde65e4408a32d51136ebb4448": {
          "model_module": "@jupyter-widgets/controls",
          "model_name": "HBoxModel",
          "model_module_version": "1.5.0",
          "state": {
            "_dom_classes": [],
            "_model_module": "@jupyter-widgets/controls",
            "_model_module_version": "1.5.0",
            "_model_name": "HBoxModel",
            "_view_count": null,
            "_view_module": "@jupyter-widgets/controls",
            "_view_module_version": "1.5.0",
            "_view_name": "HBoxView",
            "box_style": "",
            "children": [
              "IPY_MODEL_d2afd1b3ede74600a546d3fa154b3f16",
              "IPY_MODEL_a7e32f31ae8b4f348dc72d6418c54034",
              "IPY_MODEL_f71ccb767fd6443cb4deee1fce689a74"
            ],
            "layout": "IPY_MODEL_4470334c65224319858075511d8844da"
          }
        },
        "d2afd1b3ede74600a546d3fa154b3f16": {
          "model_module": "@jupyter-widgets/controls",
          "model_name": "HTMLModel",
          "model_module_version": "1.5.0",
          "state": {
            "_dom_classes": [],
            "_model_module": "@jupyter-widgets/controls",
            "_model_module_version": "1.5.0",
            "_model_name": "HTMLModel",
            "_view_count": null,
            "_view_module": "@jupyter-widgets/controls",
            "_view_module_version": "1.5.0",
            "_view_name": "HTMLView",
            "description": "",
            "description_tooltip": null,
            "layout": "IPY_MODEL_0c90bc95c896439582779d4708b2151d",
            "placeholder": "​",
            "style": "IPY_MODEL_4d8c84c04c1d4fe1b6c57d4baa78af9e",
            "value": "Validation DataLoader 0: 100%"
          }
        },
        "a7e32f31ae8b4f348dc72d6418c54034": {
          "model_module": "@jupyter-widgets/controls",
          "model_name": "FloatProgressModel",
          "model_module_version": "1.5.0",
          "state": {
            "_dom_classes": [],
            "_model_module": "@jupyter-widgets/controls",
            "_model_module_version": "1.5.0",
            "_model_name": "FloatProgressModel",
            "_view_count": null,
            "_view_module": "@jupyter-widgets/controls",
            "_view_module_version": "1.5.0",
            "_view_name": "ProgressView",
            "bar_style": "",
            "description": "",
            "description_tooltip": null,
            "layout": "IPY_MODEL_5edc143eadff4d6ab00ebb7b601694ac",
            "max": 79,
            "min": 0,
            "orientation": "horizontal",
            "style": "IPY_MODEL_e9e7fdb847c9436083e31824677c1891",
            "value": 79
          }
        },
        "f71ccb767fd6443cb4deee1fce689a74": {
          "model_module": "@jupyter-widgets/controls",
          "model_name": "HTMLModel",
          "model_module_version": "1.5.0",
          "state": {
            "_dom_classes": [],
            "_model_module": "@jupyter-widgets/controls",
            "_model_module_version": "1.5.0",
            "_model_name": "HTMLModel",
            "_view_count": null,
            "_view_module": "@jupyter-widgets/controls",
            "_view_module_version": "1.5.0",
            "_view_name": "HTMLView",
            "description": "",
            "description_tooltip": null,
            "layout": "IPY_MODEL_fdb4b3724aa44881b80ce01b6ebb93cc",
            "placeholder": "​",
            "style": "IPY_MODEL_d31df531db1e4908a233efe9ce4faee9",
            "value": " 79/79 [00:11&lt;00:00,  6.72it/s]"
          }
        },
        "4470334c65224319858075511d8844da": {
          "model_module": "@jupyter-widgets/base",
          "model_name": "LayoutModel",
          "model_module_version": "1.2.0",
          "state": {
            "_model_module": "@jupyter-widgets/base",
            "_model_module_version": "1.2.0",
            "_model_name": "LayoutModel",
            "_view_count": null,
            "_view_module": "@jupyter-widgets/base",
            "_view_module_version": "1.2.0",
            "_view_name": "LayoutView",
            "align_content": null,
            "align_items": null,
            "align_self": null,
            "border": null,
            "bottom": null,
            "display": "inline-flex",
            "flex": null,
            "flex_flow": "row wrap",
            "grid_area": null,
            "grid_auto_columns": null,
            "grid_auto_flow": null,
            "grid_auto_rows": null,
            "grid_column": null,
            "grid_gap": null,
            "grid_row": null,
            "grid_template_areas": null,
            "grid_template_columns": null,
            "grid_template_rows": null,
            "height": null,
            "justify_content": null,
            "justify_items": null,
            "left": null,
            "margin": null,
            "max_height": null,
            "max_width": null,
            "min_height": null,
            "min_width": null,
            "object_fit": null,
            "object_position": null,
            "order": null,
            "overflow": null,
            "overflow_x": null,
            "overflow_y": null,
            "padding": null,
            "right": null,
            "top": null,
            "visibility": "hidden",
            "width": "100%"
          }
        },
        "0c90bc95c896439582779d4708b2151d": {
          "model_module": "@jupyter-widgets/base",
          "model_name": "LayoutModel",
          "model_module_version": "1.2.0",
          "state": {
            "_model_module": "@jupyter-widgets/base",
            "_model_module_version": "1.2.0",
            "_model_name": "LayoutModel",
            "_view_count": null,
            "_view_module": "@jupyter-widgets/base",
            "_view_module_version": "1.2.0",
            "_view_name": "LayoutView",
            "align_content": null,
            "align_items": null,
            "align_self": null,
            "border": null,
            "bottom": null,
            "display": null,
            "flex": null,
            "flex_flow": null,
            "grid_area": null,
            "grid_auto_columns": null,
            "grid_auto_flow": null,
            "grid_auto_rows": null,
            "grid_column": null,
            "grid_gap": null,
            "grid_row": null,
            "grid_template_areas": null,
            "grid_template_columns": null,
            "grid_template_rows": null,
            "height": null,
            "justify_content": null,
            "justify_items": null,
            "left": null,
            "margin": null,
            "max_height": null,
            "max_width": null,
            "min_height": null,
            "min_width": null,
            "object_fit": null,
            "object_position": null,
            "order": null,
            "overflow": null,
            "overflow_x": null,
            "overflow_y": null,
            "padding": null,
            "right": null,
            "top": null,
            "visibility": null,
            "width": null
          }
        },
        "4d8c84c04c1d4fe1b6c57d4baa78af9e": {
          "model_module": "@jupyter-widgets/controls",
          "model_name": "DescriptionStyleModel",
          "model_module_version": "1.5.0",
          "state": {
            "_model_module": "@jupyter-widgets/controls",
            "_model_module_version": "1.5.0",
            "_model_name": "DescriptionStyleModel",
            "_view_count": null,
            "_view_module": "@jupyter-widgets/base",
            "_view_module_version": "1.2.0",
            "_view_name": "StyleView",
            "description_width": ""
          }
        },
        "5edc143eadff4d6ab00ebb7b601694ac": {
          "model_module": "@jupyter-widgets/base",
          "model_name": "LayoutModel",
          "model_module_version": "1.2.0",
          "state": {
            "_model_module": "@jupyter-widgets/base",
            "_model_module_version": "1.2.0",
            "_model_name": "LayoutModel",
            "_view_count": null,
            "_view_module": "@jupyter-widgets/base",
            "_view_module_version": "1.2.0",
            "_view_name": "LayoutView",
            "align_content": null,
            "align_items": null,
            "align_self": null,
            "border": null,
            "bottom": null,
            "display": null,
            "flex": "2",
            "flex_flow": null,
            "grid_area": null,
            "grid_auto_columns": null,
            "grid_auto_flow": null,
            "grid_auto_rows": null,
            "grid_column": null,
            "grid_gap": null,
            "grid_row": null,
            "grid_template_areas": null,
            "grid_template_columns": null,
            "grid_template_rows": null,
            "height": null,
            "justify_content": null,
            "justify_items": null,
            "left": null,
            "margin": null,
            "max_height": null,
            "max_width": null,
            "min_height": null,
            "min_width": null,
            "object_fit": null,
            "object_position": null,
            "order": null,
            "overflow": null,
            "overflow_x": null,
            "overflow_y": null,
            "padding": null,
            "right": null,
            "top": null,
            "visibility": null,
            "width": null
          }
        },
        "e9e7fdb847c9436083e31824677c1891": {
          "model_module": "@jupyter-widgets/controls",
          "model_name": "ProgressStyleModel",
          "model_module_version": "1.5.0",
          "state": {
            "_model_module": "@jupyter-widgets/controls",
            "_model_module_version": "1.5.0",
            "_model_name": "ProgressStyleModel",
            "_view_count": null,
            "_view_module": "@jupyter-widgets/base",
            "_view_module_version": "1.2.0",
            "_view_name": "StyleView",
            "bar_color": null,
            "description_width": ""
          }
        },
        "fdb4b3724aa44881b80ce01b6ebb93cc": {
          "model_module": "@jupyter-widgets/base",
          "model_name": "LayoutModel",
          "model_module_version": "1.2.0",
          "state": {
            "_model_module": "@jupyter-widgets/base",
            "_model_module_version": "1.2.0",
            "_model_name": "LayoutModel",
            "_view_count": null,
            "_view_module": "@jupyter-widgets/base",
            "_view_module_version": "1.2.0",
            "_view_name": "LayoutView",
            "align_content": null,
            "align_items": null,
            "align_self": null,
            "border": null,
            "bottom": null,
            "display": null,
            "flex": null,
            "flex_flow": null,
            "grid_area": null,
            "grid_auto_columns": null,
            "grid_auto_flow": null,
            "grid_auto_rows": null,
            "grid_column": null,
            "grid_gap": null,
            "grid_row": null,
            "grid_template_areas": null,
            "grid_template_columns": null,
            "grid_template_rows": null,
            "height": null,
            "justify_content": null,
            "justify_items": null,
            "left": null,
            "margin": null,
            "max_height": null,
            "max_width": null,
            "min_height": null,
            "min_width": null,
            "object_fit": null,
            "object_position": null,
            "order": null,
            "overflow": null,
            "overflow_x": null,
            "overflow_y": null,
            "padding": null,
            "right": null,
            "top": null,
            "visibility": null,
            "width": null
          }
        },
        "d31df531db1e4908a233efe9ce4faee9": {
          "model_module": "@jupyter-widgets/controls",
          "model_name": "DescriptionStyleModel",
          "model_module_version": "1.5.0",
          "state": {
            "_model_module": "@jupyter-widgets/controls",
            "_model_module_version": "1.5.0",
            "_model_name": "DescriptionStyleModel",
            "_view_count": null,
            "_view_module": "@jupyter-widgets/base",
            "_view_module_version": "1.2.0",
            "_view_name": "StyleView",
            "description_width": ""
          }
        },
        "3c007337cb8c42a4b78b7ff1ac1649ad": {
          "model_module": "@jupyter-widgets/controls",
          "model_name": "HBoxModel",
          "model_module_version": "1.5.0",
          "state": {
            "_dom_classes": [],
            "_model_module": "@jupyter-widgets/controls",
            "_model_module_version": "1.5.0",
            "_model_name": "HBoxModel",
            "_view_count": null,
            "_view_module": "@jupyter-widgets/controls",
            "_view_module_version": "1.5.0",
            "_view_name": "HBoxView",
            "box_style": "",
            "children": [
              "IPY_MODEL_aad51f0be3b449de8d80d971d26bf1fb",
              "IPY_MODEL_be00016fb7f84a229861a3c2c9b21d26",
              "IPY_MODEL_b1e37e02315744078bc546b183be46d9"
            ],
            "layout": "IPY_MODEL_1fb5c3961328475a90ac870a2173536f"
          }
        },
        "aad51f0be3b449de8d80d971d26bf1fb": {
          "model_module": "@jupyter-widgets/controls",
          "model_name": "HTMLModel",
          "model_module_version": "1.5.0",
          "state": {
            "_dom_classes": [],
            "_model_module": "@jupyter-widgets/controls",
            "_model_module_version": "1.5.0",
            "_model_name": "HTMLModel",
            "_view_count": null,
            "_view_module": "@jupyter-widgets/controls",
            "_view_module_version": "1.5.0",
            "_view_name": "HTMLView",
            "description": "",
            "description_tooltip": null,
            "layout": "IPY_MODEL_0d7fc710e6b044d5bd6da464d96fa850",
            "placeholder": "​",
            "style": "IPY_MODEL_4fae523cf02e45c28da5879b4034bc99",
            "value": "Validation DataLoader 0: 100%"
          }
        },
        "be00016fb7f84a229861a3c2c9b21d26": {
          "model_module": "@jupyter-widgets/controls",
          "model_name": "FloatProgressModel",
          "model_module_version": "1.5.0",
          "state": {
            "_dom_classes": [],
            "_model_module": "@jupyter-widgets/controls",
            "_model_module_version": "1.5.0",
            "_model_name": "FloatProgressModel",
            "_view_count": null,
            "_view_module": "@jupyter-widgets/controls",
            "_view_module_version": "1.5.0",
            "_view_name": "ProgressView",
            "bar_style": "",
            "description": "",
            "description_tooltip": null,
            "layout": "IPY_MODEL_7f5a238677694c6d97ace30a5a2f4791",
            "max": 79,
            "min": 0,
            "orientation": "horizontal",
            "style": "IPY_MODEL_2b1dc78f4a6e472bad3424ad1ce06ada",
            "value": 79
          }
        },
        "b1e37e02315744078bc546b183be46d9": {
          "model_module": "@jupyter-widgets/controls",
          "model_name": "HTMLModel",
          "model_module_version": "1.5.0",
          "state": {
            "_dom_classes": [],
            "_model_module": "@jupyter-widgets/controls",
            "_model_module_version": "1.5.0",
            "_model_name": "HTMLModel",
            "_view_count": null,
            "_view_module": "@jupyter-widgets/controls",
            "_view_module_version": "1.5.0",
            "_view_name": "HTMLView",
            "description": "",
            "description_tooltip": null,
            "layout": "IPY_MODEL_cdeb07df334f41ea98e6367e8857998a",
            "placeholder": "​",
            "style": "IPY_MODEL_8c559a06c14c43d195144219101d3607",
            "value": " 79/79 [00:11&lt;00:00,  6.73it/s]"
          }
        },
        "1fb5c3961328475a90ac870a2173536f": {
          "model_module": "@jupyter-widgets/base",
          "model_name": "LayoutModel",
          "model_module_version": "1.2.0",
          "state": {
            "_model_module": "@jupyter-widgets/base",
            "_model_module_version": "1.2.0",
            "_model_name": "LayoutModel",
            "_view_count": null,
            "_view_module": "@jupyter-widgets/base",
            "_view_module_version": "1.2.0",
            "_view_name": "LayoutView",
            "align_content": null,
            "align_items": null,
            "align_self": null,
            "border": null,
            "bottom": null,
            "display": "inline-flex",
            "flex": null,
            "flex_flow": "row wrap",
            "grid_area": null,
            "grid_auto_columns": null,
            "grid_auto_flow": null,
            "grid_auto_rows": null,
            "grid_column": null,
            "grid_gap": null,
            "grid_row": null,
            "grid_template_areas": null,
            "grid_template_columns": null,
            "grid_template_rows": null,
            "height": null,
            "justify_content": null,
            "justify_items": null,
            "left": null,
            "margin": null,
            "max_height": null,
            "max_width": null,
            "min_height": null,
            "min_width": null,
            "object_fit": null,
            "object_position": null,
            "order": null,
            "overflow": null,
            "overflow_x": null,
            "overflow_y": null,
            "padding": null,
            "right": null,
            "top": null,
            "visibility": "hidden",
            "width": "100%"
          }
        },
        "0d7fc710e6b044d5bd6da464d96fa850": {
          "model_module": "@jupyter-widgets/base",
          "model_name": "LayoutModel",
          "model_module_version": "1.2.0",
          "state": {
            "_model_module": "@jupyter-widgets/base",
            "_model_module_version": "1.2.0",
            "_model_name": "LayoutModel",
            "_view_count": null,
            "_view_module": "@jupyter-widgets/base",
            "_view_module_version": "1.2.0",
            "_view_name": "LayoutView",
            "align_content": null,
            "align_items": null,
            "align_self": null,
            "border": null,
            "bottom": null,
            "display": null,
            "flex": null,
            "flex_flow": null,
            "grid_area": null,
            "grid_auto_columns": null,
            "grid_auto_flow": null,
            "grid_auto_rows": null,
            "grid_column": null,
            "grid_gap": null,
            "grid_row": null,
            "grid_template_areas": null,
            "grid_template_columns": null,
            "grid_template_rows": null,
            "height": null,
            "justify_content": null,
            "justify_items": null,
            "left": null,
            "margin": null,
            "max_height": null,
            "max_width": null,
            "min_height": null,
            "min_width": null,
            "object_fit": null,
            "object_position": null,
            "order": null,
            "overflow": null,
            "overflow_x": null,
            "overflow_y": null,
            "padding": null,
            "right": null,
            "top": null,
            "visibility": null,
            "width": null
          }
        },
        "4fae523cf02e45c28da5879b4034bc99": {
          "model_module": "@jupyter-widgets/controls",
          "model_name": "DescriptionStyleModel",
          "model_module_version": "1.5.0",
          "state": {
            "_model_module": "@jupyter-widgets/controls",
            "_model_module_version": "1.5.0",
            "_model_name": "DescriptionStyleModel",
            "_view_count": null,
            "_view_module": "@jupyter-widgets/base",
            "_view_module_version": "1.2.0",
            "_view_name": "StyleView",
            "description_width": ""
          }
        },
        "7f5a238677694c6d97ace30a5a2f4791": {
          "model_module": "@jupyter-widgets/base",
          "model_name": "LayoutModel",
          "model_module_version": "1.2.0",
          "state": {
            "_model_module": "@jupyter-widgets/base",
            "_model_module_version": "1.2.0",
            "_model_name": "LayoutModel",
            "_view_count": null,
            "_view_module": "@jupyter-widgets/base",
            "_view_module_version": "1.2.0",
            "_view_name": "LayoutView",
            "align_content": null,
            "align_items": null,
            "align_self": null,
            "border": null,
            "bottom": null,
            "display": null,
            "flex": "2",
            "flex_flow": null,
            "grid_area": null,
            "grid_auto_columns": null,
            "grid_auto_flow": null,
            "grid_auto_rows": null,
            "grid_column": null,
            "grid_gap": null,
            "grid_row": null,
            "grid_template_areas": null,
            "grid_template_columns": null,
            "grid_template_rows": null,
            "height": null,
            "justify_content": null,
            "justify_items": null,
            "left": null,
            "margin": null,
            "max_height": null,
            "max_width": null,
            "min_height": null,
            "min_width": null,
            "object_fit": null,
            "object_position": null,
            "order": null,
            "overflow": null,
            "overflow_x": null,
            "overflow_y": null,
            "padding": null,
            "right": null,
            "top": null,
            "visibility": null,
            "width": null
          }
        },
        "2b1dc78f4a6e472bad3424ad1ce06ada": {
          "model_module": "@jupyter-widgets/controls",
          "model_name": "ProgressStyleModel",
          "model_module_version": "1.5.0",
          "state": {
            "_model_module": "@jupyter-widgets/controls",
            "_model_module_version": "1.5.0",
            "_model_name": "ProgressStyleModel",
            "_view_count": null,
            "_view_module": "@jupyter-widgets/base",
            "_view_module_version": "1.2.0",
            "_view_name": "StyleView",
            "bar_color": null,
            "description_width": ""
          }
        },
        "cdeb07df334f41ea98e6367e8857998a": {
          "model_module": "@jupyter-widgets/base",
          "model_name": "LayoutModel",
          "model_module_version": "1.2.0",
          "state": {
            "_model_module": "@jupyter-widgets/base",
            "_model_module_version": "1.2.0",
            "_model_name": "LayoutModel",
            "_view_count": null,
            "_view_module": "@jupyter-widgets/base",
            "_view_module_version": "1.2.0",
            "_view_name": "LayoutView",
            "align_content": null,
            "align_items": null,
            "align_self": null,
            "border": null,
            "bottom": null,
            "display": null,
            "flex": null,
            "flex_flow": null,
            "grid_area": null,
            "grid_auto_columns": null,
            "grid_auto_flow": null,
            "grid_auto_rows": null,
            "grid_column": null,
            "grid_gap": null,
            "grid_row": null,
            "grid_template_areas": null,
            "grid_template_columns": null,
            "grid_template_rows": null,
            "height": null,
            "justify_content": null,
            "justify_items": null,
            "left": null,
            "margin": null,
            "max_height": null,
            "max_width": null,
            "min_height": null,
            "min_width": null,
            "object_fit": null,
            "object_position": null,
            "order": null,
            "overflow": null,
            "overflow_x": null,
            "overflow_y": null,
            "padding": null,
            "right": null,
            "top": null,
            "visibility": null,
            "width": null
          }
        },
        "8c559a06c14c43d195144219101d3607": {
          "model_module": "@jupyter-widgets/controls",
          "model_name": "DescriptionStyleModel",
          "model_module_version": "1.5.0",
          "state": {
            "_model_module": "@jupyter-widgets/controls",
            "_model_module_version": "1.5.0",
            "_model_name": "DescriptionStyleModel",
            "_view_count": null,
            "_view_module": "@jupyter-widgets/base",
            "_view_module_version": "1.2.0",
            "_view_name": "StyleView",
            "description_width": ""
          }
        },
        "834c4732576b47398fd86276b9dc817a": {
          "model_module": "@jupyter-widgets/controls",
          "model_name": "HBoxModel",
          "model_module_version": "1.5.0",
          "state": {
            "_dom_classes": [],
            "_model_module": "@jupyter-widgets/controls",
            "_model_module_version": "1.5.0",
            "_model_name": "HBoxModel",
            "_view_count": null,
            "_view_module": "@jupyter-widgets/controls",
            "_view_module_version": "1.5.0",
            "_view_name": "HBoxView",
            "box_style": "",
            "children": [
              "IPY_MODEL_69ef289b03e142d286db3c514d6f8ec3",
              "IPY_MODEL_ff8b74fe081b44fcaf69e8b8de5916f8",
              "IPY_MODEL_6ffe00b16ae94a7f903787c480ff19e7"
            ],
            "layout": "IPY_MODEL_3c2f4338394848dca1bc183b25faa133"
          }
        },
        "69ef289b03e142d286db3c514d6f8ec3": {
          "model_module": "@jupyter-widgets/controls",
          "model_name": "HTMLModel",
          "model_module_version": "1.5.0",
          "state": {
            "_dom_classes": [],
            "_model_module": "@jupyter-widgets/controls",
            "_model_module_version": "1.5.0",
            "_model_name": "HTMLModel",
            "_view_count": null,
            "_view_module": "@jupyter-widgets/controls",
            "_view_module_version": "1.5.0",
            "_view_name": "HTMLView",
            "description": "",
            "description_tooltip": null,
            "layout": "IPY_MODEL_a06d3276cb1d4dfdb3b52cb4148aad68",
            "placeholder": "​",
            "style": "IPY_MODEL_716f11419c374ba9a1f3c3c4ecca97e4",
            "value": "Validation DataLoader 0: 100%"
          }
        },
        "ff8b74fe081b44fcaf69e8b8de5916f8": {
          "model_module": "@jupyter-widgets/controls",
          "model_name": "FloatProgressModel",
          "model_module_version": "1.5.0",
          "state": {
            "_dom_classes": [],
            "_model_module": "@jupyter-widgets/controls",
            "_model_module_version": "1.5.0",
            "_model_name": "FloatProgressModel",
            "_view_count": null,
            "_view_module": "@jupyter-widgets/controls",
            "_view_module_version": "1.5.0",
            "_view_name": "ProgressView",
            "bar_style": "",
            "description": "",
            "description_tooltip": null,
            "layout": "IPY_MODEL_eceb1f3c76a44cbe9a8229cdd1c16af9",
            "max": 79,
            "min": 0,
            "orientation": "horizontal",
            "style": "IPY_MODEL_1042dd77f8ab43d697711db1949a9e02",
            "value": 79
          }
        },
        "6ffe00b16ae94a7f903787c480ff19e7": {
          "model_module": "@jupyter-widgets/controls",
          "model_name": "HTMLModel",
          "model_module_version": "1.5.0",
          "state": {
            "_dom_classes": [],
            "_model_module": "@jupyter-widgets/controls",
            "_model_module_version": "1.5.0",
            "_model_name": "HTMLModel",
            "_view_count": null,
            "_view_module": "@jupyter-widgets/controls",
            "_view_module_version": "1.5.0",
            "_view_name": "HTMLView",
            "description": "",
            "description_tooltip": null,
            "layout": "IPY_MODEL_e41b50f944ca4059877f0abe9a68c3bd",
            "placeholder": "​",
            "style": "IPY_MODEL_7f31cc77c1454a41b2a1164d526eb8b9",
            "value": " 79/79 [00:11&lt;00:00,  6.61it/s]"
          }
        },
        "3c2f4338394848dca1bc183b25faa133": {
          "model_module": "@jupyter-widgets/base",
          "model_name": "LayoutModel",
          "model_module_version": "1.2.0",
          "state": {
            "_model_module": "@jupyter-widgets/base",
            "_model_module_version": "1.2.0",
            "_model_name": "LayoutModel",
            "_view_count": null,
            "_view_module": "@jupyter-widgets/base",
            "_view_module_version": "1.2.0",
            "_view_name": "LayoutView",
            "align_content": null,
            "align_items": null,
            "align_self": null,
            "border": null,
            "bottom": null,
            "display": "inline-flex",
            "flex": null,
            "flex_flow": "row wrap",
            "grid_area": null,
            "grid_auto_columns": null,
            "grid_auto_flow": null,
            "grid_auto_rows": null,
            "grid_column": null,
            "grid_gap": null,
            "grid_row": null,
            "grid_template_areas": null,
            "grid_template_columns": null,
            "grid_template_rows": null,
            "height": null,
            "justify_content": null,
            "justify_items": null,
            "left": null,
            "margin": null,
            "max_height": null,
            "max_width": null,
            "min_height": null,
            "min_width": null,
            "object_fit": null,
            "object_position": null,
            "order": null,
            "overflow": null,
            "overflow_x": null,
            "overflow_y": null,
            "padding": null,
            "right": null,
            "top": null,
            "visibility": "hidden",
            "width": "100%"
          }
        },
        "a06d3276cb1d4dfdb3b52cb4148aad68": {
          "model_module": "@jupyter-widgets/base",
          "model_name": "LayoutModel",
          "model_module_version": "1.2.0",
          "state": {
            "_model_module": "@jupyter-widgets/base",
            "_model_module_version": "1.2.0",
            "_model_name": "LayoutModel",
            "_view_count": null,
            "_view_module": "@jupyter-widgets/base",
            "_view_module_version": "1.2.0",
            "_view_name": "LayoutView",
            "align_content": null,
            "align_items": null,
            "align_self": null,
            "border": null,
            "bottom": null,
            "display": null,
            "flex": null,
            "flex_flow": null,
            "grid_area": null,
            "grid_auto_columns": null,
            "grid_auto_flow": null,
            "grid_auto_rows": null,
            "grid_column": null,
            "grid_gap": null,
            "grid_row": null,
            "grid_template_areas": null,
            "grid_template_columns": null,
            "grid_template_rows": null,
            "height": null,
            "justify_content": null,
            "justify_items": null,
            "left": null,
            "margin": null,
            "max_height": null,
            "max_width": null,
            "min_height": null,
            "min_width": null,
            "object_fit": null,
            "object_position": null,
            "order": null,
            "overflow": null,
            "overflow_x": null,
            "overflow_y": null,
            "padding": null,
            "right": null,
            "top": null,
            "visibility": null,
            "width": null
          }
        },
        "716f11419c374ba9a1f3c3c4ecca97e4": {
          "model_module": "@jupyter-widgets/controls",
          "model_name": "DescriptionStyleModel",
          "model_module_version": "1.5.0",
          "state": {
            "_model_module": "@jupyter-widgets/controls",
            "_model_module_version": "1.5.0",
            "_model_name": "DescriptionStyleModel",
            "_view_count": null,
            "_view_module": "@jupyter-widgets/base",
            "_view_module_version": "1.2.0",
            "_view_name": "StyleView",
            "description_width": ""
          }
        },
        "eceb1f3c76a44cbe9a8229cdd1c16af9": {
          "model_module": "@jupyter-widgets/base",
          "model_name": "LayoutModel",
          "model_module_version": "1.2.0",
          "state": {
            "_model_module": "@jupyter-widgets/base",
            "_model_module_version": "1.2.0",
            "_model_name": "LayoutModel",
            "_view_count": null,
            "_view_module": "@jupyter-widgets/base",
            "_view_module_version": "1.2.0",
            "_view_name": "LayoutView",
            "align_content": null,
            "align_items": null,
            "align_self": null,
            "border": null,
            "bottom": null,
            "display": null,
            "flex": "2",
            "flex_flow": null,
            "grid_area": null,
            "grid_auto_columns": null,
            "grid_auto_flow": null,
            "grid_auto_rows": null,
            "grid_column": null,
            "grid_gap": null,
            "grid_row": null,
            "grid_template_areas": null,
            "grid_template_columns": null,
            "grid_template_rows": null,
            "height": null,
            "justify_content": null,
            "justify_items": null,
            "left": null,
            "margin": null,
            "max_height": null,
            "max_width": null,
            "min_height": null,
            "min_width": null,
            "object_fit": null,
            "object_position": null,
            "order": null,
            "overflow": null,
            "overflow_x": null,
            "overflow_y": null,
            "padding": null,
            "right": null,
            "top": null,
            "visibility": null,
            "width": null
          }
        },
        "1042dd77f8ab43d697711db1949a9e02": {
          "model_module": "@jupyter-widgets/controls",
          "model_name": "ProgressStyleModel",
          "model_module_version": "1.5.0",
          "state": {
            "_model_module": "@jupyter-widgets/controls",
            "_model_module_version": "1.5.0",
            "_model_name": "ProgressStyleModel",
            "_view_count": null,
            "_view_module": "@jupyter-widgets/base",
            "_view_module_version": "1.2.0",
            "_view_name": "StyleView",
            "bar_color": null,
            "description_width": ""
          }
        },
        "e41b50f944ca4059877f0abe9a68c3bd": {
          "model_module": "@jupyter-widgets/base",
          "model_name": "LayoutModel",
          "model_module_version": "1.2.0",
          "state": {
            "_model_module": "@jupyter-widgets/base",
            "_model_module_version": "1.2.0",
            "_model_name": "LayoutModel",
            "_view_count": null,
            "_view_module": "@jupyter-widgets/base",
            "_view_module_version": "1.2.0",
            "_view_name": "LayoutView",
            "align_content": null,
            "align_items": null,
            "align_self": null,
            "border": null,
            "bottom": null,
            "display": null,
            "flex": null,
            "flex_flow": null,
            "grid_area": null,
            "grid_auto_columns": null,
            "grid_auto_flow": null,
            "grid_auto_rows": null,
            "grid_column": null,
            "grid_gap": null,
            "grid_row": null,
            "grid_template_areas": null,
            "grid_template_columns": null,
            "grid_template_rows": null,
            "height": null,
            "justify_content": null,
            "justify_items": null,
            "left": null,
            "margin": null,
            "max_height": null,
            "max_width": null,
            "min_height": null,
            "min_width": null,
            "object_fit": null,
            "object_position": null,
            "order": null,
            "overflow": null,
            "overflow_x": null,
            "overflow_y": null,
            "padding": null,
            "right": null,
            "top": null,
            "visibility": null,
            "width": null
          }
        },
        "7f31cc77c1454a41b2a1164d526eb8b9": {
          "model_module": "@jupyter-widgets/controls",
          "model_name": "DescriptionStyleModel",
          "model_module_version": "1.5.0",
          "state": {
            "_model_module": "@jupyter-widgets/controls",
            "_model_module_version": "1.5.0",
            "_model_name": "DescriptionStyleModel",
            "_view_count": null,
            "_view_module": "@jupyter-widgets/base",
            "_view_module_version": "1.2.0",
            "_view_name": "StyleView",
            "description_width": ""
          }
        }
      }
    }
  },
  "nbformat": 4,
  "nbformat_minor": 0
}